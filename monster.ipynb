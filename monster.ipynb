{
 "metadata": {
  "name": "monster"
 },
 "nbformat": 3,
 "nbformat_minor": 0,
 "worksheets": [
  {
   "cells": [
    {
     "cell_type": "code",
     "collapsed": false,
     "input": [],
     "language": "python",
     "metadata": {},
     "outputs": [],
     "prompt_number": 8
    },
    {
     "cell_type": "code",
     "collapsed": false,
     "input": [
      "def get_monster_jobs2(position, location):\n",
      "    import mechanize\n",
      "    import cookielib\n",
      "    br = mechanize.Browser()\n",
      "    cj = cookielib.LWPCookieJar()\n",
      "    br.set_cookiejar(cj)\n",
      "    br.addheaders = [('User-Agent', 'Mozilla/5.0(X11; U; Linux i686; en-US; rv:1.9.0.1) Gecko/2008071615 Fedora/3.0.1-1.fc9 Firefox/3.0.1')]\n",
      "    br.set_debug_http(True)\n",
      "    br.set_debug_redirects(True)\n",
      "    br.set_handle_equiv(True)\n",
      "    br.set_handle_gzip(True)\n",
      "    br.set_handle_redirect(True)\n",
      "    br.set_handle_robots(False)\n",
      "    monster_api = 'http://jobsearch.monster.com/search/?q={0}&where={1}'\n",
      "    position = position.replace(' ', '-')\n",
      "    position = position.replace(',', '__2C')\n",
      "    location = location.replace(' ', '-')\n",
      "    location = location.replace(',', '__2C')\n",
      "    br.open(monster_api.format(position, location))\n",
      "    links = [i for i in br.links()]\n",
      "    jobs = []\n",
      "    start = links.index([e for e in links if e.text == 'Advanced Search'][0])\n",
      "    if len([e for e in links if e.text == 'Next']) > 0:\n",
      "        stop = links.index([j for j in links if j.text == 'Next'][0], start)\n",
      "    else:\n",
      "        stop = links.index([e for e in links if e.text == 'Resume Distribution'][0], start)\n",
      "\n",
      "    jobs += links[start:stop]\n",
      "    #first_page = [i for i in links if i.text =='1']\n",
      "    #end_page = [i for i in links if i.text =='Next']\n",
      "    while len([e for e in br.links() if e.text == 'Next']) > 0:\n",
      "        br.follow_link([e for e in br.links() if e.text == 'Next'][0])\n",
      "        current_links = [i for i in br.links()]\n",
      "        start_jobs = current_links.index([e for e in current_links if e.text == 'Advanced Search'][0])\n",
      "        stop_jobs = current_links.index([j for j in current_links if j.text == 'Previous'][0], start_jobs)\n",
      "        jobs += current_links[start_jobs:stop_jobs]\n",
      "    while len([i for i in jobs if ('class', 'slJobTitle') not in i.attrs]) > 0:\n",
      "        for e in jobs:\n",
      "            if ('class', 'slJobTitle fnt11') not in e.attrs and ('class', 'slJobTitle') not in e.attrs:\n",
      "                del jobs[jobs.index(e)]\n",
      "    return jobs\n"
     ],
     "language": "python",
     "metadata": {},
     "outputs": [],
     "prompt_number": 8
    },
    {
     "cell_type": "code",
     "collapsed": false,
     "input": [
      "chipy = get_monster_jobs2('kjfdakf', 'dlkfjadl;fjdlka')"
     ],
     "language": "python",
     "metadata": {},
     "outputs": [
      {
       "output_type": "stream",
       "stream": "stdout",
       "text": [
        "send: 'GET /search/?q=kjfdakf&where=dlkfjadl;fjdlka HTTP/1.1\\r\\nHost: jobsearch.monster.com\\r\\nUser-Agent: Mozilla/5.0(X11; U; Linux i686; en-US; rv:1.9.0.1) Gecko/2008071615 Fedora/3.0.1-1.fc9 Firefox/3.0.1\\r\\nConnection: close\\r\\nAccept-Encoding: gzip\\r\\n\\r\\n'\n",
        "reply:"
       ]
      },
      {
       "output_type": "stream",
       "stream": "stdout",
       "text": [
        " 'HTTP/1.1 200 OK\\r\\n'\n",
        "header: Cache-Control: no-cache\r\n",
        "header: Pragma: no-cache\r\n",
        "header: Content-Type: text/html; charset=utf-8\r\n",
        "header: Expires: -1\r\n",
        "header: Server: Microsoft-IIS/7.5\r\n",
        "header: X-AspNet-Version: 4.0.30319\r\n",
        "header: Set-Cookie: ASP.NET_SessionId=al4jbd5gj42otmymppo1iqlj; domain=.monster.com; path=/; HttpOnly\r\n",
        "header: Set-Cookie: 58_JSRadius=20; domain=.monster.com; path=/\r\n",
        "header: Set-Cookie: SortBy=rv.di.dt; domain=.monster.com; expires=Sat, 19-Apr-2014 15:46:06 GMT; path=/\r\n",
        "header: Set-Cookie: jsResultsCount=q%3dkjfdakf%26where%3ddlkfjadl%3bfjdlka%26brd%3d1%26tcount%3d0%26lcount%3d0; domain=.monster.com; expires=Sat, 19-Apr-2014 15:46:06 GMT; path=/\r\n",
        "header: Set-Cookie: jsCrit=q%3dkjfdakf%26where%3ddlkfjadl%3bfjdlka%26brd%3d1%26ispowersearch%3d1; domain=.monster.com; expires=Sat, 19-Apr-2014 15:46:06 GMT; path=/\r\n",
        "header: Set-Cookie: split_scsjsv=39; domain=.monster.com; expires=Sat, 19-Apr-2014 15:46:06 GMT; path=/\r\n",
        "header: Set-Cookie: scsjsv=1; domain=.monster.com; expires=Sat, 19-Apr-2014 15:46:06 GMT; path=/\r\n",
        "header: Set-Cookie: JSRTimeStamp=635019651668544881; domain=.monster.com; path=/\r\n",
        "header: Set-Cookie: NumberOfJSR=1; domain=.monster.com; path=/\r\n",
        "header: Set-Cookie: uslc=1; domain=.monster.com; expires=Fri, 26-Apr-2013 15:46:06 GMT; path=/\r\n",
        "header: Set-Cookie: split_ssljsv=39; domain=.monster.com; expires=Sat, 19-Apr-2014 15:46:06 GMT; path=/\r\n",
        "header: Set-Cookie: ssljsv=1; domain=.monster.com; expires=Sat, 19-Apr-2014 15:46:06 GMT; path=/\r\n",
        "header: Set-Cookie: ssljsv=1; domain=.monster.com; expires=Sat, 19-Apr-2014 15:46:06 GMT; path=/\r\n",
        "header: Set-Cookie: wtspc=5; domain=.monster.com; expires=Sun, 19-May-2013 15:46:06 GMT; path=/\r\n",
        "header: Set-Cookie: TC_Top=; expires=Wed, 20-Mar-2013 15:46:06 GMT; path=/\r\n",
        "header: Set-Cookie: TC_Bottom=; expires=Wed, 20-Mar-2013 15:46:06 GMT; path=/\r\n",
        "header: Set-Cookie: TC_Head=; expires=Wed, 20-Mar-2013 15:46:06 GMT; path=/\r\n",
        "header: X-Powered-By: ASP.NET\r\n",
        "header: P3P: CP=CAO DSP COR CURa ADMa DEVa TAIa IVAa IVDa CONo HISa TELo PSAa PSDa DELa UNRa PUBi OTRa BUS LEG PHY ONL UNI PUR COM NAV INT DEM CNT STA HEA PRE GOV OTC\r\n",
        "header: Date: Fri, 19 Apr 2013 15:46:07 GMT\r\n",
        "header: Content-Length: 30520\r\n",
        "header: Connection: Keep-Alive\r\n",
        "header: Vary: Accept-Encoding\r\n",
        "header: Content-Encoding: gzip\r\n"
       ]
      }
     ],
     "prompt_number": 9
    },
    {
     "cell_type": "code",
     "collapsed": false,
     "input": [
      "for i in chipy:\n",
      "    print i.text"
     ],
     "language": "python",
     "metadata": {},
     "outputs": [],
     "prompt_number": 10
    },
    {
     "cell_type": "code",
     "collapsed": false,
     "input": [],
     "language": "python",
     "metadata": {},
     "outputs": []
    }
   ],
   "metadata": {}
  }
 ]
}