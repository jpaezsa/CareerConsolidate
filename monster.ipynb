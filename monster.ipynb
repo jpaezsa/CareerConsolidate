{
 "metadata": {
  "name": "monster"
 },
 "nbformat": 3,
 "nbformat_minor": 0,
 "worksheets": [
  {
   "cells": [
    {
     "cell_type": "code",
     "collapsed": false,
     "input": [
      "import mechanize\n",
      "import cookielib\n",
      "br = mechanize.Browser()\n",
      "cj = cookielib.LWPCookieJar()\n",
      "br.set_cookiejar(cj)\n",
      "br.addheaders = [('User-Agent', 'Mozilla/5.0(X11; U; Linux i686; en-US; rv:1.9.0.1) Gecko/2008071615 Fedora/3.0.1-1.fc9 Firefox/3.0.1')]\n",
      "br.set_debug_http(True)\n",
      "br.set_debug_redirects(True)\n",
      "br.set_handle_equiv(True)\n",
      "br.set_handle_gzip(True)\n",
      "br.set_handle_redirect(True)\n",
      "br.set_handle_robots(False)"
     ],
     "language": "python",
     "metadata": {},
     "outputs": [
      {
       "output_type": "stream",
       "stream": "stderr",
       "text": [
        "-c:10: UserWarning: gzip transfer encoding is experimental!\n"
       ]
      }
     ],
     "prompt_number": 1
    },
    {
     "cell_type": "code",
     "collapsed": false,
     "input": [
      "def get_monster_jobs(position, location):\n",
      "    import mechanize\n",
      "    import cookielib\n",
      "    br = mechanize.Browser()\n",
      "    cj = cookielib.LWPCookieJar()\n",
      "    br.set_cookiejar(cj)\n",
      "    br.addheaders = [('User-Agent', 'Mozilla/5.0(X11; U; Linux i686; en-US; rv:1.9.0.1) Gecko/2008071615 Fedora/3.0.1-1.fc9 Firefox/3.0.1')]\n",
      "    br.set_debug_http(True)\n",
      "    br.set_debug_redirects(True)\n",
      "    br.set_handle_equiv(True)\n",
      "    br.set_handle_gzip(True)\n",
      "    br.set_handle_redirect(True)\n",
      "    br.set_handle_robots(False)\n",
      "    monster_api = 'http://jobsearch.monster.com/search/?q={0}&where={1}'\n",
      "    position = position.replace(' ', '-')\n",
      "    position = position.replace(',', '__2C')\n",
      "    location = location.replace(' ', '-')\n",
      "    location = location.replace(',', '__2C')\n",
      "    br.open(monster_api.format(position, location))\n",
      "    links = [i for i in br.links()]\n",
      "    jobs = []\n",
      "    first_page = [i for i in links if i.text =='1']\n",
      "    end_page = [i for i in links if i.text =='Next']\n",
      "    if len(first_page) == 0:\n",
      "        start_jobs = links.index([i for i in links if i.text == 'Advanced Search'][0]) + 1\n",
      "        stop = links.index([i for i in links if i.text == '(Hiring Now) Local Jobs'][0]) - 2\n",
      "        jobs += links[start_jobs:stop]\n",
      "    else:\n",
      "        start_jobs = links.index([i for i in links if i.text == 'Advanced Search'][0]) + 1\n",
      "        stop = links.index([i for i in links if i.text == '1'][0])\n",
      "        jobs += links[start_jobs:stop]\n",
      "        pages = links[links.index(first_page[0]): links.index(end_page[0])]\n",
      "        del pages[0]\n",
      "        if len(pages) > 0:\n",
      "            for i in pages:\n",
      "                br.follow_link(i)\n",
      "                current_links = [e for e in br.links()]\n",
      "                start_jobs = current_links.index([i for i in current_links if i.text == 'Advanced Search'][0]) + 1\n",
      "                #stop_jobs = current_links.index([i for i in current_links if i.text == '(Hiring Now) Local Jobs'][0]) - 2\n",
      "                to_parse = current_links[start_jobs:]\n",
      "    while len([i for i in jobs if ('class', 'slJobTitle fnt11') not in i.attrs or ('class', 'slJobTitle') not in i.attrs]) > 0:\n",
      "        for e in jobs:\n",
      "            if ('class', 'slJobTitle fnt11') not in e.attrs and ('class', 'slJobTitle') not in e.attrs:\n",
      "                del jobs[jobs.index(e)]\n",
      "    return jobs"
     ],
     "language": "python",
     "metadata": {},
     "outputs": [],
     "prompt_number": 19
    },
    {
     "cell_type": "code",
     "collapsed": false,
     "input": [
      "chipy = get_monster_jobs('python developer', 'Chicago, IL')"
     ],
     "language": "python",
     "metadata": {},
     "outputs": [
      {
       "output_type": "stream",
       "stream": "stdout",
       "text": [
        "send: 'GET /search/?q=python-developer&where=Chicago__2C-IL HTTP/1.1\\r\\nHost: jobsearch.monster.com\\r\\nUser-Agent: Mozilla/5.0(X11; U; Linux i686; en-US; rv:1.9.0.1) Gecko/2008071615 Fedora/3.0.1-1.fc9 Firefox/3.0.1\\r\\nConnection: close\\r\\nAccept-Encoding: gzip\\r\\n\\r\\n'\n",
        "reply:"
       ]
      },
      {
       "output_type": "stream",
       "stream": "stdout",
       "text": [
        " 'HTTP/1.1 200 OK\\r\\n'\n",
        "header: Cache-Control: no-cache\r\n",
        "header: Pragma: no-cache\r\n",
        "header: Content-Type: text/html; charset=utf-8\r\n",
        "header: Expires: -1\r\n",
        "header: Server: Microsoft-IIS/7.5\r\n",
        "header: X-AspNet-Version: 4.0.30319\r\n",
        "header: Set-Cookie: ASP.NET_SessionId=cfw0fn1f55m5qbuy1vrqynpv; domain=.monster.com; path=/; HttpOnly\r\n",
        "header: Set-Cookie: 58_JSRadius=20; domain=.monster.com; path=/\r\n",
        "header: Set-Cookie: SortBy=rv.di.dt; domain=.monster.com; expires=Thu, 17-Apr-2014 21:22:26 GMT; path=/\r\n",
        "header: Set-Cookie: jsResultsCount=q%3dpython%2520developer%26where%3dChicago%252c%2520IL%26brd%3d1%26tcount%3d20%26lcount%3d2; domain=.monster.com; expires=Thu, 17-Apr-2014 21:22:26 GMT; path=/\r\n",
        "header: Set-Cookie: jsCrit=q%3dpython%2520developer%26where%3dChicago%252c%2520IL%26brd%3d1%26ispowersearch%3d1; domain=.monster.com; expires=Thu, 17-Apr-2014 21:22:26 GMT; path=/\r\n",
        "header: Set-Cookie: split_scsjsv=6; domain=.monster.com; expires=Thu, 17-Apr-2014 21:22:26 GMT; path=/\r\n",
        "header: Set-Cookie: scsjsv=1; domain=.monster.com; expires=Thu, 17-Apr-2014 21:22:26 GMT; path=/\r\n",
        "header: Set-Cookie: JSRTimeStamp=635018125465427995; domain=.monster.com; path=/\r\n",
        "header: Set-Cookie: NumberOfJSR=1; domain=.monster.com; path=/\r\n",
        "header: Set-Cookie: uslc=1; domain=.monster.com; expires=Wed, 24-Apr-2013 21:22:26 GMT; path=/\r\n",
        "header: Set-Cookie: split_ssljsv=6; domain=.monster.com; expires=Thu, 17-Apr-2014 21:22:26 GMT; path=/\r\n",
        "header: Set-Cookie: ssljsv=1; domain=.monster.com; expires=Thu, 17-Apr-2014 21:22:26 GMT; path=/\r\n",
        "header: Set-Cookie: ssljsv=1; domain=.monster.com; expires=Thu, 17-Apr-2014 21:22:26 GMT; path=/\r\n",
        "header: Set-Cookie: wtspc=5; domain=.monster.com; expires=Fri, 17-May-2013 21:22:26 GMT; path=/\r\n",
        "header: Set-Cookie: TC_Top=; expires=Mon, 18-Mar-2013 21:22:26 GMT; path=/\r\n",
        "header: Set-Cookie: TC_Bottom=; expires=Mon, 18-Mar-2013 21:22:26 GMT; path=/\r\n",
        "header: Set-Cookie: TC_Head=; expires=Mon, 18-Mar-2013 21:22:26 GMT; path=/\r\n",
        "header: X-Powered-By: ASP.NET\r\n",
        "header: P3P: CP=CAO DSP COR CURa ADMa DEVa TAIa IVAa IVDa CONo HISa TELo PSAa PSDa DELa UNRa PUBi OTRa BUS LEG PHY ONL UNI PUR COM NAV INT DEM CNT STA HEA PRE GOV OTC\r\n",
        "header: Date: Wed, 17 Apr 2013 21:22:26 GMT\r\n",
        "header: Content-Length: 40269\r\n",
        "header: Connection: Keep-Alive\r\n",
        "header: Vary: Accept-Encoding\r\n",
        "header: Content-Encoding: gzip\r\n",
        "send:"
       ]
      },
      {
       "output_type": "stream",
       "stream": "stdout",
       "text": [
        " 'GET /search/Illinois+Chicago_12?q=python-developer&pg=2&where=Chicago__2c-IL&rad=20-miles HTTP/1.1\\r\\nAccept-Encoding: gzip\\r\\nHost: jobsearch.monster.com\\r\\nUser-Agent: Mozilla/5.0(X11; U; Linux i686; en-US; rv:1.9.0.1) Gecko/2008071615 Fedora/3.0.1-1.fc9 Firefox/3.0.1\\r\\nConnection: close\\r\\nCookie: split_ssljsv=6; 58_JSRadius=20; JSRTimeStamp=635018125465427995; split_scsjsv=6; jsCrit=q%3dpython%2520developer%26where%3dChicago%252c%2520IL%26brd%3d1%26ispowersearch%3d1; ASP.NET_SessionId=cfw0fn1f55m5qbuy1vrqynpv; ssljsv=1; NumberOfJSR=1; jsResultsCount=q%3dpython%2520developer%26where%3dChicago%252c%2520IL%26brd%3d1%26tcount%3d20%26lcount%3d2; SortBy=rv.di.dt; wtspc=5; scsjsv=1; uslc=1\\r\\nReferer: http://jobsearch.monster.com/search/?q=python-developer&where=Chicago__2C-IL\\r\\n\\r\\n'\n",
        "reply:"
       ]
      },
      {
       "output_type": "stream",
       "stream": "stdout",
       "text": [
        " 'HTTP/1.1 200 OK\\r\\n'\n",
        "header: Cache-Control: no-cache\r\n",
        "header: Pragma: no-cache\r\n",
        "header: Content-Type: text/html; charset=utf-8\r\n",
        "header: Expires: -1\r\n",
        "header: Server: Microsoft-IIS/7.5\r\n",
        "header: X-AspNet-Version: 4.0.30319\r\n",
        "header: Set-Cookie: 58_JSRadius=20; domain=.monster.com; path=/\r\n",
        "header: Set-Cookie: SortBy=rv.di.dt; domain=.monster.com; expires=Thu, 17-Apr-2014 21:22:26 GMT; path=/\r\n",
        "header: Set-Cookie: jsResultsCount=q%3dpython%2520developer%26pg%3d2%26where%3dChicago%252c%2520IL%26rad%3d20%26stct%3dChicago%252cIllinois%26brd%3d1%26tcount%3d20%26lcount%3d2; domain=.monster.com; expires=Thu, 17-Apr-2014 21:22:26 GMT; path=/\r\n",
        "header: Set-Cookie: jsCrit=q%3dpython%2520developer%26pg%3d2%26where%3dChicago%252c%2520IL%26rad%3d20%26stct%3dChicago%252cIllinois%26brd%3d1%26ispowersearch%3d1; domain=.monster.com; expires=Thu, 17-Apr-2014 21:22:26 GMT; path=/\r\n",
        "header: Set-Cookie: scsjsv=1; domain=.monster.com; expires=Thu, 17-Apr-2014 21:22:26 GMT; path=/\r\n",
        "header: Set-Cookie: JSRTimeStamp=635018125465852008; domain=.monster.com; path=/\r\n",
        "header: Set-Cookie: NumberOfJSR=2; domain=.monster.com; path=/\r\n",
        "header: Set-Cookie: uslc=1; domain=.monster.com; expires=Wed, 24-Apr-2013 21:22:26 GMT; path=/\r\n",
        "header: Set-Cookie: ssljsv=1; domain=.monster.com; expires=Thu, 17-Apr-2014 21:22:26 GMT; path=/\r\n",
        "header: Set-Cookie: ssljsv=1; domain=.monster.com; expires=Thu, 17-Apr-2014 21:22:26 GMT; path=/\r\n",
        "header: Set-Cookie: TC_Top=; expires=Mon, 18-Mar-2013 21:22:26 GMT; path=/\r\n",
        "header: Set-Cookie: TC_Bottom=; expires=Mon, 18-Mar-2013 21:22:26 GMT; path=/\r\n",
        "header: Set-Cookie: TC_Head=; expires=Mon, 18-Mar-2013 21:22:26 GMT; path=/\r\n",
        "header: X-Powered-By: ASP.NET\r\n",
        "header: P3P: CP=CAO DSP COR CURa ADMa DEVa TAIa IVAa IVDa CONo HISa TELo PSAa PSDa DELa UNRa PUBi OTRa BUS LEG PHY ONL UNI PUR COM NAV INT DEM CNT STA HEA PRE GOV OTC\r\n",
        "header: Date: Wed, 17 Apr 2013 21:22:26 GMT\r\n",
        "header: Content-Length: 34773\r\n",
        "header: Connection: Keep-Alive\r\n",
        "header: Vary: Accept-Encoding\r\n",
        "header: Content-Encoding: gzip\r\n"
       ]
      }
     ],
     "prompt_number": 20
    },
    {
     "cell_type": "code",
     "collapsed": false,
     "input": [
      "for i in chipy:\n",
      "    print i.text"
     ],
     "language": "python",
     "metadata": {},
     "outputs": [
      {
       "output_type": "stream",
       "stream": "stdout",
       "text": [
        "Back-End Python Developer - Back-End, Python, RDBMS, MySQL\n",
        "Mongo DB developer\n",
        "DevOps Engineer - FullStack Web API Development, Open Source...\n",
        "CTO - Established E-Commerce Company\n",
        "PHP Developer for global software company - Move to Thailan...\n",
        "Software (Web) Developer\n",
        "Java Developer/Build, Release\n",
        "Applications Developer\n",
        "Senior Systems Analyst, Collections\n",
        "Python Engineer - Python, PHP, Django - Chicago, IL\n",
        "Data Analytics Engineer\n",
        "Lead Software Developer in Test\n",
        "PHP Architect - PHP, LAMP, Architecture\n",
        "PHP / MySQL Developer with a passion for technology\n",
        "PHP Developer - PHP, Linux, Apache\n",
        "Software Development Team Leader/Technical Manager \u2013 Front E...\n",
        "Web Developer\n",
        "iOS (.NET) Lead Developer\n",
        "Software Developer - Good in Perl or willing to learn?\n",
        "Senior Software Engineer\n"
       ]
      }
     ],
     "prompt_number": 22
    },
    {
     "cell_type": "code",
     "collapsed": false,
     "input": [],
     "language": "python",
     "metadata": {},
     "outputs": []
    }
   ],
   "metadata": {}
  }
 ]
}