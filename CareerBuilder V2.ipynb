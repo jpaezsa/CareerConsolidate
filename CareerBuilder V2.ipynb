{
 "metadata": {
  "name": "CareerBuilder V2"
 },
 "nbformat": 3,
 "nbformat_minor": 0,
 "worksheets": [
  {
   "cells": [
    {
     "cell_type": "code",
     "collapsed": false,
     "input": [
      "def careerbuilder_v2(position, location):\n",
      "    import urllib2\n",
      "    jobs = {}\n",
      "    api = 'http://www.careerbuilder.com/Jobseeker/Jobs/JobResults.aspx?IPath=QH&qb=1&s_rawwords={0}&s_freeloc={1}&s_jobtypes=ALL'\n",
      "    pages_api = 'http://www.careerbuilder.com/Jobseeker/Jobs/JobResults.aspx?excrit=freeLoc%3d{0}%3bQID%3dA6660204858735%3bst%3da%3buse%3dALL%3brawWords%3d{1}%3bCID%3dUS%3bSID%3d%3f%3bTID%3d0%3bENR%3dNO%3bDTP%3dDRNS%3bYDI%3dYES%3bIND%3dALL%3bPDQ%3dAll%3bPDQ%3dAll%3bPAYL%3d0%3bPAYH%3dgt120%3bPOY%3dNO%3bETD%3dALL%3bRE%3dALL%3bMGT%3dDC%3bSUP%3dDC%3bFRE%3d30%3bCHL%3dAL%3bQS%3dsid_unknown%3bSS%3dNO%3bTITL%3d0%3bOB%3d-relv%3bJQT%3dRAD%3bJDV%3dFalse%3bMaxLowExp%3d-1%3bRecsPerPage%3d25&pg={2}&IPath=QHKV'\n",
      "    position = position.replace(' ', '+')\n",
      "    location = location.replace(',', '%2C')\n",
      "    location = location.replace(' ', '+')\n",
      "    formatted = api.format(position, location)\n",
      "    f = urllib2.urlopen(formatted)\n",
      "    f1 = f.read().split('\\n')\n",
      "    f1 = [i.split('\\r') for i in f1]\n",
      "    page = 1\n",
      "    if len([e for e in f1 if 'class=\"jt prefTitle\"' in e[0]]) > 0:\n",
      "        # eliminate erroneous pages\n",
      "        index_of_pages = [f1.index(e) for e in f1 if 'class=\"jobresults_count\"' in e[0]][0]+2\n",
      "        stuff = f1[index_of_pages][0]\n",
      "        stuff = ''.join([e for e in stuff if not e.isspace()])\n",
      "        one = stuff.find('-')\n",
      "        first_num = int(stuff[0:one])\n",
      "        two = stuff.find('of')+2\n",
      "        three = stuff.find('jobs')\n",
      "        second_num = int(stuff[two:three])\n",
      "        while second_num > first_num:\n",
      "     \n",
      "        #while len([e for e in f1 if 'class=\"jt prefTitle\"' in e[0]]) > 0:\n",
      "            indexes = [f1.index(e) for e in f1 if 'class=\"jt prefTitle\"' in e[0]]\n",
      "            # link stuff\n",
      "            for cur in range(len(indexes)):\n",
      "                index = indexes[cur] \n",
      "                first = f1[index][0]\n",
      "                one = first.find('href=')+6\n",
      "                two = first.find('>', one)\n",
      "                link = first[one:two-1]\n",
      "                # title\n",
      "                three = first.find('</a>', two)\n",
      "                title = first[two+1:three]\n",
      "                # company stuff\n",
      "                comp = f1[index + 33][0]\n",
      "                one_2 = comp.find('href')\n",
      "                two_2 = comp.find('>', one_2)+1\n",
      "                three_2 = comp.find('</a>', two_2)\n",
      "                company = comp[two_2:three_2]\n",
      "                # duration posted\n",
      "                if index != indexes[len(indexes)-1]:\n",
      "                    current = f1[index:indexes[cur+1]]\n",
      "                else:\n",
      "                    current = f1[index:]\n",
      "                dur_loc = [f1.index(e) for e in current if 'class=\"jl_rslt_posted_cell\"' in e[0]][0]\n",
      "                dur = f1[dur_loc][0]\n",
      "                #dur = f1[index + 38][0]\n",
      "                one_3 = dur.find('title=')\n",
      "                two_3 = dur.find('>', one_3)+1\n",
      "                three_3 = dur.find('</span>', two_3)\n",
      "                duration = dur[two_3:three_3]\n",
      "                # make dictionary\n",
      "                jobs[link] = [title, company, duration]\n",
      "            page += 1\n",
      "            new_formatted = pages_api.format(location, position, page)\n",
      "            f = urllib2.urlopen(new_formatted)\n",
      "            f1 = f.read().split('\\n')\n",
      "            f1 = [i.split('\\r') for i in f1]\n",
      "            index_of_pages = [f1.index(e) for e in f1 if 'class=\"jobresults_count\"' in e[0]][0]+2\n",
      "            stuff = f1[index_of_pages][0]\n",
      "            stuff = ''.join([e for e in stuff if not e.isspace()])\n",
      "            one = stuff.find('-')\n",
      "            first_num = int(stuff[0:one])\n",
      "            two = stuff.find('of')+2\n",
      "            three = stuff.find('jobs')\n",
      "            second_num = int(stuff[two:three])\n",
      "    else:\n",
      "        jobs = {}\n",
      "    return jobs\n",
      "                "
     ],
     "language": "python",
     "metadata": {},
     "outputs": [],
     "prompt_number": 46
    },
    {
     "cell_type": "code",
     "collapsed": false,
     "input": [
      "test = careerbuilder_v2('python developer', 'Saint Louis, MO')"
     ],
     "language": "python",
     "metadata": {},
     "outputs": [],
     "prompt_number": 40
    },
    {
     "cell_type": "code",
     "collapsed": false,
     "input": [
      "for i in test.keys():\n",
      "    print test[i]"
     ],
     "language": "python",
     "metadata": {},
     "outputs": [
      {
       "output_type": "stream",
       "stream": "stdout",
       "text": [
        "('C/C++ Programmer (Software Defined Networking)', '                                           ', '3 Weeks Ago')\n",
        "('SOFTWARE ENGINEER (Java)', '                                           ', '3 Weeks Ago')\n",
        "('C/C++ Programmer (Software Defined Networking)', '                                           ', '3 Weeks Ago')\n",
        "('SOFTWARE ENGINEER (Java)', '                                           ', '3 Weeks Ago')\n",
        "('C/C++ Programmer (Software Defined Networking)', '                                           ', '2 Weeks Ago')\n",
        "('Java Developer / Perl /  Python / Software Engineer', '                                           ', '3 Weeks Ago')\n"
       ]
      }
     ],
     "prompt_number": 41
    },
    {
     "cell_type": "code",
     "collapsed": false,
     "input": [
      "test2 = careerbuilder_v2('python developer', 'Milwaukee, WI')"
     ],
     "language": "python",
     "metadata": {},
     "outputs": [],
     "prompt_number": 42
    },
    {
     "cell_type": "code",
     "collapsed": false,
     "input": [
      "for i in test2:\n",
      "    print test2[i]"
     ],
     "language": "python",
     "metadata": {},
     "outputs": [
      {
       "output_type": "stream",
       "stream": "stdout",
       "text": [
        "('C/C++ Programmer (Software Defined Networking)', '                                           ', '3 Weeks Ago')\n",
        "('C/C++ Programmer (Software Defined Networking)', '                                           ', '3 Weeks Ago')\n",
        "('C/C++ Programmer (Software Defined Networking)', '                                           ', '2 Weeks Ago')\n",
        "('NGS Developer II Sensitive or Senior 66411', 'National Government Services', '1 Week Ago')\n"
       ]
      }
     ],
     "prompt_number": 43
    },
    {
     "cell_type": "code",
     "collapsed": false,
     "input": [
      "test3 = careerbuilder_v2('python developer', 'Chicago, IL')"
     ],
     "language": "python",
     "metadata": {},
     "outputs": [],
     "prompt_number": 44
    },
    {
     "cell_type": "code",
     "collapsed": false,
     "input": [
      "for i in test3:\n",
      "    print test3[i]"
     ],
     "language": "python",
     "metadata": {},
     "outputs": [
      {
       "output_type": "stream",
       "stream": "stdout",
       "text": [
        "('Lead Developer/Web Architech', 'Interactive Data', '3 Weeks Ago')\n",
        "('Front End Developer', 'Robert Half Technology', '6 Days Ago')\n",
        "('UX Developer', 'Zebra Technologies', '4 Days Ago')\n",
        "('C++ / JS Developer (All Excellence, No Politics, $100K+)', '                                           ', '1 Week Ago')\n",
        "('Open Source Developer \\xe2\\x80\\x93 Big Data', 'TEKsystems, Inc', '3 Days Ago')\n",
        "('Backend Developer', 'MCS Global', '3 Weeks Ago')\n",
        "('Python Developer', 'Randstad Technologies', '1 Week Ago')\n",
        "('JAVA DEVELOPER', '                                           ', '3 Weeks Ago')\n",
        "('Java Developer', '                                           ', '1 Week Ago')\n",
        "('iOS Mobile Application Developer', 'CultureFit Technology Staffing', '2 Weeks Ago')\n",
        "('CIB Tech - Electronic Trading - C++ Developer - VP or Associate - Chicago', '', '5 Days Ago')\n",
        "('Software Developer - up to $120K!', 'Digital Staffing', '1 Week Ago')\n",
        "('Testing Software Developer', 'Abacus Talent', '5 Days Ago')\n",
        "('Software Engineer', '                                           ', '1 Week Ago')\n",
        "('DevOps Engineer', '                                           ', '1 Week Ago')\n",
        "('Front-End Developer / Digital Producer', '                                           ', '2 Weeks Ago')\n",
        "('C/C++ Programmer (Software Defined Networking)', '                                           ', '2 Weeks Ago')\n",
        "('Database Developer', '                                           ', '1 Week Ago')\n",
        "('C/C++ Programmer (Software Defined Networking)', '                                           ', '3 Weeks Ago')\n",
        "('Java Developer', '', '3 Weeks Ago')\n",
        "('Oracle PL/SQL Developer', '                                           ', '1 Week Ago')\n",
        "('Web Developer/Designer', '                                           ', '1 Week Ago')\n",
        "('Big Data Developer', 'TEKsystems, Inc', 'Today')\n",
        "('Senior Agile Test Engineer', '', '1 Week Ago')\n",
        "('Linux Systems Admin', 'Trading Technologies', '6 Days Ago')\n",
        "('Web Application Developer 1', '                                           ', '3 Weeks Ago')\n",
        "('Sr Software Developer-Java', '                                           ', '2 Weeks Ago')\n",
        "('Python Web Developer', 'Modis', '5 Days Ago')\n",
        "('Salesforce.com Director', 'PwC', '3 Weeks Ago')\n",
        "('Application Developer', 'SymphonyIRI Group', '1 Week Ago')\n",
        "('C/C++ Programmer (Software Defined Networking)', '                                           ', '3 Weeks Ago')\n",
        "('Front-End Developer / Digital Producer', '                                           ', '2 Weeks Ago')\n",
        "('Data Modeler - Cars.com (3802)', '', '2 Weeks Ago')\n",
        "('Principal Software Test Engineer', '', '4 Days Ago')\n",
        "('Web Developer', '                                           ', '3 Weeks Ago')\n",
        "('iOS Developer', '                                           ', '2 Weeks Ago')\n"
       ]
      }
     ],
     "prompt_number": 45
    },
    {
     "cell_type": "code",
     "collapsed": false,
     "input": [],
     "language": "python",
     "metadata": {},
     "outputs": []
    }
   ],
   "metadata": {}
  }
 ]
}