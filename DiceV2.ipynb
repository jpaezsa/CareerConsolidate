{
 "metadata": {
  "name": "DiceV2"
 },
 "nbformat": 3,
 "nbformat_minor": 0,
 "worksheets": [
  {
   "cells": [
    {
     "cell_type": "code",
     "collapsed": false,
     "input": [
      "# the dice algorithm requires zip codes for locations, and rather than typing out some\n",
      "# potentially causing error or ambiguity I just used mechanize to take the user's\n",
      "# specifically entered location, manually fill the form and then use urllib2 from then on\n",
      "def Dice_v2(position, location):\n",
      "    jobs = {}\n",
      "    import urllib2\n",
      "    import mechanize\n",
      "    import cookielib\n",
      "    cj = cookielib.LWPCookieJar()\n",
      "    br = mechanize.Browser()\n",
      "    br.addheaders = [('User-Agent', 'Mozilla/5.0(X11; U; Linux i686; en-US; rv:1.9.0.1) Gecko/2008071615 Fedora/3.0.1-1.fc9 Firefox/3.0.1')]\n",
      "    br.set_debug_http(True)\n",
      "    br.set_debug_redirects(True)\n",
      "    br.set_handle_equiv(True)\n",
      "    br.set_handle_gzip(True)\n",
      "    br.set_handle_redirect(True)\n",
      "    br.set_handle_robots(False)\n",
      "    br.open('http://www.dice.com')\n",
      "    br.select_form(nr=0)\n",
      "    br.form['FREE_TEXT'] = position\n",
      "    br.form['WHERE'] = location\n",
      "    br.submit()\n",
      "    f1 = br.response().read().split('\\n')\n",
      "    # add 30 to \"o\" each time\n",
      "    url = br.geturl()\n",
      "    front = url[0:url.find('q=')]\n",
      "    back = url[url.find('q='):]\n",
      "    new = front + 'o={0}&' + back\n",
      "    #\n",
      "    count = 0\n",
      "    origin_url = 'http://www.dice.com'\n",
      "    if len([e for e in f1 if '<tr class=\"STDsrRes\">' in e]) > 0:\n",
      "        while len([e for e in f1 if '<tr class=\"STDsrRes\">' in e]) > 0:\n",
      "            indexes = [f1.index([e for e in f1 if '<tr class=\"STDsrRes\">' in e][0])]\n",
      "            # make the index\n",
      "            #while f1.index([e for e in f1 if '<tr class=\"STDsrRes\">' in e][0], indexes[len(indexes)-1]+1):\n",
      "            while len([e for e in f1[indexes[len(indexes)-1]+1:] if '<tr class=\"STDsrRes\">' in e]) > 0:\n",
      "                indexes.append(f1.index([e for e in f1 if '<tr class=\"STDsrRes\">' in e][0], indexes[len(indexes)-1]+1))\n",
      "            for index in indexes:\n",
      "                # link\n",
      "                loc = index + 16\n",
      "                cur = f1[index+16]\n",
      "                start = cur.find('\"')+1\n",
      "                stop = cur.find('\"', start+1)\n",
      "                link = origin_url + cur[start:stop]\n",
      "                # job title\n",
      "                start_T = stop+2\n",
      "                stop_T = cur.find('</a>')\n",
      "                job_title = cur[start_T:stop_T]\n",
      "                # company\n",
      "                comp = f1[index + 22]\n",
      "                start = comp.find('>')+1\n",
      "                stop = comp.find('</a>')\n",
      "                company = comp[start:stop]\n",
      "                # duration posted\n",
      "                dur = f1[index + 36]\n",
      "                start = dur.find('>')+1\n",
      "                stop = dur.find('</td>')\n",
      "                duration = dur[start:stop]\n",
      "                # add to dict\n",
      "                jobs[link] = [job_title, company, duration]\n",
      "            count += 30\n",
      "            formatted = new.format(count)\n",
      "            f1 = urllib2.urlopen(formatted).read().split('\\n')\n",
      "    else:\n",
      "        jobs = {}\n",
      "    return jobs"
     ],
     "language": "python",
     "metadata": {},
     "outputs": [],
     "prompt_number": 15
    },
    {
     "cell_type": "code",
     "collapsed": false,
     "input": [
      "test = Dice_v2('python developer', 'Chicago, IL')"
     ],
     "language": "python",
     "metadata": {},
     "outputs": [
      {
       "output_type": "stream",
       "stream": "stdout",
       "text": [
        "send: 'GET / HTTP/1.1\\r\\nHost: www.dice.com\\r\\nUser-Agent: Mozilla/5.0(X11; U; Linux i686; en-US; rv:1.9.0.1) Gecko/2008071615 Fedora/3.0.1-1.fc9 Firefox/3.0.1\\r\\nConnection: close\\r\\nAccept-Encoding: gzip\\r\\n\\r\\n'\n",
        "reply:"
       ]
      },
      {
       "output_type": "stream",
       "stream": "stdout",
       "text": [
        " 'HTTP/1.1 200 OK\\r\\n'\n",
        "header: Server: Apache\r\n",
        "header: Vary: Accept-Encoding\r\n",
        "header: Content-Type: text/html; charset=ISO-8859-1\r\n",
        "header: Content-Encoding: gzip\r\n",
        "header: P3P: CP=\"ALL ADMi DEVi PSA CONi OUR DELi SAMi BUS NAV COM CNT ONL INT PHY DEM UNI\"\r\n",
        "header: Date: Thu, 25 Apr 2013 03:17:45 GMT\r\n",
        "header: Keep-Alive: timeout=5, max=96\r\n",
        "header: Connection: close\r\n",
        "header: Set-Cookie: MERCURYDCSP=dC2rR4gZrvQ2nK1vWQ6TS16T0PLskZTbTkNMJ1rhGcWydx6bHPhY!-162947553!-810202223; domain=.dice.com; path=/; HttpOnly\r\n",
        "header: Set-Cookie: REL_CODE=1102; domain=.dice.com; path=/\r\n",
        "header: Set-Cookie: VISIT50322=078e8cd2a3332a89c187c0c6e43d6c00; domain=.dice.com; expires=Saturday, 25-Apr-2015 03:17:45 GMT; path=/\r\n",
        "header: X-Powered-By: Servlet/2.5 JSP/2.1\r\n",
        "send:"
       ]
      },
      {
       "output_type": "stream",
       "stream": "stdout",
       "text": [
        " 'POST /job/wwwSearch.html HTTP/1.1\\r\\nContent-Length: 59\\r\\nAccept-Encoding: gzip\\r\\nHost: www.dice.com\\r\\nUser-Agent: Mozilla/5.0(X11; U; Linux i686; en-US; rv:1.9.0.1) Gecko/2008071615 Fedora/3.0.1-1.fc9 Firefox/3.0.1\\r\\nConnection: close\\r\\nCookie: MERCURYDCSP=dC2rR4gZrvQ2nK1vWQ6TS16T0PLskZTbTkNMJ1rhGcWydx6bHPhY!-162947553!-810202223; VISIT50322=078e8cd2a3332a89c187c0c6e43d6c00; REL_CODE=1102\\r\\nReferer: http://www.dice.com\\r\\nContent-Type: application/x-www-form-urlencoded\\r\\n\\r\\nFREE_TEXT=python+developer&CALLER=basic&WHERE=Chicago%2C+IL'\n",
        "reply:"
       ]
      },
      {
       "output_type": "stream",
       "stream": "stdout",
       "text": [
        " 'HTTP/1.1 302 Moved Temporarily\\r\\n'\n",
        "header: Server: Apache\r\n",
        "header: Vary: Accept-Encoding\r\n",
        "header: Cache-Control: no-cache\r\n",
        "header: Cache-Control: no-store\r\n",
        "header: Content-Type: text/plain\r\n",
        "header: Content-Encoding: gzip\r\n",
        "header: P3P: CP=\"ALL ADMi DEVi PSA CONi OUR DELi SAMi BUS NAV COM CNT ONL INT PHY DEM UNI\"\r\n",
        "header: Date: Thu, 25 Apr 2013 03:17:46 GMT\r\n",
        "header: Location: http://www.dice.com/job/results/60290?caller=basic&q=python+developer&x=all&p=z\r\n",
        "header: Keep-Alive: timeout=5, max=100\r\n",
        "header: Expires: Thu, 01 Jan 1970 00:00:00 GMT\r\n",
        "header: Pragma: no-cache\r\n",
        "header: Content-Language: en-US\r\n",
        "header: Connection: close\r\n",
        "header: X-Powered-By: Servlet/2.5 JSP/2.1\r\n",
        "send:"
       ]
      },
      {
       "output_type": "stream",
       "stream": "stdout",
       "text": [
        " 'GET /job/results/60290?caller=basic&q=python+developer&x=all&p=z HTTP/1.1\\r\\nAccept-Encoding: gzip\\r\\nHost: www.dice.com\\r\\nUser-Agent: Mozilla/5.0(X11; U; Linux i686; en-US; rv:1.9.0.1) Gecko/2008071615 Fedora/3.0.1-1.fc9 Firefox/3.0.1\\r\\nConnection: close\\r\\nCookie: MERCURYDCSP=dC2rR4gZrvQ2nK1vWQ6TS16T0PLskZTbTkNMJ1rhGcWydx6bHPhY!-162947553!-810202223; VISIT50322=078e8cd2a3332a89c187c0c6e43d6c00; REL_CODE=1102\\r\\nReferer: http://www.dice.com/job/wwwSearch.html\\r\\n\\r\\n'\n",
        "reply:"
       ]
      },
      {
       "output_type": "stream",
       "stream": "stdout",
       "text": [
        " 'HTTP/1.1 200 OK\\r\\n'\n",
        "header: Server: Apache\r\n",
        "header: Vary: Accept-Encoding\r\n",
        "header: Cache-Control: no-cache\r\n",
        "header: Cache-Control: no-store\r\n",
        "header: Content-Type: text/html;charset=UTF-8\r\n",
        "header: Content-Encoding: gzip\r\n",
        "header: P3P: CP=\"ALL ADMi DEVi PSA CONi OUR DELi SAMi BUS NAV COM CNT ONL INT PHY DEM UNI\"\r\n",
        "header: Date: Thu, 25 Apr 2013 03:17:46 GMT\r\n",
        "header: Keep-Alive: timeout=5, max=90\r\n",
        "header: Expires: Thu, 01 Jan 1970 00:00:00 GMT\r\n",
        "header: Pragma: no-cache\r\n",
        "header: Content-Language: en-US\r\n",
        "header: Connection: close\r\n",
        "header: X-Powered-By: Servlet/2.5 JSP/2.1\r\n"
       ]
      }
     ],
     "prompt_number": 16
    },
    {
     "cell_type": "code",
     "collapsed": false,
     "input": [
      "len(test)"
     ],
     "language": "python",
     "metadata": {},
     "outputs": [
      {
       "output_type": "pyout",
       "prompt_number": 18,
       "text": [
        "75"
       ]
      }
     ],
     "prompt_number": 18
    },
    {
     "cell_type": "code",
     "collapsed": false,
     "input": [],
     "language": "python",
     "metadata": {},
     "outputs": [
      {
       "output_type": "pyout",
       "prompt_number": 12,
       "text": [
        "['Apr-24-2013', 'Apr-24-2013', 'Apr-24-2013', 'Apr-23-2013', 'Apr-24-2013']"
       ]
      }
     ],
     "prompt_number": 12
    },
    {
     "cell_type": "code",
     "collapsed": false,
     "input": [],
     "language": "python",
     "metadata": {},
     "outputs": []
    }
   ],
   "metadata": {}
  }
 ]
}