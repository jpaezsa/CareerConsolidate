{
 "metadata": {
  "name": "Indeed V2"
 },
 "nbformat": 3,
 "nbformat_minor": 0,
 "worksheets": [
  {
   "cells": [
    {
     "cell_type": "code",
     "collapsed": false,
     "input": [
      "def indeed_v2(position, location):\n",
      "    import urllib2\n",
      "    api = 'http://www.indeed.com/jobs?q={0}&l={1}\n",
      "    position = position.replace(' ', '+')\n",
      "    location = location.replace(',', '%2C')\n",
      "    location = location.replace(' ', '+')\n",
      "    formatted = api.format(position, location)\n",
      "    # 2 = multiples of 10\n",
      "    pages_api = 'http://www.indeed.com/jobs?q={0}&l={1}+IL&start={2}'\n",
      "    # title stuff\n",
      "\n",
      "    title_ index = index + 1\n",
      "    start = f[title_index].find('\"')+1\n",
      "    stop = f[title_index].find('\"', start)\n",
      "    title = f[title_index][start:stop] \n",
      "    \n",
      "    # company stuff\n",
      "    \n",
      "    company_index = index + 19\n",
      "    comp = f[company_index]\n",
      "    one = comp.find('\"name\"')+7\n",
      "    two = comp.find('</span>', one)\n",
      "    company = comp[one:two]\n",
      "\n",
      "    # duration stuff\n",
      "    search for 'class=date'\n",
      "    loc = f.index([i for i in f[cur_index:] if 'class=date' in i][0])\n",
      "    dur = f[loc]\n",
      "    start = dur.find('>')+1\n",
      "    stop = dur.find('</span>')\n",
      "    duration = dur[start:stop]"
     ],
     "language": "python",
     "metadata": {},
     "outputs": []
    }
   ],
   "metadata": {}
  }
 ]
}