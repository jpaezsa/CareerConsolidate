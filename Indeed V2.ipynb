{
 "metadata": {
  "name": "Indeed V2"
 },
 "nbformat": 3,
 "nbformat_minor": 0,
 "worksheets": [
  {
   "cells": [
    {
     "cell_type": "code",
     "collapsed": false,
     "input": [
      "def indeed_v2(position, location):\n",
      "    import urllib2\n",
      "    jobs = {}\n",
      "    api = 'http://www.indeed.com/jobs?q={0}&l={1}'\n",
      "    position = position.replace(' ', '+')\n",
      "    location = location.replace(',', '%2C')\n",
      "    location = location.replace(' ', '+')\n",
      "    formatted = api.format(position, location)\n",
      "    f = urllib2.urlopen(formatted)\n",
      "    f1 = f.read().split('\\n')\n",
      "    f.close()\n",
      "    # 2 = multiples of 10\n",
      "    pages_api = 'http://www.indeed.com/jobs?q={0}&l={1}&start={2}'\n",
      "    pages = 0\n",
      "    count = 0\n",
      "    if len([e for e in f1 if 'itemprop=\"title\"' in e]) > 0:\n",
      "        #while len([e for e in f1 if 'onsubmit=\"ptk(\\'botsearch\\');\">' in e]) == 0 or 1:\n",
      "        while count < 1:\n",
      "            if len([e for e in f1 if 'onsubmit=\"ptk(\\'botsearch\\');\">' in e]) > 0:\n",
      "                count += 1\n",
      "            indexes = [[f1.index(e) for e in f1 if 'itemprop=\"title\"' in e][0]]\n",
      "            while len([e for e in f1[indexes[len(indexes)-1]+1:] if 'itemprop=\"title\"' in e]) > 0:\n",
      "                indexes.append(f1.index([e for e in f1 if 'itemprop=\"title\"' in e][0], indexes[len(indexes)-1]+1))\n",
      "            for index in indexes:\n",
      "                # title stuff\n",
      "                title_index = f1[index+1]\n",
      "                start = title_index.find('\"')+1\n",
      "                stop = title_index.find('\"', start)\n",
      "                title = title_index[start:stop] \n",
      "                # link stuff\n",
      "                original = 'http://www.indeed.com'\n",
      "                link_stuff = f1[index-3]\n",
      "                start = link_stuff.find('\"')+1\n",
      "                stop = link_stuff.find('\"', start)\n",
      "                end_link = link_stuff[start:stop]\n",
      "                link = original + end_link\n",
      "                # company stuff\n",
      "                company_index = index + 19\n",
      "                comp = f1[company_index]\n",
      "                one = comp.find('\"name\"')+7\n",
      "                two = comp.find('</span>', one)\n",
      "                company = comp[one:two]\n",
      "                # duration stuff\n",
      "                loc = f1.index([i for i in f1[index+1:] if 'class=date' in i][0])\n",
      "                dur = f1[loc]\n",
      "                start = dur.find('>')+1\n",
      "                stop = dur.find('</span>')\n",
      "                duration = dur[start:stop]\n",
      "                # make the job\n",
      "                jobs[link] = [title, company, duration]\n",
      "            pages += 10\n",
      "            new_formatted = pages_api.format(position, location, pages)\n",
      "            f = urllib2.urlopen(new_formatted)\n",
      "            f1 = f.read().split('\\n')\n",
      "            \n",
      "    else:\n",
      "        jobs = {}\n",
      "    return jobs"
     ],
     "language": "python",
     "metadata": {},
     "outputs": [],
     "prompt_number": 67
    },
    {
     "cell_type": "code",
     "collapsed": false,
     "input": [
      "test = indeed_v2('python developer', 'Chicago, IL')"
     ],
     "language": "python",
     "metadata": {},
     "outputs": [],
     "prompt_number": 70
    },
    {
     "cell_type": "code",
     "collapsed": false,
     "input": [
      "len(test)"
     ],
     "language": "python",
     "metadata": {},
     "outputs": [
      {
       "output_type": "pyout",
       "prompt_number": 72,
       "text": [
        "256"
       ]
      }
     ],
     "prompt_number": 72
    },
    {
     "cell_type": "code",
     "collapsed": false,
     "input": [
      "test2 = indeed_v2('python developer', 'Orlando, FL')"
     ],
     "language": "python",
     "metadata": {},
     "outputs": [],
     "prompt_number": 68
    },
    {
     "cell_type": "code",
     "collapsed": false,
     "input": [
      "test2"
     ],
     "language": "python",
     "metadata": {},
     "outputs": [
      {
       "output_type": "pyout",
       "prompt_number": 69,
       "text": [
        "{'http://www.indeed.com/rc/clk?jk=00f62873a66fb2e2': ['Sr. Web Developer - EA SPORTS',\n",
        "  'Electronic Arts Inc.',\n",
        "  '19 days ago'],\n",
        " 'http://www.indeed.com/rc/clk?jk=048eb9f1a4a777d2': ['Salesforce Developer/Architect',\n",
        "  'SVO Orlando Operations Center',\n",
        "  '14 days ago'],\n",
        " 'http://www.indeed.com/rc/clk?jk=311949dca2f0b2bc': ['C++ Developer',\n",
        "  ' cellpadding=0 cellspacing=0 border=0',\n",
        "  '15 days ago'],\n",
        " 'http://www.indeed.com/rc/clk?jk=3a541d16fba26ea4': ['Mobile Software Developer',\n",
        "  'Kavaliro',\n",
        "  '30+ days ago'],\n",
        " 'http://www.indeed.com/rc/clk?jk=4dd0d06f3fef6be4': ['Wed Developer',\n",
        "  'SNI Technology',\n",
        "  '14 days ago'],\n",
        " 'http://www.indeed.com/rc/clk?jk=574f2bbfb74879a5': ['Software Engineer',\n",
        "  'Monster Sourcing Services',\n",
        "  '21 days ago'],\n",
        " 'http://www.indeed.com/rc/clk?jk=57c74ec2bde68c6b': ['Backend Python engineer at a data startup',\n",
        "  'Coefficient',\n",
        "  '14 days ago'],\n",
        " 'http://www.indeed.com/rc/clk?jk=90c063e834445084': ['Midlevel PHP/JavaScript Developer',\n",
        "  'Robert Half Technology',\n",
        "  '30+ days ago'],\n",
        " 'http://www.indeed.com/rc/clk?jk=c9059d4138d51a50': ['C++ Developer',\n",
        "  'Apex Systems Inc',\n",
        "  '30+ days ago'],\n",
        " 'http://www.indeed.com/rc/clk?jk=d667b9b8efff5452': ['C / C++ Developer',\n",
        "  'Veredus Corporation',\n",
        "  '11 days ago']}"
       ]
      }
     ],
     "prompt_number": 69
    },
    {
     "cell_type": "code",
     "collapsed": false,
     "input": [
      "link"
     ],
     "language": "python",
     "metadata": {},
     "outputs": [
      {
       "output_type": "pyout",
       "prompt_number": 34,
       "text": [
        "'http://www.indeed.com/jobs?q=python+developer&l=Orlando%2C+FL+IL&start=10'"
       ]
      }
     ],
     "prompt_number": 34
    },
    {
     "cell_type": "code",
     "collapsed": false,
     "input": [],
     "language": "python",
     "metadata": {},
     "outputs": []
    }
   ],
   "metadata": {}
  }
 ]
}