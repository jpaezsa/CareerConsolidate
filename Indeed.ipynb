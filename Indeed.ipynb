{
 "metadata": {
  "name": "Indeed"
 },
 "nbformat": 3,
 "nbformat_minor": 0,
 "worksheets": [
  {
   "cells": [
    {
     "cell_type": "code",
     "collapsed": false,
     "input": [
      "def get_indeed_jobs(position, location):\n",
      "    import mechanize\n",
      "    import cookielib\n",
      "    br = mechanize.Browser()\n",
      "    cj = cookielib.LWPCookieJar()\n",
      "    br.set_cookiejar(cj)\n",
      "    br.addheaders = [('User-Agent', 'Mozilla/5.0(X11; U; Linux i686; en-US; rv:1.9.0.1) Gecko/2008071615 Fedora/3.0.1-1.fc9 Firefox/3.0.1')]\n",
      "    br.set_debug_http(True)\n",
      "    br.set_debug_redirects(True)\n",
      "    br.set_handle_equiv(True)\n",
      "    br.set_handle_gzip(True)\n",
      "    br.set_handle_redirect(True)\n",
      "    br.set_handle_robots(False)\n",
      "    jobs = []\n",
      "    br.open('http://www.indeed.com')\n",
      "    # form stuff\n",
      "    br.select_form(nr=0)\n",
      "    br.form['q'] = position\n",
      "    br.form['l'] = location\n",
      "    br.submit()\n",
      "    # links\n",
      "    links = [i for i in br.links()]\n",
      "    start = links.index([e for e in links if e.text == 'Post your resume'][0])\n",
      "    if len([e for e in links if e.text == 'Next\\xc2\\xa0\\xc2\\xbb']) > 0:\n",
      "        stop = links.index([e for e in links if e.text == '2'][0], start)\n",
      "    else:\n",
      "        stop = links.index([e for e in links if e.text == 'Jobs'][0], start)\n",
      "\n",
      "    jobs += links[start:stop]\n",
      "\n",
      "    while len([e for e in br.links() if e.text == 'Next\\xc2\\xa0\\xc2\\xbb']) > 0:\n",
      "        br.follow_link([i for i in br.links() if i.text == 'Next\\xc2\\xa0\\xc2\\xbb'][0])\n",
      "        current_links = [a for a in br.links()]\n",
      "        start = current_links.index([e for e in current_links if e.text == 'Post your resume'][0])\n",
      "        stop = current_links.index([e for e in current_links if e.text == 'Jobs'][0])\n",
      "        jobs += current_links[start:stop]\n",
      "    while len([i for i in jobs if ('itemprop', 'title') not in i.attrs]) > 0:\n",
      "        for link in jobs:\n",
      "            if ('itemprop', 'title') not in link.attrs:\n",
      "                del jobs[jobs.index(link)]\n",
      "        \n",
      "    return jobs\n"
     ],
     "language": "python",
     "metadata": {},
     "outputs": [],
     "prompt_number": 10
    },
    {
     "cell_type": "code",
     "collapsed": false,
     "input": [
      "test1 = get_indeed_jobs('python developer', 'Chicago, IL')"
     ],
     "language": "python",
     "metadata": {},
     "outputs": [
      {
       "output_type": "stream",
       "stream": "stdout",
       "text": [
        "send: 'GET / HTTP/1.1\\r\\nHost: www.indeed.com\\r\\nUser-Agent: Mozilla/5.0(X11; U; Linux i686; en-US; rv:1.9.0.1) Gecko/2008071615 Fedora/3.0.1-1.fc9 Firefox/3.0.1\\r\\nConnection: close\\r\\nAccept-Encoding: gzip\\r\\n\\r\\n'\n",
        "reply:"
       ]
      },
      {
       "output_type": "stream",
       "stream": "stdout",
       "text": [
        " 'HTTP/1.1 200 OK\\r\\n'\n",
        "header: Date: Thu, 18 Apr 2013 16:07:38 GMT\r\n",
        "header: Server: Apache\r\n",
        "header: Set-Cookie: CTK=17oeudcdp18330ih; Domain=.indeed.com; Expires=Tue, 23-Apr-2030 10:56:09 GMT; Path=/\r\n",
        "header: Set-Cookie: DCT=8; Expires=Thu, 18-Apr-2013 18:07:38 GMT; Path=/\r\n",
        "header: Set-Cookie: JSESSIONID=2029BD4C19B60F1FB573CF86EA5D5F2C.usB_ord-web7; Path=/\r\n",
        "header: Set-Cookie: INDEED_CSRF_TOKEN=IyzbxbLC0qjkPzQ5OjacNbbdqQkiQIAW; Path=/\r\n",
        "header: Content-Language: en-US\r\n",
        "header: Vary: User-Agent,Accept-Encoding\r\n",
        "header: Content-Encoding: gzip\r\n",
        "header: Transfer-Encoding: chunked\r\n",
        "header: Content-Type: text/html;charset=UTF-8\r\n",
        "header: Connection: close\r\n",
        "header: Set-Cookie: BIGipServerus_ord=2903587122.20480.0000; path=/\r\n",
        "send:"
       ]
      },
      {
       "output_type": "stream",
       "stream": "stdout",
       "text": [
        " 'GET /jobs?q=python+developer&l=Chicago%2C+IL HTTP/1.1\\r\\nAccept-Encoding: gzip\\r\\nHost: www.indeed.com\\r\\nUser-Agent: Mozilla/5.0(X11; U; Linux i686; en-US; rv:1.9.0.1) Gecko/2008071615 Fedora/3.0.1-1.fc9 Firefox/3.0.1\\r\\nConnection: close\\r\\nCookie: BIGipServerus_ord=2903587122.20480.0000; DCT=8; INDEED_CSRF_TOKEN=IyzbxbLC0qjkPzQ5OjacNbbdqQkiQIAW; JSESSIONID=2029BD4C19B60F1FB573CF86EA5D5F2C.usB_ord-web7; CTK=17oeudcdp18330ih\\r\\nReferer: http://www.indeed.com\\r\\n\\r\\n'\n",
        "reply:"
       ]
      },
      {
       "output_type": "stream",
       "stream": "stdout",
       "text": [
        " 'HTTP/1.1 200 OK\\r\\n'\n",
        "header: Date: Thu, 18 Apr 2013 16:07:38 GMT\r\n",
        "header: Server: Apache\r\n",
        "header: Set-Cookie: PREF=; Domain=.indeed.com; Expires=Thu, 01-Jan-1970 00:00:10 GMT; Path=/\r\n",
        "header: Set-Cookie: PREF=\"ID=3a7ad8e800efd015:TM=1366301258:NW=1:JF=1:L=Chicago%2C+IL\"; Expires=Tue, 23-Apr-2030 10:56:09 GMT; Path=/\r\n",
        "header: Set-Cookie: RQ=\"q=python+developer&l=Chicago%2C+IL\"; Expires=Sat, 18-May-2013 16:07:38 GMT; Path=/\r\n",
        "header: Set-Cookie: UD=\"ID=eb5cf85e8d46bea9:AK=dd616958bd9ddc12:CV=1366301258:LA=1366301258:TS=1366301258:SG=b7225b20a737af0ad4737862287f0782\"; Expires=Tue, 23-Apr-2030 10:56:09 GMT; Path=/\r\n",
        "header: Vary: User-Agent,Accept-Encoding\r\n",
        "header: Content-Encoding: gzip\r\n",
        "header: Transfer-Encoding: chunked\r\n",
        "header: Content-Type: text/html;charset=UTF-8\r\n",
        "header: Connection: close\r\n",
        "send:"
       ]
      },
      {
       "output_type": "stream",
       "stream": "stdout",
       "text": [
        " 'GET /jobs?q=python+developer&l=Chicago%2C+IL&start=10 HTTP/1.1\\r\\nAccept-Encoding: gzip\\r\\nHost: www.indeed.com\\r\\nUser-Agent: Mozilla/5.0(X11; U; Linux i686; en-US; rv:1.9.0.1) Gecko/2008071615 Fedora/3.0.1-1.fc9 Firefox/3.0.1\\r\\nConnection: close\\r\\nCookie: PREF=\"ID=3a7ad8e800efd015:TM=1366301258:NW=1:JF=1:L=Chicago%2C+IL\"; RQ=\"q=python+developer&l=Chicago%2C+IL\"; INDEED_CSRF_TOKEN=IyzbxbLC0qjkPzQ5OjacNbbdqQkiQIAW; JSESSIONID=2029BD4C19B60F1FB573CF86EA5D5F2C.usB_ord-web7; UD=\"ID=eb5cf85e8d46bea9:AK=dd616958bd9ddc12:CV=1366301258:LA=1366301258:TS=1366301258:SG=b7225b20a737af0ad4737862287f0782\"; BIGipServerus_ord=2903587122.20480.0000; DCT=8; CTK=17oeudcdp18330ih\\r\\nReferer: http://www.indeed.com/jobs?q=python+developer&l=Chicago%2C+IL\\r\\n\\r\\n'\n",
        "reply:"
       ]
      },
      {
       "output_type": "stream",
       "stream": "stdout",
       "text": [
        " 'HTTP/1.1 200 OK\\r\\n'\n",
        "header: Date: Thu, 18 Apr 2013 16:07:39 GMT\r\n",
        "header: Server: Apache\r\n",
        "header: Set-Cookie: RQ=\"q=python+developer&l=Chicago%2C+IL\"; Expires=Sat, 18-May-2013 16:07:39 GMT; Path=/\r\n",
        "header: Set-Cookie: UD=\"ID=eb5cf85e8d46bea9:AK=dd616958bd9ddc12:CV=1366301258:LA=1366301259:TS=1366301258:SG=c556c803ac2ab3f8ea33d3b94879e70e\"; Expires=Tue, 23-Apr-2030 10:56:10 GMT; Path=/\r\n",
        "header: Vary: User-Agent,Accept-Encoding\r\n",
        "header: Content-Encoding: gzip\r\n",
        "header: Transfer-Encoding: chunked\r\n",
        "header: Content-Type: text/html;charset=UTF-8\r\n",
        "header: Connection: close\r\n",
        "send:"
       ]
      },
      {
       "output_type": "stream",
       "stream": "stdout",
       "text": [
        " 'GET /jobs?q=python+developer&l=Chicago%2C+IL&start=20 HTTP/1.1\\r\\nAccept-Encoding: gzip\\r\\nHost: www.indeed.com\\r\\nUser-Agent: Mozilla/5.0(X11; U; Linux i686; en-US; rv:1.9.0.1) Gecko/2008071615 Fedora/3.0.1-1.fc9 Firefox/3.0.1\\r\\nConnection: close\\r\\nCookie: PREF=\"ID=3a7ad8e800efd015:TM=1366301258:NW=1:JF=1:L=Chicago%2C+IL\"; RQ=\"q=python+developer&l=Chicago%2C+IL\"; INDEED_CSRF_TOKEN=IyzbxbLC0qjkPzQ5OjacNbbdqQkiQIAW; JSESSIONID=2029BD4C19B60F1FB573CF86EA5D5F2C.usB_ord-web7; UD=\"ID=eb5cf85e8d46bea9:AK=dd616958bd9ddc12:CV=1366301258:LA=1366301259:TS=1366301258:SG=c556c803ac2ab3f8ea33d3b94879e70e\"; BIGipServerus_ord=2903587122.20480.0000; DCT=8; CTK=17oeudcdp18330ih\\r\\nReferer: http://www.indeed.com/jobs?q=python+developer&l=Chicago%2C+IL&start=10\\r\\n\\r\\n'\n",
        "reply:"
       ]
      },
      {
       "output_type": "stream",
       "stream": "stdout",
       "text": [
        " 'HTTP/1.1 200 OK\\r\\n'\n",
        "header: Date: Thu, 18 Apr 2013 16:07:41 GMT\r\n",
        "header: Server: Apache\r\n",
        "header: Set-Cookie: RQ=\"q=python+developer&l=Chicago%2C+IL\"; Expires=Sat, 18-May-2013 16:07:41 GMT; Path=/\r\n",
        "header: Set-Cookie: UD=\"ID=eb5cf85e8d46bea9:AK=dd616958bd9ddc12:CV=1366301258:LA=1366301261:TS=1366301258:SG=3143cef9a6877edf4ff67c0b282ac234\"; Expires=Tue, 23-Apr-2030 10:56:12 GMT; Path=/\r\n",
        "header: Vary: User-Agent,Accept-Encoding\r\n",
        "header: Content-Encoding: gzip\r\n",
        "header: Transfer-Encoding: chunked\r\n",
        "header: Content-Type: text/html;charset=UTF-8\r\n",
        "header: Connection: close\r\n",
        "send:"
       ]
      },
      {
       "output_type": "stream",
       "stream": "stdout",
       "text": [
        " 'GET /jobs?q=python+developer&l=Chicago%2C+IL&start=30 HTTP/1.1\\r\\nAccept-Encoding: gzip\\r\\nHost: www.indeed.com\\r\\nUser-Agent: Mozilla/5.0(X11; U; Linux i686; en-US; rv:1.9.0.1) Gecko/2008071615 Fedora/3.0.1-1.fc9 Firefox/3.0.1\\r\\nConnection: close\\r\\nCookie: PREF=\"ID=3a7ad8e800efd015:TM=1366301258:NW=1:JF=1:L=Chicago%2C+IL\"; RQ=\"q=python+developer&l=Chicago%2C+IL\"; INDEED_CSRF_TOKEN=IyzbxbLC0qjkPzQ5OjacNbbdqQkiQIAW; JSESSIONID=2029BD4C19B60F1FB573CF86EA5D5F2C.usB_ord-web7; UD=\"ID=eb5cf85e8d46bea9:AK=dd616958bd9ddc12:CV=1366301258:LA=1366301261:TS=1366301258:SG=3143cef9a6877edf4ff67c0b282ac234\"; BIGipServerus_ord=2903587122.20480.0000; DCT=8; CTK=17oeudcdp18330ih\\r\\nReferer: http://www.indeed.com/jobs?q=python+developer&l=Chicago%2C+IL&start=20\\r\\n\\r\\n'\n",
        "reply:"
       ]
      },
      {
       "output_type": "stream",
       "stream": "stdout",
       "text": [
        " 'HTTP/1.1 200 OK\\r\\n'\n",
        "header: Date: Thu, 18 Apr 2013 16:07:41 GMT\r\n",
        "header: Server: Apache\r\n",
        "header: Set-Cookie: RQ=\"q=python+developer&l=Chicago%2C+IL\"; Expires=Sat, 18-May-2013 16:07:41 GMT; Path=/\r\n",
        "header: Set-Cookie: UD=\"ID=eb5cf85e8d46bea9:AK=dd616958bd9ddc12:CV=1366301258:LA=1366301261:TS=1366301258:SG=3143cef9a6877edf4ff67c0b282ac234\"; Expires=Tue, 23-Apr-2030 10:56:12 GMT; Path=/\r\n",
        "header: Vary: User-Agent,Accept-Encoding\r\n",
        "header: Content-Encoding: gzip\r\n",
        "header: Transfer-Encoding: chunked\r\n",
        "header: Content-Type: text/html;charset=UTF-8\r\n",
        "header: Connection: close\r\n",
        "send:"
       ]
      },
      {
       "output_type": "stream",
       "stream": "stdout",
       "text": [
        " 'GET /jobs?q=python+developer&l=Chicago%2C+IL&start=40 HTTP/1.1\\r\\nAccept-Encoding: gzip\\r\\nHost: www.indeed.com\\r\\nUser-Agent: Mozilla/5.0(X11; U; Linux i686; en-US; rv:1.9.0.1) Gecko/2008071615 Fedora/3.0.1-1.fc9 Firefox/3.0.1\\r\\nConnection: close\\r\\nCookie: PREF=\"ID=3a7ad8e800efd015:TM=1366301258:NW=1:JF=1:L=Chicago%2C+IL\"; RQ=\"q=python+developer&l=Chicago%2C+IL\"; INDEED_CSRF_TOKEN=IyzbxbLC0qjkPzQ5OjacNbbdqQkiQIAW; JSESSIONID=2029BD4C19B60F1FB573CF86EA5D5F2C.usB_ord-web7; UD=\"ID=eb5cf85e8d46bea9:AK=dd616958bd9ddc12:CV=1366301258:LA=1366301261:TS=1366301258:SG=3143cef9a6877edf4ff67c0b282ac234\"; BIGipServerus_ord=2903587122.20480.0000; DCT=8; CTK=17oeudcdp18330ih\\r\\nReferer: http://www.indeed.com/jobs?q=python+developer&l=Chicago%2C+IL&start=30\\r\\n\\r\\n'\n",
        "reply:"
       ]
      },
      {
       "output_type": "stream",
       "stream": "stdout",
       "text": [
        " 'HTTP/1.1 200 OK\\r\\n'\n",
        "header: Date: Thu, 18 Apr 2013 16:07:42 GMT\r\n",
        "header: Server: Apache\r\n",
        "header: Set-Cookie: RQ=\"q=python+developer&l=Chicago%2C+IL\"; Expires=Sat, 18-May-2013 16:07:42 GMT; Path=/\r\n",
        "header: Set-Cookie: UD=\"ID=eb5cf85e8d46bea9:AK=dd616958bd9ddc12:CV=1366301258:LA=1366301262:TS=1366301258:SG=248b0576d209b1f3796f12088250c89a\"; Expires=Tue, 23-Apr-2030 10:56:13 GMT; Path=/\r\n",
        "header: Vary: User-Agent,Accept-Encoding\r\n",
        "header: Content-Encoding: gzip\r\n",
        "header: Transfer-Encoding: chunked\r\n",
        "header: Content-Type: text/html;charset=UTF-8\r\n",
        "header: Connection: close\r\n",
        "send:"
       ]
      },
      {
       "output_type": "stream",
       "stream": "stdout",
       "text": [
        " 'GET /jobs?q=python+developer&l=Chicago%2C+IL&start=50 HTTP/1.1\\r\\nAccept-Encoding: gzip\\r\\nHost: www.indeed.com\\r\\nUser-Agent: Mozilla/5.0(X11; U; Linux i686; en-US; rv:1.9.0.1) Gecko/2008071615 Fedora/3.0.1-1.fc9 Firefox/3.0.1\\r\\nConnection: close\\r\\nCookie: PREF=\"ID=3a7ad8e800efd015:TM=1366301258:NW=1:JF=1:L=Chicago%2C+IL\"; RQ=\"q=python+developer&l=Chicago%2C+IL\"; INDEED_CSRF_TOKEN=IyzbxbLC0qjkPzQ5OjacNbbdqQkiQIAW; JSESSIONID=2029BD4C19B60F1FB573CF86EA5D5F2C.usB_ord-web7; UD=\"ID=eb5cf85e8d46bea9:AK=dd616958bd9ddc12:CV=1366301258:LA=1366301262:TS=1366301258:SG=248b0576d209b1f3796f12088250c89a\"; BIGipServerus_ord=2903587122.20480.0000; DCT=8; CTK=17oeudcdp18330ih\\r\\nReferer: http://www.indeed.com/jobs?q=python+developer&l=Chicago%2C+IL&start=40\\r\\n\\r\\n'\n",
        "reply:"
       ]
      },
      {
       "output_type": "stream",
       "stream": "stdout",
       "text": [
        " 'HTTP/1.1 200 OK\\r\\n'\n",
        "header: Date: Thu, 18 Apr 2013 16:07:43 GMT\r\n",
        "header: Server: Apache\r\n",
        "header: Set-Cookie: RQ=\"q=python+developer&l=Chicago%2C+IL\"; Expires=Sat, 18-May-2013 16:07:43 GMT; Path=/\r\n",
        "header: Set-Cookie: UD=\"ID=eb5cf85e8d46bea9:AK=dd616958bd9ddc12:CV=1366301258:LA=1366301263:TS=1366301258:SG=081c462fe5b939fdb748c7ae9ee93656\"; Expires=Tue, 23-Apr-2030 10:56:14 GMT; Path=/\r\n",
        "header: Vary: User-Agent,Accept-Encoding\r\n",
        "header: Content-Encoding: gzip\r\n",
        "header: Transfer-Encoding: chunked\r\n",
        "header: Content-Type: text/html;charset=UTF-8\r\n",
        "header: Connection: close\r\n",
        "send:"
       ]
      },
      {
       "output_type": "stream",
       "stream": "stdout",
       "text": [
        " 'GET /jobs?q=python+developer&l=Chicago%2C+IL&start=60 HTTP/1.1\\r\\nAccept-Encoding: gzip\\r\\nHost: www.indeed.com\\r\\nUser-Agent: Mozilla/5.0(X11; U; Linux i686; en-US; rv:1.9.0.1) Gecko/2008071615 Fedora/3.0.1-1.fc9 Firefox/3.0.1\\r\\nConnection: close\\r\\nCookie: PREF=\"ID=3a7ad8e800efd015:TM=1366301258:NW=1:JF=1:L=Chicago%2C+IL\"; RQ=\"q=python+developer&l=Chicago%2C+IL\"; INDEED_CSRF_TOKEN=IyzbxbLC0qjkPzQ5OjacNbbdqQkiQIAW; JSESSIONID=2029BD4C19B60F1FB573CF86EA5D5F2C.usB_ord-web7; UD=\"ID=eb5cf85e8d46bea9:AK=dd616958bd9ddc12:CV=1366301258:LA=1366301263:TS=1366301258:SG=081c462fe5b939fdb748c7ae9ee93656\"; BIGipServerus_ord=2903587122.20480.0000; DCT=8; CTK=17oeudcdp18330ih\\r\\nReferer: http://www.indeed.com/jobs?q=python+developer&l=Chicago%2C+IL&start=50\\r\\n\\r\\n'\n",
        "reply:"
       ]
      },
      {
       "output_type": "stream",
       "stream": "stdout",
       "text": [
        " 'HTTP/1.1 200 OK\\r\\n'\n",
        "header: Date: Thu, 18 Apr 2013 16:07:44 GMT\r\n",
        "header: Server: Apache\r\n",
        "header: Set-Cookie: RQ=\"q=python+developer&l=Chicago%2C+IL\"; Expires=Sat, 18-May-2013 16:07:44 GMT; Path=/\r\n",
        "header: Set-Cookie: UD=\"ID=eb5cf85e8d46bea9:AK=dd616958bd9ddc12:CV=1366301258:LA=1366301264:TS=1366301258:SG=359b0132977a853db2d936d20f4960ce\"; Expires=Tue, 23-Apr-2030 10:56:15 GMT; Path=/\r\n",
        "header: Vary: User-Agent,Accept-Encoding\r\n",
        "header: Content-Encoding: gzip\r\n",
        "header: Transfer-Encoding: chunked\r\n",
        "header: Content-Type: text/html;charset=UTF-8\r\n",
        "header: Connection: close\r\n",
        "send:"
       ]
      },
      {
       "output_type": "stream",
       "stream": "stdout",
       "text": [
        " 'GET /jobs?q=python+developer&l=Chicago%2C+IL&start=70 HTTP/1.1\\r\\nAccept-Encoding: gzip\\r\\nHost: www.indeed.com\\r\\nUser-Agent: Mozilla/5.0(X11; U; Linux i686; en-US; rv:1.9.0.1) Gecko/2008071615 Fedora/3.0.1-1.fc9 Firefox/3.0.1\\r\\nConnection: close\\r\\nCookie: PREF=\"ID=3a7ad8e800efd015:TM=1366301258:NW=1:JF=1:L=Chicago%2C+IL\"; RQ=\"q=python+developer&l=Chicago%2C+IL\"; INDEED_CSRF_TOKEN=IyzbxbLC0qjkPzQ5OjacNbbdqQkiQIAW; JSESSIONID=2029BD4C19B60F1FB573CF86EA5D5F2C.usB_ord-web7; UD=\"ID=eb5cf85e8d46bea9:AK=dd616958bd9ddc12:CV=1366301258:LA=1366301264:TS=1366301258:SG=359b0132977a853db2d936d20f4960ce\"; BIGipServerus_ord=2903587122.20480.0000; DCT=8; CTK=17oeudcdp18330ih\\r\\nReferer: http://www.indeed.com/jobs?q=python+developer&l=Chicago%2C+IL&start=60\\r\\n\\r\\n'\n",
        "reply:"
       ]
      },
      {
       "output_type": "stream",
       "stream": "stdout",
       "text": [
        " 'HTTP/1.1 200 OK\\r\\n'\n",
        "header: Date: Thu, 18 Apr 2013 16:07:44 GMT\r\n",
        "header: Server: Apache\r\n",
        "header: Set-Cookie: RQ=\"q=python+developer&l=Chicago%2C+IL\"; Expires=Sat, 18-May-2013 16:07:44 GMT; Path=/\r\n",
        "header: Set-Cookie: UD=\"ID=eb5cf85e8d46bea9:AK=dd616958bd9ddc12:CV=1366301258:LA=1366301264:TS=1366301258:SG=359b0132977a853db2d936d20f4960ce\"; Expires=Tue, 23-Apr-2030 10:56:15 GMT; Path=/\r\n",
        "header: Vary: User-Agent,Accept-Encoding\r\n",
        "header: Content-Encoding: gzip\r\n",
        "header: Transfer-Encoding: chunked\r\n",
        "header: Content-Type: text/html;charset=UTF-8\r\n",
        "header: Connection: close\r\n",
        "send:"
       ]
      },
      {
       "output_type": "stream",
       "stream": "stdout",
       "text": [
        " 'GET /jobs?q=python+developer&l=Chicago%2C+IL&start=80 HTTP/1.1\\r\\nAccept-Encoding: gzip\\r\\nHost: www.indeed.com\\r\\nUser-Agent: Mozilla/5.0(X11; U; Linux i686; en-US; rv:1.9.0.1) Gecko/2008071615 Fedora/3.0.1-1.fc9 Firefox/3.0.1\\r\\nConnection: close\\r\\nCookie: PREF=\"ID=3a7ad8e800efd015:TM=1366301258:NW=1:JF=1:L=Chicago%2C+IL\"; RQ=\"q=python+developer&l=Chicago%2C+IL\"; INDEED_CSRF_TOKEN=IyzbxbLC0qjkPzQ5OjacNbbdqQkiQIAW; JSESSIONID=2029BD4C19B60F1FB573CF86EA5D5F2C.usB_ord-web7; UD=\"ID=eb5cf85e8d46bea9:AK=dd616958bd9ddc12:CV=1366301258:LA=1366301264:TS=1366301258:SG=359b0132977a853db2d936d20f4960ce\"; BIGipServerus_ord=2903587122.20480.0000; DCT=8; CTK=17oeudcdp18330ih\\r\\nReferer: http://www.indeed.com/jobs?q=python+developer&l=Chicago%2C+IL&start=70\\r\\n\\r\\n'\n",
        "reply:"
       ]
      },
      {
       "output_type": "stream",
       "stream": "stdout",
       "text": [
        " 'HTTP/1.1 200 OK\\r\\n'\n",
        "header: Date: Thu, 18 Apr 2013 16:07:45 GMT\r\n",
        "header: Server: Apache\r\n",
        "header: Set-Cookie: RQ=\"q=python+developer&l=Chicago%2C+IL\"; Expires=Sat, 18-May-2013 16:07:45 GMT; Path=/\r\n",
        "header: Set-Cookie: UD=\"ID=eb5cf85e8d46bea9:AK=dd616958bd9ddc12:CV=1366301258:LA=1366301265:TS=1366301258:SG=cf0a321be33958db3cd64a3aa0e7dfb6\"; Expires=Tue, 23-Apr-2030 10:56:16 GMT; Path=/\r\n",
        "header: Vary: User-Agent,Accept-Encoding\r\n",
        "header: Content-Encoding: gzip\r\n",
        "header: Transfer-Encoding: chunked\r\n",
        "header: Content-Type: text/html;charset=UTF-8\r\n",
        "header: Connection: close\r\n",
        "send:"
       ]
      },
      {
       "output_type": "stream",
       "stream": "stdout",
       "text": [
        " 'GET /jobs?q=python+developer&l=Chicago%2C+IL&start=90 HTTP/1.1\\r\\nAccept-Encoding: gzip\\r\\nHost: www.indeed.com\\r\\nUser-Agent: Mozilla/5.0(X11; U; Linux i686; en-US; rv:1.9.0.1) Gecko/2008071615 Fedora/3.0.1-1.fc9 Firefox/3.0.1\\r\\nConnection: close\\r\\nCookie: PREF=\"ID=3a7ad8e800efd015:TM=1366301258:NW=1:JF=1:L=Chicago%2C+IL\"; RQ=\"q=python+developer&l=Chicago%2C+IL\"; INDEED_CSRF_TOKEN=IyzbxbLC0qjkPzQ5OjacNbbdqQkiQIAW; JSESSIONID=2029BD4C19B60F1FB573CF86EA5D5F2C.usB_ord-web7; UD=\"ID=eb5cf85e8d46bea9:AK=dd616958bd9ddc12:CV=1366301258:LA=1366301265:TS=1366301258:SG=cf0a321be33958db3cd64a3aa0e7dfb6\"; BIGipServerus_ord=2903587122.20480.0000; DCT=8; CTK=17oeudcdp18330ih\\r\\nReferer: http://www.indeed.com/jobs?q=python+developer&l=Chicago%2C+IL&start=80\\r\\n\\r\\n'\n",
        "reply:"
       ]
      },
      {
       "output_type": "stream",
       "stream": "stdout",
       "text": [
        " 'HTTP/1.1 200 OK\\r\\n'\n",
        "header: Date: Thu, 18 Apr 2013 16:07:46 GMT\r\n",
        "header: Server: Apache\r\n",
        "header: Set-Cookie: RQ=\"q=python+developer&l=Chicago%2C+IL\"; Expires=Sat, 18-May-2013 16:07:46 GMT; Path=/\r\n",
        "header: Set-Cookie: UD=\"ID=eb5cf85e8d46bea9:AK=dd616958bd9ddc12:CV=1366301258:LA=1366301266:TS=1366301258:SG=e1db865382d08563b283745c4e48cfc7\"; Expires=Tue, 23-Apr-2030 10:56:17 GMT; Path=/\r\n",
        "header: Vary: User-Agent,Accept-Encoding\r\n",
        "header: Content-Encoding: gzip\r\n",
        "header: Transfer-Encoding: chunked\r\n",
        "header: Content-Type: text/html;charset=UTF-8\r\n",
        "header: Connection: close\r\n",
        "send:"
       ]
      },
      {
       "output_type": "stream",
       "stream": "stdout",
       "text": [
        " 'GET /jobs?q=python+developer&l=Chicago%2C+IL&start=100 HTTP/1.1\\r\\nAccept-Encoding: gzip\\r\\nHost: www.indeed.com\\r\\nUser-Agent: Mozilla/5.0(X11; U; Linux i686; en-US; rv:1.9.0.1) Gecko/2008071615 Fedora/3.0.1-1.fc9 Firefox/3.0.1\\r\\nConnection: close\\r\\nCookie: PREF=\"ID=3a7ad8e800efd015:TM=1366301258:NW=1:JF=1:L=Chicago%2C+IL\"; RQ=\"q=python+developer&l=Chicago%2C+IL\"; INDEED_CSRF_TOKEN=IyzbxbLC0qjkPzQ5OjacNbbdqQkiQIAW; JSESSIONID=2029BD4C19B60F1FB573CF86EA5D5F2C.usB_ord-web7; UD=\"ID=eb5cf85e8d46bea9:AK=dd616958bd9ddc12:CV=1366301258:LA=1366301266:TS=1366301258:SG=e1db865382d08563b283745c4e48cfc7\"; BIGipServerus_ord=2903587122.20480.0000; DCT=8; CTK=17oeudcdp18330ih\\r\\nReferer: http://www.indeed.com/jobs?q=python+developer&l=Chicago%2C+IL&start=90\\r\\n\\r\\n'\n",
        "reply:"
       ]
      },
      {
       "output_type": "stream",
       "stream": "stdout",
       "text": [
        " 'HTTP/1.1 200 OK\\r\\n'\n",
        "header: Date: Thu, 18 Apr 2013 16:07:47 GMT\r\n",
        "header: Server: Apache\r\n",
        "header: Set-Cookie: RQ=\"q=python+developer&l=Chicago%2C+IL\"; Expires=Sat, 18-May-2013 16:07:47 GMT; Path=/\r\n",
        "header: Set-Cookie: UD=\"ID=eb5cf85e8d46bea9:AK=dd616958bd9ddc12:CV=1366301258:LA=1366301267:TS=1366301258:SG=e372217b4aef237e3071cd29df25b057\"; Expires=Tue, 23-Apr-2030 10:56:18 GMT; Path=/\r\n",
        "header: Vary: User-Agent,Accept-Encoding\r\n",
        "header: Content-Encoding: gzip\r\n",
        "header: Transfer-Encoding: chunked\r\n",
        "header: Content-Type: text/html;charset=UTF-8\r\n",
        "header: Connection: close\r\n",
        "send:"
       ]
      },
      {
       "output_type": "stream",
       "stream": "stdout",
       "text": [
        " 'GET /jobs?q=python+developer&l=Chicago%2C+IL&start=110 HTTP/1.1\\r\\nAccept-Encoding: gzip\\r\\nHost: www.indeed.com\\r\\nUser-Agent: Mozilla/5.0(X11; U; Linux i686; en-US; rv:1.9.0.1) Gecko/2008071615 Fedora/3.0.1-1.fc9 Firefox/3.0.1\\r\\nConnection: close\\r\\nCookie: PREF=\"ID=3a7ad8e800efd015:TM=1366301258:NW=1:JF=1:L=Chicago%2C+IL\"; RQ=\"q=python+developer&l=Chicago%2C+IL\"; INDEED_CSRF_TOKEN=IyzbxbLC0qjkPzQ5OjacNbbdqQkiQIAW; JSESSIONID=2029BD4C19B60F1FB573CF86EA5D5F2C.usB_ord-web7; UD=\"ID=eb5cf85e8d46bea9:AK=dd616958bd9ddc12:CV=1366301258:LA=1366301267:TS=1366301258:SG=e372217b4aef237e3071cd29df25b057\"; BIGipServerus_ord=2903587122.20480.0000; DCT=8; CTK=17oeudcdp18330ih\\r\\nReferer: http://www.indeed.com/jobs?q=python+developer&l=Chicago%2C+IL&start=100\\r\\n\\r\\n'\n",
        "reply:"
       ]
      },
      {
       "output_type": "stream",
       "stream": "stdout",
       "text": [
        " 'HTTP/1.1 200 OK\\r\\n'\n",
        "header: Date: Thu, 18 Apr 2013 16:07:48 GMT\r\n",
        "header: Server: Apache\r\n",
        "header: Set-Cookie: RQ=\"q=python+developer&l=Chicago%2C+IL\"; Expires=Sat, 18-May-2013 16:07:48 GMT; Path=/\r\n",
        "header: Set-Cookie: UD=\"ID=eb5cf85e8d46bea9:AK=dd616958bd9ddc12:CV=1366301258:LA=1366301268:TS=1366301258:SG=2f6b72dd1aee452697cc025f74f8e649\"; Expires=Tue, 23-Apr-2030 10:56:19 GMT; Path=/\r\n",
        "header: Vary: User-Agent,Accept-Encoding\r\n",
        "header: Content-Encoding: gzip\r\n",
        "header: Transfer-Encoding: chunked\r\n",
        "header: Content-Type: text/html;charset=UTF-8\r\n",
        "header: Connection: close\r\n",
        "send:"
       ]
      },
      {
       "output_type": "stream",
       "stream": "stdout",
       "text": [
        " 'GET /jobs?q=python+developer&l=Chicago%2C+IL&start=120 HTTP/1.1\\r\\nAccept-Encoding: gzip\\r\\nHost: www.indeed.com\\r\\nUser-Agent: Mozilla/5.0(X11; U; Linux i686; en-US; rv:1.9.0.1) Gecko/2008071615 Fedora/3.0.1-1.fc9 Firefox/3.0.1\\r\\nConnection: close\\r\\nCookie: PREF=\"ID=3a7ad8e800efd015:TM=1366301258:NW=1:JF=1:L=Chicago%2C+IL\"; RQ=\"q=python+developer&l=Chicago%2C+IL\"; INDEED_CSRF_TOKEN=IyzbxbLC0qjkPzQ5OjacNbbdqQkiQIAW; JSESSIONID=2029BD4C19B60F1FB573CF86EA5D5F2C.usB_ord-web7; UD=\"ID=eb5cf85e8d46bea9:AK=dd616958bd9ddc12:CV=1366301258:LA=1366301268:TS=1366301258:SG=2f6b72dd1aee452697cc025f74f8e649\"; BIGipServerus_ord=2903587122.20480.0000; DCT=8; CTK=17oeudcdp18330ih\\r\\nReferer: http://www.indeed.com/jobs?q=python+developer&l=Chicago%2C+IL&start=110\\r\\n\\r\\n'\n",
        "reply:"
       ]
      },
      {
       "output_type": "stream",
       "stream": "stdout",
       "text": [
        " 'HTTP/1.1 200 OK\\r\\n'\n",
        "header: Date: Thu, 18 Apr 2013 16:07:50 GMT\r\n",
        "header: Server: Apache\r\n",
        "header: Set-Cookie: RQ=\"q=python+developer&l=Chicago%2C+IL\"; Expires=Sat, 18-May-2013 16:07:50 GMT; Path=/\r\n",
        "header: Set-Cookie: UD=\"ID=eb5cf85e8d46bea9:AK=dd616958bd9ddc12:CV=1366301258:LA=1366301270:TS=1366301258:SG=f14758b0b2043a9baa6426886b47d798\"; Expires=Tue, 23-Apr-2030 10:56:21 GMT; Path=/\r\n",
        "header: Vary: User-Agent,Accept-Encoding\r\n",
        "header: Content-Encoding: gzip\r\n",
        "header: Transfer-Encoding: chunked\r\n",
        "header: Content-Type: text/html;charset=UTF-8\r\n",
        "header: Connection: close\r\n",
        "send:"
       ]
      },
      {
       "output_type": "stream",
       "stream": "stdout",
       "text": [
        " 'GET /jobs?q=python+developer&l=Chicago%2C+IL&start=130 HTTP/1.1\\r\\nAccept-Encoding: gzip\\r\\nHost: www.indeed.com\\r\\nUser-Agent: Mozilla/5.0(X11; U; Linux i686; en-US; rv:1.9.0.1) Gecko/2008071615 Fedora/3.0.1-1.fc9 Firefox/3.0.1\\r\\nConnection: close\\r\\nCookie: PREF=\"ID=3a7ad8e800efd015:TM=1366301258:NW=1:JF=1:L=Chicago%2C+IL\"; RQ=\"q=python+developer&l=Chicago%2C+IL\"; INDEED_CSRF_TOKEN=IyzbxbLC0qjkPzQ5OjacNbbdqQkiQIAW; JSESSIONID=2029BD4C19B60F1FB573CF86EA5D5F2C.usB_ord-web7; UD=\"ID=eb5cf85e8d46bea9:AK=dd616958bd9ddc12:CV=1366301258:LA=1366301270:TS=1366301258:SG=f14758b0b2043a9baa6426886b47d798\"; BIGipServerus_ord=2903587122.20480.0000; DCT=8; CTK=17oeudcdp18330ih\\r\\nReferer: http://www.indeed.com/jobs?q=python+developer&l=Chicago%2C+IL&start=120\\r\\n\\r\\n'\n",
        "reply:"
       ]
      },
      {
       "output_type": "stream",
       "stream": "stdout",
       "text": [
        " 'HTTP/1.1 200 OK\\r\\n'\n",
        "header: Date: Thu, 18 Apr 2013 16:07:51 GMT\r\n",
        "header: Server: Apache\r\n",
        "header: Set-Cookie: RQ=\"q=python+developer&l=Chicago%2C+IL\"; Expires=Sat, 18-May-2013 16:07:51 GMT; Path=/\r\n",
        "header: Set-Cookie: UD=\"ID=eb5cf85e8d46bea9:AK=dd616958bd9ddc12:CV=1366301258:LA=1366301271:TS=1366301258:SG=d06672f55412466cc08df050a12997c9\"; Expires=Tue, 23-Apr-2030 10:56:22 GMT; Path=/\r\n",
        "header: Vary: User-Agent,Accept-Encoding\r\n",
        "header: Content-Encoding: gzip\r\n",
        "header: Transfer-Encoding: chunked\r\n",
        "header: Content-Type: text/html;charset=UTF-8\r\n",
        "header: Connection: close\r\n",
        "send:"
       ]
      },
      {
       "output_type": "stream",
       "stream": "stdout",
       "text": [
        " 'GET /jobs?q=python+developer&l=Chicago%2C+IL&start=140 HTTP/1.1\\r\\nAccept-Encoding: gzip\\r\\nHost: www.indeed.com\\r\\nUser-Agent: Mozilla/5.0(X11; U; Linux i686; en-US; rv:1.9.0.1) Gecko/2008071615 Fedora/3.0.1-1.fc9 Firefox/3.0.1\\r\\nConnection: close\\r\\nCookie: PREF=\"ID=3a7ad8e800efd015:TM=1366301258:NW=1:JF=1:L=Chicago%2C+IL\"; RQ=\"q=python+developer&l=Chicago%2C+IL\"; INDEED_CSRF_TOKEN=IyzbxbLC0qjkPzQ5OjacNbbdqQkiQIAW; JSESSIONID=2029BD4C19B60F1FB573CF86EA5D5F2C.usB_ord-web7; UD=\"ID=eb5cf85e8d46bea9:AK=dd616958bd9ddc12:CV=1366301258:LA=1366301271:TS=1366301258:SG=d06672f55412466cc08df050a12997c9\"; BIGipServerus_ord=2903587122.20480.0000; DCT=8; CTK=17oeudcdp18330ih\\r\\nReferer: http://www.indeed.com/jobs?q=python+developer&l=Chicago%2C+IL&start=130\\r\\n\\r\\n'\n",
        "reply:"
       ]
      },
      {
       "output_type": "stream",
       "stream": "stdout",
       "text": [
        " 'HTTP/1.1 200 OK\\r\\n'\n",
        "header: Date: Thu, 18 Apr 2013 16:07:52 GMT\r\n",
        "header: Server: Apache\r\n",
        "header: Set-Cookie: RQ=\"q=python+developer&l=Chicago%2C+IL\"; Expires=Sat, 18-May-2013 16:07:52 GMT; Path=/\r\n",
        "header: Set-Cookie: UD=\"ID=eb5cf85e8d46bea9:AK=dd616958bd9ddc12:CV=1366301258:LA=1366301272:TS=1366301258:SG=13267599b2d79997c646ba52be393477\"; Expires=Tue, 23-Apr-2030 10:56:23 GMT; Path=/\r\n",
        "header: Vary: User-Agent,Accept-Encoding\r\n",
        "header: Content-Encoding: gzip\r\n",
        "header: Transfer-Encoding: chunked\r\n",
        "header: Content-Type: text/html;charset=UTF-8\r\n",
        "header: Connection: close\r\n",
        "send:"
       ]
      },
      {
       "output_type": "stream",
       "stream": "stdout",
       "text": [
        " 'GET /jobs?q=python+developer&l=Chicago%2C+IL&start=150 HTTP/1.1\\r\\nAccept-Encoding: gzip\\r\\nHost: www.indeed.com\\r\\nUser-Agent: Mozilla/5.0(X11; U; Linux i686; en-US; rv:1.9.0.1) Gecko/2008071615 Fedora/3.0.1-1.fc9 Firefox/3.0.1\\r\\nConnection: close\\r\\nCookie: PREF=\"ID=3a7ad8e800efd015:TM=1366301258:NW=1:JF=1:L=Chicago%2C+IL\"; RQ=\"q=python+developer&l=Chicago%2C+IL\"; INDEED_CSRF_TOKEN=IyzbxbLC0qjkPzQ5OjacNbbdqQkiQIAW; JSESSIONID=2029BD4C19B60F1FB573CF86EA5D5F2C.usB_ord-web7; UD=\"ID=eb5cf85e8d46bea9:AK=dd616958bd9ddc12:CV=1366301258:LA=1366301272:TS=1366301258:SG=13267599b2d79997c646ba52be393477\"; BIGipServerus_ord=2903587122.20480.0000; DCT=8; CTK=17oeudcdp18330ih\\r\\nReferer: http://www.indeed.com/jobs?q=python+developer&l=Chicago%2C+IL&start=140\\r\\n\\r\\n'\n",
        "reply:"
       ]
      },
      {
       "output_type": "stream",
       "stream": "stdout",
       "text": [
        " 'HTTP/1.1 200 OK\\r\\n'\n",
        "header: Date: Thu, 18 Apr 2013 16:07:53 GMT\r\n",
        "header: Server: Apache\r\n",
        "header: Set-Cookie: RQ=\"q=python+developer&l=Chicago%2C+IL\"; Expires=Sat, 18-May-2013 16:07:53 GMT; Path=/\r\n",
        "header: Set-Cookie: UD=\"ID=eb5cf85e8d46bea9:AK=dd616958bd9ddc12:CV=1366301258:LA=1366301273:TS=1366301258:SG=38d9f01872340aa5b8d292132807453b\"; Expires=Tue, 23-Apr-2030 10:56:24 GMT; Path=/\r\n",
        "header: Vary: User-Agent,Accept-Encoding\r\n",
        "header: Content-Encoding: gzip\r\n",
        "header: Transfer-Encoding: chunked\r\n",
        "header: Content-Type: text/html;charset=UTF-8\r\n",
        "header: Connection: close\r\n",
        "send:"
       ]
      },
      {
       "output_type": "stream",
       "stream": "stdout",
       "text": [
        " 'GET /jobs?q=python+developer&l=Chicago%2C+IL&start=160 HTTP/1.1\\r\\nAccept-Encoding: gzip\\r\\nHost: www.indeed.com\\r\\nUser-Agent: Mozilla/5.0(X11; U; Linux i686; en-US; rv:1.9.0.1) Gecko/2008071615 Fedora/3.0.1-1.fc9 Firefox/3.0.1\\r\\nConnection: close\\r\\nCookie: PREF=\"ID=3a7ad8e800efd015:TM=1366301258:NW=1:JF=1:L=Chicago%2C+IL\"; RQ=\"q=python+developer&l=Chicago%2C+IL\"; INDEED_CSRF_TOKEN=IyzbxbLC0qjkPzQ5OjacNbbdqQkiQIAW; JSESSIONID=2029BD4C19B60F1FB573CF86EA5D5F2C.usB_ord-web7; UD=\"ID=eb5cf85e8d46bea9:AK=dd616958bd9ddc12:CV=1366301258:LA=1366301273:TS=1366301258:SG=38d9f01872340aa5b8d292132807453b\"; BIGipServerus_ord=2903587122.20480.0000; DCT=8; CTK=17oeudcdp18330ih\\r\\nReferer: http://www.indeed.com/jobs?q=python+developer&l=Chicago%2C+IL&start=150\\r\\n\\r\\n'\n",
        "reply:"
       ]
      },
      {
       "output_type": "stream",
       "stream": "stdout",
       "text": [
        " 'HTTP/1.1 200 OK\\r\\n'\n",
        "header: Date: Thu, 18 Apr 2013 16:07:54 GMT\r\n",
        "header: Server: Apache\r\n",
        "header: Set-Cookie: RQ=\"q=python+developer&l=Chicago%2C+IL\"; Expires=Sat, 18-May-2013 16:07:54 GMT; Path=/\r\n",
        "header: Set-Cookie: UD=\"ID=eb5cf85e8d46bea9:AK=dd616958bd9ddc12:CV=1366301258:LA=1366301274:TS=1366301258:SG=64356b8b6e2ff2384d45e6566dfc78c2\"; Expires=Tue, 23-Apr-2030 10:56:25 GMT; Path=/\r\n",
        "header: Vary: User-Agent,Accept-Encoding\r\n",
        "header: Content-Encoding: gzip\r\n",
        "header: Transfer-Encoding: chunked\r\n",
        "header: Content-Type: text/html;charset=UTF-8\r\n",
        "header: Connection: close\r\n",
        "send:"
       ]
      },
      {
       "output_type": "stream",
       "stream": "stdout",
       "text": [
        " 'GET /jobs?q=python+developer&l=Chicago%2C+IL&start=170 HTTP/1.1\\r\\nAccept-Encoding: gzip\\r\\nHost: www.indeed.com\\r\\nUser-Agent: Mozilla/5.0(X11; U; Linux i686; en-US; rv:1.9.0.1) Gecko/2008071615 Fedora/3.0.1-1.fc9 Firefox/3.0.1\\r\\nConnection: close\\r\\nCookie: PREF=\"ID=3a7ad8e800efd015:TM=1366301258:NW=1:JF=1:L=Chicago%2C+IL\"; RQ=\"q=python+developer&l=Chicago%2C+IL\"; INDEED_CSRF_TOKEN=IyzbxbLC0qjkPzQ5OjacNbbdqQkiQIAW; JSESSIONID=2029BD4C19B60F1FB573CF86EA5D5F2C.usB_ord-web7; UD=\"ID=eb5cf85e8d46bea9:AK=dd616958bd9ddc12:CV=1366301258:LA=1366301274:TS=1366301258:SG=64356b8b6e2ff2384d45e6566dfc78c2\"; BIGipServerus_ord=2903587122.20480.0000; DCT=8; CTK=17oeudcdp18330ih\\r\\nReferer: http://www.indeed.com/jobs?q=python+developer&l=Chicago%2C+IL&start=160\\r\\n\\r\\n'\n",
        "reply:"
       ]
      },
      {
       "output_type": "stream",
       "stream": "stdout",
       "text": [
        " 'HTTP/1.1 200 OK\\r\\n'\n",
        "header: Date: Thu, 18 Apr 2013 16:07:55 GMT\r\n",
        "header: Server: Apache\r\n",
        "header: Set-Cookie: RQ=\"q=python+developer&l=Chicago%2C+IL\"; Expires=Sat, 18-May-2013 16:07:55 GMT; Path=/\r\n",
        "header: Set-Cookie: UD=\"ID=eb5cf85e8d46bea9:AK=dd616958bd9ddc12:CV=1366301258:LA=1366301275:TS=1366301258:SG=3701e20a3826e214711dd645e1b5773c\"; Expires=Tue, 23-Apr-2030 10:56:26 GMT; Path=/\r\n",
        "header: Vary: User-Agent,Accept-Encoding\r\n",
        "header: Content-Encoding: gzip\r\n",
        "header: Transfer-Encoding: chunked\r\n",
        "header: Content-Type: text/html;charset=UTF-8\r\n",
        "header: Connection: close\r\n",
        "send:"
       ]
      },
      {
       "output_type": "stream",
       "stream": "stdout",
       "text": [
        " 'GET /jobs?q=python+developer&l=Chicago%2C+IL&start=180 HTTP/1.1\\r\\nAccept-Encoding: gzip\\r\\nHost: www.indeed.com\\r\\nUser-Agent: Mozilla/5.0(X11; U; Linux i686; en-US; rv:1.9.0.1) Gecko/2008071615 Fedora/3.0.1-1.fc9 Firefox/3.0.1\\r\\nConnection: close\\r\\nCookie: PREF=\"ID=3a7ad8e800efd015:TM=1366301258:NW=1:JF=1:L=Chicago%2C+IL\"; RQ=\"q=python+developer&l=Chicago%2C+IL\"; INDEED_CSRF_TOKEN=IyzbxbLC0qjkPzQ5OjacNbbdqQkiQIAW; JSESSIONID=2029BD4C19B60F1FB573CF86EA5D5F2C.usB_ord-web7; UD=\"ID=eb5cf85e8d46bea9:AK=dd616958bd9ddc12:CV=1366301258:LA=1366301275:TS=1366301258:SG=3701e20a3826e214711dd645e1b5773c\"; BIGipServerus_ord=2903587122.20480.0000; DCT=8; CTK=17oeudcdp18330ih\\r\\nReferer: http://www.indeed.com/jobs?q=python+developer&l=Chicago%2C+IL&start=170\\r\\n\\r\\n'\n",
        "reply:"
       ]
      },
      {
       "output_type": "stream",
       "stream": "stdout",
       "text": [
        " 'HTTP/1.1 200 OK\\r\\n'\n",
        "header: Date: Thu, 18 Apr 2013 16:07:55 GMT\r\n",
        "header: Server: Apache\r\n",
        "header: Set-Cookie: RQ=\"q=python+developer&l=Chicago%2C+IL\"; Expires=Sat, 18-May-2013 16:07:55 GMT; Path=/\r\n",
        "header: Set-Cookie: UD=\"ID=eb5cf85e8d46bea9:AK=dd616958bd9ddc12:CV=1366301258:LA=1366301275:TS=1366301258:SG=3701e20a3826e214711dd645e1b5773c\"; Expires=Tue, 23-Apr-2030 10:56:26 GMT; Path=/\r\n",
        "header: Vary: User-Agent,Accept-Encoding\r\n",
        "header: Content-Encoding: gzip\r\n",
        "header: Transfer-Encoding: chunked\r\n",
        "header: Content-Type: text/html;charset=UTF-8\r\n",
        "header: Connection: close\r\n",
        "send:"
       ]
      },
      {
       "output_type": "stream",
       "stream": "stdout",
       "text": [
        " 'GET /jobs?q=python+developer&l=Chicago%2C+IL&start=190 HTTP/1.1\\r\\nAccept-Encoding: gzip\\r\\nHost: www.indeed.com\\r\\nUser-Agent: Mozilla/5.0(X11; U; Linux i686; en-US; rv:1.9.0.1) Gecko/2008071615 Fedora/3.0.1-1.fc9 Firefox/3.0.1\\r\\nConnection: close\\r\\nCookie: PREF=\"ID=3a7ad8e800efd015:TM=1366301258:NW=1:JF=1:L=Chicago%2C+IL\"; RQ=\"q=python+developer&l=Chicago%2C+IL\"; INDEED_CSRF_TOKEN=IyzbxbLC0qjkPzQ5OjacNbbdqQkiQIAW; JSESSIONID=2029BD4C19B60F1FB573CF86EA5D5F2C.usB_ord-web7; UD=\"ID=eb5cf85e8d46bea9:AK=dd616958bd9ddc12:CV=1366301258:LA=1366301275:TS=1366301258:SG=3701e20a3826e214711dd645e1b5773c\"; BIGipServerus_ord=2903587122.20480.0000; DCT=8; CTK=17oeudcdp18330ih\\r\\nReferer: http://www.indeed.com/jobs?q=python+developer&l=Chicago%2C+IL&start=180\\r\\n\\r\\n'\n",
        "reply:"
       ]
      },
      {
       "output_type": "stream",
       "stream": "stdout",
       "text": [
        " 'HTTP/1.1 200 OK\\r\\n'\n",
        "header: Date: Thu, 18 Apr 2013 16:07:56 GMT\r\n",
        "header: Server: Apache\r\n",
        "header: Set-Cookie: RQ=\"q=python+developer&l=Chicago%2C+IL\"; Expires=Sat, 18-May-2013 16:07:56 GMT; Path=/\r\n",
        "header: Set-Cookie: UD=\"ID=eb5cf85e8d46bea9:AK=dd616958bd9ddc12:CV=1366301258:LA=1366301276:TS=1366301258:SG=3a0ed7b79665d4fa93ab85034fce8d4f\"; Expires=Tue, 23-Apr-2030 10:56:27 GMT; Path=/\r\n",
        "header: Vary: User-Agent,Accept-Encoding\r\n",
        "header: Content-Encoding: gzip\r\n",
        "header: Transfer-Encoding: chunked\r\n",
        "header: Content-Type: text/html;charset=UTF-8\r\n",
        "header: Connection: close\r\n",
        "send:"
       ]
      },
      {
       "output_type": "stream",
       "stream": "stdout",
       "text": [
        " 'GET /jobs?q=python+developer&l=Chicago%2C+IL&start=200 HTTP/1.1\\r\\nAccept-Encoding: gzip\\r\\nHost: www.indeed.com\\r\\nUser-Agent: Mozilla/5.0(X11; U; Linux i686; en-US; rv:1.9.0.1) Gecko/2008071615 Fedora/3.0.1-1.fc9 Firefox/3.0.1\\r\\nConnection: close\\r\\nCookie: PREF=\"ID=3a7ad8e800efd015:TM=1366301258:NW=1:JF=1:L=Chicago%2C+IL\"; RQ=\"q=python+developer&l=Chicago%2C+IL\"; INDEED_CSRF_TOKEN=IyzbxbLC0qjkPzQ5OjacNbbdqQkiQIAW; JSESSIONID=2029BD4C19B60F1FB573CF86EA5D5F2C.usB_ord-web7; UD=\"ID=eb5cf85e8d46bea9:AK=dd616958bd9ddc12:CV=1366301258:LA=1366301276:TS=1366301258:SG=3a0ed7b79665d4fa93ab85034fce8d4f\"; BIGipServerus_ord=2903587122.20480.0000; DCT=8; CTK=17oeudcdp18330ih\\r\\nReferer: http://www.indeed.com/jobs?q=python+developer&l=Chicago%2C+IL&start=190\\r\\n\\r\\n'\n",
        "reply:"
       ]
      },
      {
       "output_type": "stream",
       "stream": "stdout",
       "text": [
        " 'HTTP/1.1 200 OK\\r\\n'\n",
        "header: Date: Thu, 18 Apr 2013 16:07:57 GMT\r\n",
        "header: Server: Apache\r\n",
        "header: Set-Cookie: RQ=\"q=python+developer&l=Chicago%2C+IL\"; Expires=Sat, 18-May-2013 16:07:57 GMT; Path=/\r\n",
        "header: Set-Cookie: UD=\"ID=eb5cf85e8d46bea9:AK=dd616958bd9ddc12:CV=1366301258:LA=1366301277:TS=1366301258:SG=a7df067439c68abe8f2266fce3f9e87b\"; Expires=Tue, 23-Apr-2030 10:56:28 GMT; Path=/\r\n",
        "header: Vary: User-Agent,Accept-Encoding\r\n",
        "header: Content-Encoding: gzip\r\n",
        "header: Transfer-Encoding: chunked\r\n",
        "header: Content-Type: text/html;charset=UTF-8\r\n",
        "header: Connection: close\r\n",
        "send:"
       ]
      },
      {
       "output_type": "stream",
       "stream": "stdout",
       "text": [
        " 'GET /jobs?q=python+developer&l=Chicago%2C+IL&start=210 HTTP/1.1\\r\\nAccept-Encoding: gzip\\r\\nHost: www.indeed.com\\r\\nUser-Agent: Mozilla/5.0(X11; U; Linux i686; en-US; rv:1.9.0.1) Gecko/2008071615 Fedora/3.0.1-1.fc9 Firefox/3.0.1\\r\\nConnection: close\\r\\nCookie: PREF=\"ID=3a7ad8e800efd015:TM=1366301258:NW=1:JF=1:L=Chicago%2C+IL\"; RQ=\"q=python+developer&l=Chicago%2C+IL\"; INDEED_CSRF_TOKEN=IyzbxbLC0qjkPzQ5OjacNbbdqQkiQIAW; JSESSIONID=2029BD4C19B60F1FB573CF86EA5D5F2C.usB_ord-web7; UD=\"ID=eb5cf85e8d46bea9:AK=dd616958bd9ddc12:CV=1366301258:LA=1366301277:TS=1366301258:SG=a7df067439c68abe8f2266fce3f9e87b\"; BIGipServerus_ord=2903587122.20480.0000; DCT=8; CTK=17oeudcdp18330ih\\r\\nReferer: http://www.indeed.com/jobs?q=python+developer&l=Chicago%2C+IL&start=200\\r\\n\\r\\n'\n",
        "reply:"
       ]
      },
      {
       "output_type": "stream",
       "stream": "stdout",
       "text": [
        " 'HTTP/1.1 200 OK\\r\\n'\n",
        "header: Date: Thu, 18 Apr 2013 16:07:58 GMT\r\n",
        "header: Server: Apache\r\n",
        "header: Set-Cookie: RQ=\"q=python+developer&l=Chicago%2C+IL\"; Expires=Sat, 18-May-2013 16:07:58 GMT; Path=/\r\n",
        "header: Set-Cookie: UD=\"ID=eb5cf85e8d46bea9:AK=dd616958bd9ddc12:CV=1366301258:LA=1366301278:TS=1366301258:SG=0e6e058f4f92ae90159b5b4e1f91b706\"; Expires=Tue, 23-Apr-2030 10:56:29 GMT; Path=/\r\n",
        "header: Vary: User-Agent,Accept-Encoding\r\n",
        "header: Content-Encoding: gzip\r\n",
        "header: Transfer-Encoding: chunked\r\n",
        "header: Content-Type: text/html;charset=UTF-8\r\n",
        "header: Connection: close\r\n",
        "send:"
       ]
      },
      {
       "output_type": "stream",
       "stream": "stdout",
       "text": [
        " 'GET /jobs?q=python+developer&l=Chicago%2C+IL&start=220 HTTP/1.1\\r\\nAccept-Encoding: gzip\\r\\nHost: www.indeed.com\\r\\nUser-Agent: Mozilla/5.0(X11; U; Linux i686; en-US; rv:1.9.0.1) Gecko/2008071615 Fedora/3.0.1-1.fc9 Firefox/3.0.1\\r\\nConnection: close\\r\\nCookie: PREF=\"ID=3a7ad8e800efd015:TM=1366301258:NW=1:JF=1:L=Chicago%2C+IL\"; RQ=\"q=python+developer&l=Chicago%2C+IL\"; INDEED_CSRF_TOKEN=IyzbxbLC0qjkPzQ5OjacNbbdqQkiQIAW; JSESSIONID=2029BD4C19B60F1FB573CF86EA5D5F2C.usB_ord-web7; UD=\"ID=eb5cf85e8d46bea9:AK=dd616958bd9ddc12:CV=1366301258:LA=1366301278:TS=1366301258:SG=0e6e058f4f92ae90159b5b4e1f91b706\"; BIGipServerus_ord=2903587122.20480.0000; DCT=8; CTK=17oeudcdp18330ih\\r\\nReferer: http://www.indeed.com/jobs?q=python+developer&l=Chicago%2C+IL&start=210\\r\\n\\r\\n'\n",
        "reply:"
       ]
      },
      {
       "output_type": "stream",
       "stream": "stdout",
       "text": [
        " 'HTTP/1.1 200 OK\\r\\n'\n",
        "header: Date: Thu, 18 Apr 2013 16:07:59 GMT\r\n",
        "header: Server: Apache\r\n",
        "header: Set-Cookie: RQ=\"q=python+developer&l=Chicago%2C+IL\"; Expires=Sat, 18-May-2013 16:07:59 GMT; Path=/\r\n",
        "header: Set-Cookie: UD=\"ID=eb5cf85e8d46bea9:AK=dd616958bd9ddc12:CV=1366301258:LA=1366301279:TS=1366301258:SG=a901e5b7bdf50798bcd854b6308e065e\"; Expires=Tue, 23-Apr-2030 10:56:30 GMT; Path=/\r\n",
        "header: Vary: User-Agent,Accept-Encoding\r\n",
        "header: Content-Encoding: gzip\r\n",
        "header: Transfer-Encoding: chunked\r\n",
        "header: Content-Type: text/html;charset=UTF-8\r\n",
        "header: Connection: close\r\n",
        "send:"
       ]
      },
      {
       "output_type": "stream",
       "stream": "stdout",
       "text": [
        " 'GET /jobs?q=python+developer&l=Chicago%2C+IL&start=230 HTTP/1.1\\r\\nAccept-Encoding: gzip\\r\\nHost: www.indeed.com\\r\\nUser-Agent: Mozilla/5.0(X11; U; Linux i686; en-US; rv:1.9.0.1) Gecko/2008071615 Fedora/3.0.1-1.fc9 Firefox/3.0.1\\r\\nConnection: close\\r\\nCookie: PREF=\"ID=3a7ad8e800efd015:TM=1366301258:NW=1:JF=1:L=Chicago%2C+IL\"; RQ=\"q=python+developer&l=Chicago%2C+IL\"; INDEED_CSRF_TOKEN=IyzbxbLC0qjkPzQ5OjacNbbdqQkiQIAW; JSESSIONID=2029BD4C19B60F1FB573CF86EA5D5F2C.usB_ord-web7; UD=\"ID=eb5cf85e8d46bea9:AK=dd616958bd9ddc12:CV=1366301258:LA=1366301279:TS=1366301258:SG=a901e5b7bdf50798bcd854b6308e065e\"; BIGipServerus_ord=2903587122.20480.0000; DCT=8; CTK=17oeudcdp18330ih\\r\\nReferer: http://www.indeed.com/jobs?q=python+developer&l=Chicago%2C+IL&start=220\\r\\n\\r\\n'\n",
        "reply:"
       ]
      },
      {
       "output_type": "stream",
       "stream": "stdout",
       "text": [
        " 'HTTP/1.1 200 OK\\r\\n'\n",
        "header: Date: Thu, 18 Apr 2013 16:08:00 GMT\r\n",
        "header: Server: Apache\r\n",
        "header: Set-Cookie: RQ=\"q=python+developer&l=Chicago%2C+IL\"; Expires=Sat, 18-May-2013 16:08:00 GMT; Path=/\r\n",
        "header: Set-Cookie: UD=\"ID=eb5cf85e8d46bea9:AK=dd616958bd9ddc12:CV=1366301258:LA=1366301280:TS=1366301258:SG=4483ebfedff273a7ead836a3d0e41fda\"; Expires=Tue, 23-Apr-2030 10:56:31 GMT; Path=/\r\n",
        "header: Vary: User-Agent,Accept-Encoding\r\n",
        "header: Content-Encoding: gzip\r\n",
        "header: Transfer-Encoding: chunked\r\n",
        "header: Content-Type: text/html;charset=UTF-8\r\n",
        "header: Connection: close\r\n",
        "send:"
       ]
      },
      {
       "output_type": "stream",
       "stream": "stdout",
       "text": [
        " 'GET /jobs?q=python+developer&l=Chicago%2C+IL&start=240 HTTP/1.1\\r\\nAccept-Encoding: gzip\\r\\nHost: www.indeed.com\\r\\nUser-Agent: Mozilla/5.0(X11; U; Linux i686; en-US; rv:1.9.0.1) Gecko/2008071615 Fedora/3.0.1-1.fc9 Firefox/3.0.1\\r\\nConnection: close\\r\\nCookie: PREF=\"ID=3a7ad8e800efd015:TM=1366301258:NW=1:JF=1:L=Chicago%2C+IL\"; RQ=\"q=python+developer&l=Chicago%2C+IL\"; INDEED_CSRF_TOKEN=IyzbxbLC0qjkPzQ5OjacNbbdqQkiQIAW; JSESSIONID=2029BD4C19B60F1FB573CF86EA5D5F2C.usB_ord-web7; UD=\"ID=eb5cf85e8d46bea9:AK=dd616958bd9ddc12:CV=1366301258:LA=1366301280:TS=1366301258:SG=4483ebfedff273a7ead836a3d0e41fda\"; BIGipServerus_ord=2903587122.20480.0000; DCT=8; CTK=17oeudcdp18330ih\\r\\nReferer: http://www.indeed.com/jobs?q=python+developer&l=Chicago%2C+IL&start=230\\r\\n\\r\\n'\n",
        "reply:"
       ]
      },
      {
       "output_type": "stream",
       "stream": "stdout",
       "text": [
        " 'HTTP/1.1 200 OK\\r\\n'\n",
        "header: Date: Thu, 18 Apr 2013 16:08:01 GMT\r\n",
        "header: Server: Apache\r\n",
        "header: Set-Cookie: RQ=\"q=python+developer&l=Chicago%2C+IL\"; Expires=Sat, 18-May-2013 16:08:01 GMT; Path=/\r\n",
        "header: Set-Cookie: UD=\"ID=eb5cf85e8d46bea9:AK=dd616958bd9ddc12:CV=1366301258:LA=1366301281:TS=1366301258:SG=b662a3f51cd27315f41f32258f830962\"; Expires=Tue, 23-Apr-2030 10:56:32 GMT; Path=/\r\n",
        "header: Vary: User-Agent,Accept-Encoding\r\n",
        "header: Content-Encoding: gzip\r\n",
        "header: Transfer-Encoding: chunked\r\n",
        "header: Content-Type: text/html;charset=UTF-8\r\n",
        "header: Connection: close\r\n",
        "send:"
       ]
      },
      {
       "output_type": "stream",
       "stream": "stdout",
       "text": [
        " 'GET /jobs?q=python+developer&l=Chicago%2C+IL&start=250 HTTP/1.1\\r\\nAccept-Encoding: gzip\\r\\nHost: www.indeed.com\\r\\nUser-Agent: Mozilla/5.0(X11; U; Linux i686; en-US; rv:1.9.0.1) Gecko/2008071615 Fedora/3.0.1-1.fc9 Firefox/3.0.1\\r\\nConnection: close\\r\\nCookie: PREF=\"ID=3a7ad8e800efd015:TM=1366301258:NW=1:JF=1:L=Chicago%2C+IL\"; RQ=\"q=python+developer&l=Chicago%2C+IL\"; INDEED_CSRF_TOKEN=IyzbxbLC0qjkPzQ5OjacNbbdqQkiQIAW; JSESSIONID=2029BD4C19B60F1FB573CF86EA5D5F2C.usB_ord-web7; UD=\"ID=eb5cf85e8d46bea9:AK=dd616958bd9ddc12:CV=1366301258:LA=1366301281:TS=1366301258:SG=b662a3f51cd27315f41f32258f830962\"; BIGipServerus_ord=2903587122.20480.0000; DCT=8; CTK=17oeudcdp18330ih\\r\\nReferer: http://www.indeed.com/jobs?q=python+developer&l=Chicago%2C+IL&start=240\\r\\n\\r\\n'\n",
        "reply:"
       ]
      },
      {
       "output_type": "stream",
       "stream": "stdout",
       "text": [
        " 'HTTP/1.1 200 OK\\r\\n'\n",
        "header: Date: Thu, 18 Apr 2013 16:08:02 GMT\r\n",
        "header: Server: Apache\r\n",
        "header: Set-Cookie: RQ=\"q=python+developer&l=Chicago%2C+IL\"; Expires=Sat, 18-May-2013 16:08:02 GMT; Path=/\r\n",
        "header: Set-Cookie: UD=\"ID=eb5cf85e8d46bea9:AK=dd616958bd9ddc12:CV=1366301258:LA=1366301282:TS=1366301258:SG=a11d77d091bd55310c88d0aec622e216\"; Expires=Tue, 23-Apr-2030 10:56:33 GMT; Path=/\r\n",
        "header: Vary: User-Agent,Accept-Encoding\r\n",
        "header: Content-Encoding: gzip\r\n",
        "header: Transfer-Encoding: chunked\r\n",
        "header: Content-Type: text/html;charset=UTF-8\r\n",
        "header: Connection: close\r\n",
        "send:"
       ]
      },
      {
       "output_type": "stream",
       "stream": "stdout",
       "text": [
        " 'GET /jobs?q=python+developer&l=Chicago%2C+IL&start=260 HTTP/1.1\\r\\nAccept-Encoding: gzip\\r\\nHost: www.indeed.com\\r\\nUser-Agent: Mozilla/5.0(X11; U; Linux i686; en-US; rv:1.9.0.1) Gecko/2008071615 Fedora/3.0.1-1.fc9 Firefox/3.0.1\\r\\nConnection: close\\r\\nCookie: PREF=\"ID=3a7ad8e800efd015:TM=1366301258:NW=1:JF=1:L=Chicago%2C+IL\"; RQ=\"q=python+developer&l=Chicago%2C+IL\"; INDEED_CSRF_TOKEN=IyzbxbLC0qjkPzQ5OjacNbbdqQkiQIAW; JSESSIONID=2029BD4C19B60F1FB573CF86EA5D5F2C.usB_ord-web7; UD=\"ID=eb5cf85e8d46bea9:AK=dd616958bd9ddc12:CV=1366301258:LA=1366301282:TS=1366301258:SG=a11d77d091bd55310c88d0aec622e216\"; BIGipServerus_ord=2903587122.20480.0000; DCT=8; CTK=17oeudcdp18330ih\\r\\nReferer: http://www.indeed.com/jobs?q=python+developer&l=Chicago%2C+IL&start=250\\r\\n\\r\\n'\n",
        "reply:"
       ]
      },
      {
       "output_type": "stream",
       "stream": "stdout",
       "text": [
        " 'HTTP/1.1 200 OK\\r\\n'\n",
        "header: Date: Thu, 18 Apr 2013 16:08:03 GMT\r\n",
        "header: Server: Apache\r\n",
        "header: Set-Cookie: RQ=\"q=python+developer&l=Chicago%2C+IL\"; Expires=Sat, 18-May-2013 16:08:03 GMT; Path=/\r\n",
        "header: Set-Cookie: UD=\"ID=eb5cf85e8d46bea9:AK=dd616958bd9ddc12:CV=1366301258:LA=1366301283:TS=1366301258:SG=a3bba227bc57f6f70c4d0753a6bb77d3\"; Expires=Tue, 23-Apr-2030 10:56:34 GMT; Path=/\r\n",
        "header: Vary: User-Agent,Accept-Encoding\r\n",
        "header: Content-Encoding: gzip\r\n",
        "header: Transfer-Encoding: chunked\r\n",
        "header: Content-Type: text/html;charset=UTF-8\r\n",
        "header: Connection: close\r\n"
       ]
      }
     ],
     "prompt_number": 11
    },
    {
     "cell_type": "code",
     "collapsed": false,
     "input": [
      "for i in test1:\n",
      "    print i.absolute_url"
     ],
     "language": "python",
     "metadata": {},
     "outputs": [
      {
       "output_type": "stream",
       "stream": "stdout",
       "text": [
        "http://www.indeed.com/rc/clk?jk=d04a7dca77c9019c\n",
        "http://www.indeed.com/rc/clk?jk=6b064c08f944158b\n",
        "http://www.indeed.com/rc/clk?jk=0f60fd702403ad72\n",
        "http://www.indeed.com/rc/clk?jk=d8ac272174b779c7\n",
        "http://www.indeed.com/rc/clk?jk=fc3c98ffa85cb35e\n",
        "http://www.indeed.com/rc/clk?jk=a764280c8b9702b6\n",
        "http://www.indeed.com/rc/clk?jk=d5221c9996533573\n",
        "http://www.indeed.com/cmp/Chikara-Consulting/jobs/PHP-Jquery-Python-Django-Web-Developer-748c4db7cdde74af?r=1\n",
        "http://www.indeed.com/rc/clk?jk=2becd21ea0bbe379\n",
        "http://www.indeed.com/rc/clk?jk=ffef351ffb81cd15\n",
        "http://www.indeed.com/rc/clk?jk=d8f1fb3fbb09fa89\n",
        "http://www.indeed.com/rc/clk?jk=6471e39180922b40\n",
        "http://www.indeed.com/rc/clk?jk=a35c85e2c95f5772\n",
        "http://www.indeed.com/rc/clk?jk=6ef1fffc2c4979c2\n",
        "http://www.indeed.com/rc/clk?jk=78cd75632bc5ad06\n",
        "http://www.indeed.com/rc/clk?jk=669340e30d79f5b5\n",
        "http://www.indeed.com/rc/clk?jk=de66c2e225d91c76\n",
        "http://www.indeed.com/rc/clk?jk=b43f1d5e43f643bc\n",
        "http://www.indeed.com/rc/clk?jk=7e4a42e1ed9d6202\n",
        "http://www.indeed.com/rc/clk?jk=ceb0913266abeec1\n",
        "http://www.indeed.com/cmp/Thanx-Media/jobs/Unix-System-Developer-24edb1ea366ac319?r=1\n",
        "http://www.indeed.com/rc/clk?jk=add81e13c207919f\n",
        "http://www.indeed.com/rc/clk?jk=dad9e2eb276cb89c\n",
        "http://www.indeed.com/rc/clk?jk=bf369a4cca9ea003\n",
        "http://www.indeed.com/rc/clk?jk=c457c2978ff64977\n",
        "http://www.indeed.com/rc/clk?jk=19ebd3e31e53b31c\n",
        "http://www.indeed.com/rc/clk?jk=db8c2b93d78e0123\n",
        "http://www.indeed.com/rc/clk?jk=952c1a563ede306a\n",
        "http://www.indeed.com/rc/clk?jk=553ecf8e8648d3f7\n",
        "http://www.indeed.com/rc/clk?jk=70b4b6398d2ae16b\n",
        "http://www.indeed.com/rc/clk?jk=85d3c2ee63d69181\n",
        "http://www.indeed.com/rc/clk?jk=83b3c0f3f37f0bf3\n",
        "http://www.indeed.com/rc/clk?jk=3de50b62829f2fbd\n",
        "http://www.indeed.com/rc/clk?jk=82eff9e716e41977\n",
        "http://www.indeed.com/rc/clk?jk=882adc728ec0212b\n",
        "http://www.indeed.com/rc/clk?jk=d5bff9cb5c670359\n",
        "http://www.indeed.com/rc/clk?jk=e724b425f1f4bc93\n",
        "http://www.indeed.com/rc/clk?jk=743381727a0664c9\n",
        "http://www.indeed.com/rc/clk?jk=4d445ac97a96c37a\n",
        "http://www.indeed.com/rc/clk?jk=6ddcb1ac2af15570\n",
        "http://www.indeed.com/rc/clk?jk=aad1b7ac24189246\n",
        "http://www.indeed.com/rc/clk?jk=9e5e922ab35c136e\n",
        "http://www.indeed.com/rc/clk?jk=9d1ab79df5650162\n",
        "http://www.indeed.com/rc/clk?jk=ce50b696457e084c\n",
        "http://www.indeed.com/rc/clk?jk=ca56d9f6db34641c\n",
        "http://www.indeed.com/rc/clk?jk=dfbaac1a965ae2e3\n",
        "http://www.indeed.com/rc/clk?jk=423506306d6ca6d8\n",
        "http://www.indeed.com/rc/clk?jk=59997f003c400ed5\n",
        "http://www.indeed.com/rc/clk?jk=45346072ce695562\n",
        "http://www.indeed.com/rc/clk?jk=70e43fcef89a90c3\n",
        "http://www.indeed.com/rc/clk?jk=35a07afd2c964fee\n",
        "http://www.indeed.com/rc/clk?jk=cc1967f413a2b244\n",
        "http://www.indeed.com/rc/clk?jk=250ae31c9b36b1e0\n",
        "http://www.indeed.com/rc/clk?jk=3708b6227faaa212\n",
        "http://www.indeed.com/rc/clk?jk=a0fc6671f2524ccc\n",
        "http://www.indeed.com/rc/clk?jk=1b60092296f8a044\n",
        "http://www.indeed.com/rc/clk?jk=9ae5f3dbcecbbe41\n",
        "http://www.indeed.com/rc/clk?jk=fe1eaed9511a2cbd\n",
        "http://www.indeed.com/rc/clk?jk=6e3fc303c48a793c\n",
        "http://www.indeed.com/rc/clk?jk=368e0234fd5ab1db\n",
        "http://www.indeed.com/rc/clk?jk=53320c63bf3a4476\n",
        "http://www.indeed.com/rc/clk?jk=f39a392e9af26150\n",
        "http://www.indeed.com/cmp/SBB-Research-Group-LLC/jobs/Application-Developer-9b135e3ae98119b6?r=1\n",
        "http://www.indeed.com/rc/clk?jk=33aa7b62e63fa5e7\n",
        "http://www.indeed.com/rc/clk?jk=b5ae5a5c935f0744\n",
        "http://www.indeed.com/rc/clk?jk=2e8cad7bb4cf0715\n",
        "http://www.indeed.com/rc/clk?jk=875fea2b97afe242\n",
        "http://www.indeed.com/rc/clk?jk=da1863269878465d\n",
        "http://www.indeed.com/rc/clk?jk=bc7997631853cb1e\n",
        "http://www.indeed.com/rc/clk?jk=bb5b845bc65410ae\n",
        "http://www.indeed.com/rc/clk?jk=6f75cec71e9ccd8a\n",
        "http://www.indeed.com/rc/clk?jk=290fc19de65edec3\n",
        "http://www.indeed.com/rc/clk?jk=ce0556185a76acee\n",
        "http://www.indeed.com/rc/clk?jk=899345cd4d9c2d2f\n",
        "http://www.indeed.com/rc/clk?jk=a9414060312111b7\n",
        "http://www.indeed.com/rc/clk?jk=c9fc8a4d2ef14adf\n",
        "http://www.indeed.com/cmp/Call-One/jobs/Salesforce-Developer-0e38d9433d1dcfbf?r=1\n",
        "http://www.indeed.com/rc/clk?jk=44e576c6e656c1e5\n",
        "http://www.indeed.com/rc/clk?jk=11292326b05d1667\n",
        "http://www.indeed.com/rc/clk?jk=cb8b6f90faba3286\n",
        "http://www.indeed.com/rc/clk?jk=4699d5a2fc2216e0\n",
        "http://www.indeed.com/rc/clk?jk=1cd4798c6942d57e\n",
        "http://www.indeed.com/rc/clk?jk=9937ce4b3d4c8a7c\n",
        "http://www.indeed.com/rc/clk?jk=8f73a05544e1de58\n",
        "http://www.indeed.com/rc/clk?jk=186a6d239309b2da\n",
        "http://www.indeed.com/rc/clk?jk=6e14cc37085320da\n",
        "http://www.indeed.com/rc/clk?jk=7c29a17c98cd3e3c\n",
        "http://www.indeed.com/rc/clk?jk=ec37504d2e770214\n",
        "http://www.indeed.com/rc/clk?jk=ae09f9e759a067d8\n",
        "http://www.indeed.com/rc/clk?jk=9cab31c6cde8fec4\n",
        "http://www.indeed.com/rc/clk?jk=d7e6e746f84104fb\n",
        "http://www.indeed.com/rc/clk?jk=c64b884f0c2056ea\n",
        "http://www.indeed.com/rc/clk?jk=d82c27fd3b4ec2e8\n",
        "http://www.indeed.com/rc/clk?jk=4b6883268b1f44c9\n",
        "http://www.indeed.com/rc/clk?jk=82e6f01355c6358b\n",
        "http://www.indeed.com/rc/clk?jk=7c28130192de16e4\n",
        "http://www.indeed.com/rc/clk?jk=bae2bd470521dbe7\n",
        "http://www.indeed.com/rc/clk?jk=fcc71d3f5eb5c8b2\n",
        "http://www.indeed.com/rc/clk?jk=6f7bc1423680a1f3\n",
        "http://www.indeed.com/rc/clk?jk=e6b88a618843769b\n",
        "http://www.indeed.com/rc/clk?jk=850695023e5ee66b\n",
        "http://www.indeed.com/rc/clk?jk=7e781538fd3ce2c1\n",
        "http://www.indeed.com/rc/clk?jk=25c5de0d5707a48b\n",
        "http://www.indeed.com/rc/clk?jk=16dab12acf892299\n",
        "http://www.indeed.com/rc/clk?jk=ca5ffd667d64ecf0\n",
        "http://www.indeed.com/rc/clk?jk=2140c38792f1ff43\n",
        "http://www.indeed.com/rc/clk?jk=e00e833278439d1c\n",
        "http://www.indeed.com/rc/clk?jk=f79a7c10ff93a718\n",
        "http://www.indeed.com/rc/clk?jk=3f9773b2a3a50d75\n",
        "http://www.indeed.com/rc/clk?jk=49124e3ee5182201\n",
        "http://www.indeed.com/rc/clk?jk=94257f437345c002\n",
        "http://www.indeed.com/rc/clk?jk=af2e32eac21d2b04\n",
        "http://www.indeed.com/rc/clk?jk=52cd042e8c230c59\n",
        "http://www.indeed.com/rc/clk?jk=d7b0ddb5d0083bf7\n",
        "http://www.indeed.com/rc/clk?jk=93e2b02c82462e89\n",
        "http://www.indeed.com/rc/clk?jk=7f4cc261a1aeae7b\n",
        "http://www.indeed.com/rc/clk?jk=3500048c0c0e4b16\n",
        "http://www.indeed.com/rc/clk?jk=36d3bbc9a7e323e0\n",
        "http://www.indeed.com/rc/clk?jk=4ae75af43c3251e4\n",
        "http://www.indeed.com/rc/clk?jk=2669b44f3e469be1\n",
        "http://www.indeed.com/rc/clk?jk=74ae8faf210f4bd7\n",
        "http://www.indeed.com/rc/clk?jk=466e74b7f9d61ab2\n",
        "http://www.indeed.com/rc/clk?jk=aa4294ccabd29ddf\n",
        "http://www.indeed.com/rc/clk?jk=7473b4fbb1895c9f\n",
        "http://www.indeed.com/rc/clk?jk=c939861edfd90850\n",
        "http://www.indeed.com/rc/clk?jk=a9fc7fcbb8315e28\n",
        "http://www.indeed.com/rc/clk?jk=31e3024a5cf8f55d\n",
        "http://www.indeed.com/rc/clk?jk=bda7fe239f49b054\n",
        "http://www.indeed.com/rc/clk?jk=861c92b807da73ab\n",
        "http://www.indeed.com/rc/clk?jk=3503f3899b8b3404\n",
        "http://www.indeed.com/rc/clk?jk=318b61c8e4c7b8c2\n",
        "http://www.indeed.com/rc/clk?jk=e5c393b84727b69d\n",
        "http://www.indeed.com/rc/clk?jk=46020263854030a6\n",
        "http://www.indeed.com/rc/clk?jk=e994aff997e01668\n",
        "http://www.indeed.com/rc/clk?jk=81c4d29d6b375892\n",
        "http://www.indeed.com/rc/clk?jk=5b16e53555a18c16\n",
        "http://www.indeed.com/rc/clk?jk=9b495e01f4134489\n",
        "http://www.indeed.com/rc/clk?jk=f2357e6e55462ef4\n",
        "http://www.indeed.com/rc/clk?jk=4a36eff2bdd1fbee\n",
        "http://www.indeed.com/rc/clk?jk=41b669aaae248bcb\n",
        "http://www.indeed.com/rc/clk?jk=d8b98c9348870677\n",
        "http://www.indeed.com/rc/clk?jk=93dff7a6feef5339\n",
        "http://www.indeed.com/rc/clk?jk=460808da56d5f2e7\n",
        "http://www.indeed.com/rc/clk?jk=c5180a221b9cfe2b\n",
        "http://www.indeed.com/rc/clk?jk=5fe717490adff475\n",
        "http://www.indeed.com/rc/clk?jk=310895cd05d4be74\n",
        "http://www.indeed.com/rc/clk?jk=63a7201f42392b18\n",
        "http://www.indeed.com/rc/clk?jk=58e5b43acade5017\n",
        "http://www.indeed.com/rc/clk?jk=d753360f2060afc1\n",
        "http://www.indeed.com/rc/clk?jk=ccedb67e6218c07e\n",
        "http://www.indeed.com/rc/clk?jk=997db6788fa7f869\n",
        "http://www.indeed.com/rc/clk?jk=c3c20baab5c8b01d\n",
        "http://www.indeed.com/rc/clk?jk=890d40767b88ace5\n",
        "http://www.indeed.com/rc/clk?jk=5158c9492cd790d4\n",
        "http://www.indeed.com/rc/clk?jk=08d8b6a7a07ac914\n",
        "http://www.indeed.com/rc/clk?jk=f8801b91f14ae0e9\n",
        "http://www.indeed.com/rc/clk?jk=cb4ddf7be68ffac7\n",
        "http://www.indeed.com/rc/clk?jk=410f05b8f18deae0\n",
        "http://www.indeed.com/rc/clk?jk=317ce9e84b15f4b0\n",
        "http://www.indeed.com/rc/clk?jk=510a43e76cf95905\n",
        "http://www.indeed.com/rc/clk?jk=8433c08f76b6c3d4\n",
        "http://www.indeed.com/rc/clk?jk=043cf8543c2b477a\n",
        "http://www.indeed.com/rc/clk?jk=20e2f913c0c448d8\n",
        "http://www.indeed.com/rc/clk?jk=97092835d16121ee\n",
        "http://www.indeed.com/rc/clk?jk=4bd758dea4dca605\n",
        "http://www.indeed.com/rc/clk?jk=a60c14b3af6ae82b\n",
        "http://www.indeed.com/rc/clk?jk=e98b8eec97dae6e8\n",
        "http://www.indeed.com/rc/clk?jk=dd7770e47f63a16f\n",
        "http://www.indeed.com/rc/clk?jk=8999aecf3a90f82c\n",
        "http://www.indeed.com/rc/clk?jk=48886cdb82c2534b\n",
        "http://www.indeed.com/rc/clk?jk=442e4b05f712bc1f\n",
        "http://www.indeed.com/rc/clk?jk=a789a247a3948500\n",
        "http://www.indeed.com/rc/clk?jk=b93f466034d52c29\n",
        "http://www.indeed.com/rc/clk?jk=77e30d061b7a2d30\n",
        "http://www.indeed.com/rc/clk?jk=e15b7899a90f72f9\n",
        "http://www.indeed.com/rc/clk?jk=ebacb3e0f5d0508a\n",
        "http://www.indeed.com/rc/clk?jk=15b308b7e0a927a2\n",
        "http://www.indeed.com/rc/clk?jk=8ca57cd8247bd79b\n",
        "http://www.indeed.com/rc/clk?jk=b9ec9dd400e5d06f\n",
        "http://www.indeed.com/rc/clk?jk=1ba0df9e731b5b43\n",
        "http://www.indeed.com/rc/clk?jk=b50eba10aa760caf\n",
        "http://www.indeed.com/rc/clk?jk=324affe355682952\n",
        "http://www.indeed.com/rc/clk?jk=41dbb8150f5380d2\n",
        "http://www.indeed.com/rc/clk?jk=ba0d2fae0f2e94bc\n",
        "http://www.indeed.com/rc/clk?jk=a165038d1846089a\n",
        "http://www.indeed.com/rc/clk?jk=a7198bd6467bf4bc\n",
        "http://www.indeed.com/rc/clk?jk=c147bfce6dd1cf78\n",
        "http://www.indeed.com/rc/clk?jk=2e00b7c50a2e5227\n",
        "http://www.indeed.com/rc/clk?jk=3d4dda6f4247250c\n",
        "http://www.indeed.com/rc/clk?jk=526acb83728711f7\n",
        "http://www.indeed.com/rc/clk?jk=8197cfa22f132d86\n",
        "http://www.indeed.com/rc/clk?jk=6c104489caccba92\n",
        "http://www.indeed.com/rc/clk?jk=3b66ab9933bca229\n",
        "http://www.indeed.com/rc/clk?jk=cdea2fae3762cf92\n",
        "http://www.indeed.com/rc/clk?jk=d27acedd1c09c50d\n",
        "http://www.indeed.com/rc/clk?jk=0e3c3dcb5bb7d861\n",
        "http://www.indeed.com/rc/clk?jk=d293fe2842b2714f\n",
        "http://www.indeed.com/rc/clk?jk=91bd0f6da3b40692\n",
        "http://www.indeed.com/rc/clk?jk=34216416965b0bf1\n",
        "http://www.indeed.com/rc/clk?jk=618678146a39bd39\n",
        "http://www.indeed.com/rc/clk?jk=5526cceee815d7c8\n",
        "http://www.indeed.com/rc/clk?jk=78d0c51549a6d609\n",
        "http://www.indeed.com/rc/clk?jk=4f487989732ad246\n",
        "http://www.indeed.com/rc/clk?jk=a7b0f76733d1ad2a\n",
        "http://www.indeed.com/rc/clk?jk=7956f8200131bffb\n",
        "http://www.indeed.com/rc/clk?jk=d7d730a390d61286\n",
        "http://www.indeed.com/rc/clk?jk=5c077c5320e22b28\n",
        "http://www.indeed.com/rc/clk?jk=119122fe4cbfa440\n",
        "http://www.indeed.com/rc/clk?jk=e35a04845c6dfcdb\n",
        "http://www.indeed.com/rc/clk?jk=d2d182a7f6b891cc\n",
        "http://www.indeed.com/rc/clk?jk=570824839169e5d9\n",
        "http://www.indeed.com/rc/clk?jk=6e4525d85c5d0a53\n",
        "http://www.indeed.com/rc/clk?jk=95ff91bce38871fe\n",
        "http://www.indeed.com/rc/clk?jk=700dbbd6c09dea99\n",
        "http://www.indeed.com/rc/clk?jk=275d86668d61d030\n",
        "http://www.indeed.com/rc/clk?jk=6997c6c3408e35da\n",
        "http://www.indeed.com/rc/clk?jk=31cbe440fb0d5b86\n",
        "http://www.indeed.com/rc/clk?jk=d65c6a781fedf1bd\n",
        "http://www.indeed.com/rc/clk?jk=1a4aa68f08b10c68\n",
        "http://www.indeed.com/rc/clk?jk=7f266736f07ef324\n",
        "http://www.indeed.com/rc/clk?jk=d6fa5990cb58807d\n",
        "http://www.indeed.com/rc/clk?jk=a430dfc788fb6d2a\n",
        "http://www.indeed.com/rc/clk?jk=6e112107118fafb9\n",
        "http://www.indeed.com/rc/clk?jk=ca661148085b2cc8\n",
        "http://www.indeed.com/rc/clk?jk=d8647ce9784b7f2e\n",
        "http://www.indeed.com/rc/clk?jk=713d734ffda32c29\n",
        "http://www.indeed.com/rc/clk?jk=7adf50bde54630f2\n",
        "http://www.indeed.com/rc/clk?jk=a44c432d22fdf1bd\n",
        "http://www.indeed.com/rc/clk?jk=e375acef627b4b07\n",
        "http://www.indeed.com/rc/clk?jk=ca898b486d0274be\n",
        "http://www.indeed.com/rc/clk?jk=4d1e448ca4a736a9\n",
        "http://www.indeed.com/rc/clk?jk=4d30f234136472e0\n",
        "http://www.indeed.com/rc/clk?jk=bee6e79201b91ce6\n",
        "http://www.indeed.com/rc/clk?jk=5a9546637f399507\n",
        "http://www.indeed.com/rc/clk?jk=851ea2538db1e2d4\n",
        "http://www.indeed.com/rc/clk?jk=4ba1ea0843bbcb85\n",
        "http://www.indeed.com/rc/clk?jk=50ff71e7dd0268dd\n",
        "http://www.indeed.com/rc/clk?jk=52f6e823e5268375\n",
        "http://www.indeed.com/rc/clk?jk=0b554f4191ea7a8a\n",
        "http://www.indeed.com/rc/clk?jk=bb2c794f2b0e8ede\n",
        "http://www.indeed.com/rc/clk?jk=7f3a714a238dac0c\n",
        "http://www.indeed.com/rc/clk?jk=086e5422273ebd1d\n",
        "http://www.indeed.com/rc/clk?jk=069d4689d1ed6161\n",
        "http://www.indeed.com/rc/clk?jk=7a4d5d6943c96959\n",
        "http://www.indeed.com/rc/clk?jk=f88add3105d24c12\n",
        "http://www.indeed.com/rc/clk?jk=f18d00b8bec6eb78\n",
        "http://www.indeed.com/rc/clk?jk=97660b2cc6543d83\n",
        "http://www.indeed.com/rc/clk?jk=d720f1f0ec0416c8\n",
        "http://www.indeed.com/rc/clk?jk=e334db11321b1e3c\n",
        "http://www.indeed.com/rc/clk?jk=edca954c291f8713\n",
        "http://www.indeed.com/rc/clk?jk=b8a571550737cff8\n",
        "http://www.indeed.com/rc/clk?jk=6fdd58d950042ec0\n",
        "http://www.indeed.com/rc/clk?jk=3d702b22c261a092\n",
        "http://www.indeed.com/rc/clk?jk=dc23b65eb7bb2b7e\n",
        "http://www.indeed.com/rc/clk?jk=66af065a7ee539da\n",
        "http://www.indeed.com/rc/clk?jk=3d5ea82a4272c7bb\n",
        "http://www.indeed.com/rc/clk?jk=9d6d887c3ff46055\n",
        "http://www.indeed.com/rc/clk?jk=daa30c7613c1ef67\n",
        "http://www.indeed.com/rc/clk?jk=762be38792a74e63\n",
        "http://www.indeed.com/rc/clk?jk=57aaf0af5aee358b\n",
        "http://www.indeed.com/rc/clk?jk=086ebfb55fddf200\n",
        "http://www.indeed.com/rc/clk?jk=4d23c9647f6fa614\n",
        "http://www.indeed.com/rc/clk?jk=68675174d9f3ae6e\n",
        "http://www.indeed.com/rc/clk?jk=a65a19d875e6e90a\n",
        "http://www.indeed.com/rc/clk?jk=fd1ae3cfa29d2621\n",
        "http://www.indeed.com/rc/clk?jk=2c684444ad02485d\n",
        "http://www.indeed.com/rc/clk?jk=a6766af97794b06b\n",
        "http://www.indeed.com/rc/clk?jk=2c791b9c485aa9e5\n",
        "http://www.indeed.com/rc/clk?jk=9b8488e889245e68\n",
        "http://www.indeed.com/rc/clk?jk=f8108e321b48649f\n"
       ]
      }
     ],
     "prompt_number": 16
    },
    {
     "cell_type": "code",
     "collapsed": false,
     "input": [
      "for e in test1:\n",
      "    print e.attrs"
     ],
     "language": "python",
     "metadata": {},
     "outputs": [
      {
       "output_type": "stream",
       "stream": "stdout",
       "text": [
        "[('rel', 'nofollow'), ('href', '/rc/clk?jk=d04a7dca77c9019c'), ('target', '_blank'), ('onmousedown', 'return rclk(this,jobmap[0]);'), ('onclick', \"logFocus('d04a7dca77c9019c', 0); return rclk(this,jobmap[0],true);\"), ('itemprop', 'title'), ('title', 'Python Web Developer')]\n",
        "[('rel', 'nofollow'), ('href', '/rc/clk?jk=6b064c08f944158b'), ('target', '_blank'), ('onmousedown', 'return rclk(this,jobmap[1]);'), ('onclick', \"logFocus('6b064c08f944158b', 1); return rclk(this,jobmap[1],true);\"), ('itemprop', 'title'), ('title', 'Python Developer')]\n",
        "[('rel', 'nofollow'), ('href', '/rc/clk?jk=0f60fd702403ad72'), ('target', '_blank'), ('onmousedown', 'return rclk(this,jobmap[2]);'), ('onclick', \"logFocus('0f60fd702403ad72', 2); return rclk(this,jobmap[2],true);\"), ('itemprop', 'title'), ('title', 'Python Platform Developer')]\n",
        "[('rel', 'nofollow'), ('href', '/rc/clk?jk=d8ac272174b779c7'), ('target', '_blank'), ('onmousedown', 'return rclk(this,jobmap[3]);'), ('onclick', \"logFocus('d8ac272174b779c7', 3); return rclk(this,jobmap[3],true);\"), ('itemprop', 'title'), ('title', 'Python Developer')]\n",
        "[('rel', 'nofollow'), ('href', '/rc/clk?jk=fc3c98ffa85cb35e'), ('target', '_blank'), ('onmousedown', 'return rclk(this,jobmap[4]);'), ('onclick', \"logFocus('fc3c98ffa85cb35e', 4); return rclk(this,jobmap[4],true);\"), ('itemprop', 'title'), ('title', 'Python/Linux Web Developers')]\n",
        "[('rel', 'nofollow'), ('href', '/rc/clk?jk=a764280c8b9702b6'), ('target', '_blank'), ('onmousedown', 'return rclk(this,jobmap[5]);'), ('onclick', \"logFocus('a764280c8b9702b6', 5); return rclk(this,jobmap[5],true);\"), ('itemprop', 'title'), ('title', 'Python and Django Web Integration Developer')]\n",
        "[('rel', 'nofollow'), ('href', '/rc/clk?jk=d5221c9996533573'), ('target', '_blank'), ('onmousedown', 'return rclk(this,jobmap[6]);'), ('onclick', \"logFocus('d5221c9996533573', 6); return rclk(this,jobmap[6],true);\"), ('itemprop', 'title'), ('title', 'Web Developer')]\n",
        "[('rel', 'nofollow'), ('href', '/cmp/Chikara-Consulting/jobs/PHP-Jquery-Python-Django-Web-Developer-748c4db7cdde74af?r=1'), ('target', '_blank'), ('onmousedown', 'return rclk(this,jobmap[7]);'), ('onclick', \"logFocus('748c4db7cdde74af', 7); return rclk(this,jobmap[7],true);\"), ('itemprop', 'title'), ('title', 'PHP jQuery Python Django Web Developer Chicago IL $80k')]\n",
        "[('rel', 'nofollow'), ('href', '/rc/clk?jk=2becd21ea0bbe379'), ('target', '_blank'), ('onmousedown', 'return rclk(this,jobmap[8]);'), ('onclick', \"logFocus('2becd21ea0bbe379', 8); return rclk(this,jobmap[8],true);\"), ('itemprop', 'title'), ('title', 'System Analyst/Developer')]\n",
        "[('rel', 'nofollow'), ('href', '/rc/clk?jk=ffef351ffb81cd15'), ('target', '_blank'), ('onmousedown', 'return rclk(this,jobmap[9]);'), ('onclick', \"logFocus('ffef351ffb81cd15', 9); return rclk(this,jobmap[9],true);\"), ('itemprop', 'title'), ('title', 'Server Side Developer')]\n",
        "[('rel', 'nofollow'), ('href', '/rc/clk?jk=d8f1fb3fbb09fa89'), ('target', '_blank'), ('onmousedown', 'return rclk(this,jobmap[0]);'), ('onclick', \"logFocus('d8f1fb3fbb09fa89', 0); return rclk(this,jobmap[0],true);\"), ('itemprop', 'title'), ('title', 'Python Developer')]\n",
        "[('rel', 'nofollow'), ('href', '/rc/clk?jk=6471e39180922b40'), ('target', '_blank'), ('onmousedown', 'return rclk(this,jobmap[1]);'), ('onclick', \"logFocus('6471e39180922b40', 1); return rclk(this,jobmap[1],true);\"), ('itemprop', 'title'), ('title', 'Assistant Developer/Researcher')]\n",
        "[('rel', 'nofollow'), ('href', '/rc/clk?jk=a35c85e2c95f5772'), ('target', '_blank'), ('onmousedown', 'return rclk(this,jobmap[2]);'), ('onclick', \"logFocus('a35c85e2c95f5772', 2); return rclk(this,jobmap[2],true);\"), ('itemprop', 'title'), ('title', 'Associate Software Developer')]\n",
        "[('rel', 'nofollow'), ('href', '/rc/clk?jk=6ef1fffc2c4979c2'), ('target', '_blank'), ('onmousedown', 'return rclk(this,jobmap[3]);'), ('onclick', \"logFocus('6ef1fffc2c4979c2', 3); return rclk(this,jobmap[3],true);\"), ('itemprop', 'title'), ('title', 'Trade Desk Analyst - Python')]\n",
        "[('rel', 'nofollow'), ('href', '/rc/clk?jk=78cd75632bc5ad06'), ('target', '_blank'), ('onmousedown', 'return rclk(this,jobmap[4]);'), ('onclick', \"logFocus('78cd75632bc5ad06', 4); return rclk(this,jobmap[4],true);\"), ('itemprop', 'title'), ('title', 'Senior Hadoop Developer')]\n",
        "[('rel', 'nofollow'), ('href', '/rc/clk?jk=669340e30d79f5b5'), ('target', '_blank'), ('onmousedown', 'return rclk(this,jobmap[5]);'), ('onclick', \"logFocus('669340e30d79f5b5', 5); return rclk(this,jobmap[5],true);\"), ('itemprop', 'title'), ('title', 'Senior Python Engineer')]\n",
        "[('rel', 'nofollow'), ('href', '/rc/clk?jk=de66c2e225d91c76'), ('target', '_blank'), ('onmousedown', 'return rclk(this,jobmap[6]);'), ('onclick', \"logFocus('de66c2e225d91c76', 6); return rclk(this,jobmap[6],true);\"), ('itemprop', 'title'), ('title', 'SaaS Backend Developer 1')]\n",
        "[('rel', 'nofollow'), ('href', '/rc/clk?jk=b43f1d5e43f643bc'), ('target', '_blank'), ('onmousedown', 'return rclk(this,jobmap[7]);'), ('onclick', \"logFocus('b43f1d5e43f643bc', 7); return rclk(this,jobmap[7],true);\"), ('itemprop', 'title'), ('title', 'Web Developer/Designer')]\n",
        "[('rel', 'nofollow'), ('href', '/rc/clk?jk=7e4a42e1ed9d6202'), ('target', '_blank'), ('onmousedown', 'return rclk(this,jobmap[8]);'), ('onclick', \"logFocus('7e4a42e1ed9d6202', 8); return rclk(this,jobmap[8],true);\"), ('itemprop', 'title'), ('title', 'Software Developer II Position')]\n",
        "[('rel', 'nofollow'), ('href', '/rc/clk?jk=ceb0913266abeec1'), ('target', '_blank'), ('onmousedown', 'return rclk(this,jobmap[9]);'), ('onclick', \"logFocus('ceb0913266abeec1', 9); return rclk(this,jobmap[9],true);\"), ('itemprop', 'title'), ('title', 'Automation Developer')]\n",
        "[('rel', 'nofollow'), ('href', '/cmp/Thanx-Media/jobs/Unix-System-Developer-24edb1ea366ac319?r=1'), ('target', '_blank'), ('onmousedown', 'return rclk(this,jobmap[0]);'), ('onclick', \"logFocus('24edb1ea366ac319', 0); return rclk(this,jobmap[0],true);\"), ('itemprop', 'title'), ('title', 'Unix Systems Developer / Engineer')]\n",
        "[('rel', 'nofollow'), ('href', '/rc/clk?jk=add81e13c207919f'), ('target', '_blank'), ('onmousedown', 'return rclk(this,jobmap[1]);'), ('onclick', \"logFocus('add81e13c207919f', 1); return rclk(this,jobmap[1],true);\"), ('itemprop', 'title'), ('title', 'Senior Software Developer - Java')]\n",
        "[('rel', 'nofollow'), ('href', '/rc/clk?jk=dad9e2eb276cb89c'), ('target', '_blank'), ('onmousedown', 'return rclk(this,jobmap[2]);'), ('onclick', \"logFocus('dad9e2eb276cb89c', 2); return rclk(this,jobmap[2],true);\"), ('itemprop', 'title'), ('title', 'Mobile Web Developer (Python/MySQL)')]\n",
        "[('rel', 'nofollow'), ('href', '/rc/clk?jk=bf369a4cca9ea003'), ('target', '_blank'), ('onmousedown', 'return rclk(this,jobmap[3]);'), ('onclick', \"logFocus('bf369a4cca9ea003', 3); return rclk(this,jobmap[3],true);\"), ('itemprop', 'title'), ('title', 'Lead Consultant/Developer')]\n",
        "[('rel', 'nofollow'), ('href', '/rc/clk?jk=c457c2978ff64977'), ('target', '_blank'), ('onmousedown', 'return rclk(this,jobmap[4]);'), ('onclick', \"logFocus('c457c2978ff64977', 4); return rclk(this,jobmap[4],true);\"), ('itemprop', 'title'), ('title', 'CIB Tech - Electronic Trading - C++ Developer - VP or Associate - Chicago')]\n",
        "[('rel', 'nofollow'), ('href', '/rc/clk?jk=19ebd3e31e53b31c'), ('target', '_blank'), ('onmousedown', 'return rclk(this,jobmap[5]);'), ('onclick', \"logFocus('19ebd3e31e53b31c', 5); return rclk(this,jobmap[5],true);\"), ('itemprop', 'title'), ('title', 'Software Developer')]\n",
        "[('rel', 'nofollow'), ('href', '/rc/clk?jk=db8c2b93d78e0123'), ('target', '_blank'), ('onmousedown', 'return rclk(this,jobmap[6]);'), ('onclick', \"logFocus('db8c2b93d78e0123', 6); return rclk(this,jobmap[6],true);\"), ('itemprop', 'title'), ('title', 'Software Developer')]\n",
        "[('rel', 'nofollow'), ('href', '/rc/clk?jk=952c1a563ede306a'), ('target', '_blank'), ('onmousedown', 'return rclk(this,jobmap[7]);'), ('onclick', \"logFocus('952c1a563ede306a', 7); return rclk(this,jobmap[7],true);\"), ('itemprop', 'title'), ('title', 'Front-End Developer')]\n",
        "[('rel', 'nofollow'), ('href', '/rc/clk?jk=553ecf8e8648d3f7'), ('target', '_blank'), ('onmousedown', 'return rclk(this,jobmap[8]);'), ('onclick', \"logFocus('553ecf8e8648d3f7', 8); return rclk(this,jobmap[8],true);\"), ('itemprop', 'title'), ('title', 'Front-End Developer')]\n",
        "[('rel', 'nofollow'), ('href', '/rc/clk?jk=70b4b6398d2ae16b'), ('target', '_blank'), ('onmousedown', 'return rclk(this,jobmap[9]);'), ('onclick', \"logFocus('70b4b6398d2ae16b', 9); return rclk(this,jobmap[9],true);\"), ('itemprop', 'title'), ('title', 'Web Application Developer 1')]\n",
        "[('rel', 'nofollow'), ('href', '/rc/clk?jk=85d3c2ee63d69181'), ('target', '_blank'), ('onmousedown', 'return rclk(this,jobmap[0]);'), ('onclick', \"logFocus('85d3c2ee63d69181', 0); return rclk(this,jobmap[0],true);\"), ('itemprop', 'title'), ('title', 'PHP/MySQL Developer')]\n",
        "[('rel', 'nofollow'), ('href', '/rc/clk?jk=83b3c0f3f37f0bf3'), ('target', '_blank'), ('onmousedown', 'return rclk(this,jobmap[1]);'), ('onclick', \"logFocus('83b3c0f3f37f0bf3', 1); return rclk(this,jobmap[1],true);\"), ('itemprop', 'title'), ('title', 'Senior Software Developer')]\n",
        "[('rel', 'nofollow'), ('href', '/rc/clk?jk=3de50b62829f2fbd'), ('target', '_blank'), ('onmousedown', 'return rclk(this,jobmap[2]);'), ('onclick', \"logFocus('3de50b62829f2fbd', 2); return rclk(this,jobmap[2],true);\"), ('itemprop', 'title'), ('title', 'Application Developer')]\n",
        "[('rel', 'nofollow'), ('href', '/rc/clk?jk=82eff9e716e41977'), ('target', '_blank'), ('onmousedown', 'return rclk(this,jobmap[3]);'), ('onclick', \"logFocus('82eff9e716e41977', 3); return rclk(this,jobmap[3],true);\"), ('itemprop', 'title'), ('title', 'Open Source Developer')]\n",
        "[('rel', 'nofollow'), ('href', '/rc/clk?jk=882adc728ec0212b'), ('target', '_blank'), ('onmousedown', 'return rclk(this,jobmap[4]);'), ('onclick', \"logFocus('882adc728ec0212b', 4); return rclk(this,jobmap[4],true);\"), ('itemprop', 'title'), ('title', 'Wordpress Web Developer')]\n",
        "[('rel', 'nofollow'), ('href', '/rc/clk?jk=d5bff9cb5c670359'), ('target', '_blank'), ('onmousedown', 'return rclk(this,jobmap[5]);'), ('onclick', \"logFocus('d5bff9cb5c670359', 5); return rclk(this,jobmap[5],true);\"), ('itemprop', 'title'), ('title', 'Sybase DBA/Developer')]\n",
        "[('rel', 'nofollow'), ('href', '/rc/clk?jk=e724b425f1f4bc93'), ('target', '_blank'), ('onmousedown', 'return rclk(this,jobmap[6]);'), ('onclick', \"logFocus('e724b425f1f4bc93', 6); return rclk(this,jobmap[6],true);\"), ('itemprop', 'title'), ('title', 'Front End Developer')]\n",
        "[('rel', 'nofollow'), ('href', '/rc/clk?jk=743381727a0664c9'), ('target', '_blank'), ('onmousedown', 'return rclk(this,jobmap[7]);'), ('onclick', \"logFocus('743381727a0664c9', 7); return rclk(this,jobmap[7],true);\"), ('itemprop', 'title'), ('title', 'iOS (C#) Lead Developer')]\n",
        "[('rel', 'nofollow'), ('href', '/rc/clk?jk=4d445ac97a96c37a'), ('target', '_blank'), ('onmousedown', 'return rclk(this,jobmap[8]);'), ('onclick', \"logFocus('4d445ac97a96c37a', 8); return rclk(this,jobmap[8],true);\"), ('itemprop', 'title'), ('title', 'Senior Application Developer - Telework')]\n",
        "[('rel', 'nofollow'), ('href', '/rc/clk?jk=6ddcb1ac2af15570'), ('target', '_blank'), ('onmousedown', 'return rclk(this,jobmap[9]);'), ('onclick', \"logFocus('6ddcb1ac2af15570', 9); return rclk(this,jobmap[9],true);\"), ('itemprop', 'title'), ('title', 'JavaScript Developer')]\n",
        "[('rel', 'nofollow'), ('href', '/rc/clk?jk=aad1b7ac24189246'), ('target', '_blank'), ('onmousedown', 'return rclk(this,jobmap[0]);'), ('onclick', \"logFocus('aad1b7ac24189246', 0); return rclk(this,jobmap[0],true);\"), ('itemprop', 'title'), ('title', 'Front-End Developer / Digital Producer - Modern Healthcare')]\n",
        "[('rel', 'nofollow'), ('href', '/rc/clk?jk=9e5e922ab35c136e'), ('target', '_blank'), ('onmousedown', 'return rclk(this,jobmap[1]);'), ('onclick', \"logFocus('9e5e922ab35c136e', 1); return rclk(this,jobmap[1],true);\"), ('itemprop', 'title'), ('title', 'Software (Web) Developer')]\n",
        "[('rel', 'nofollow'), ('href', '/rc/clk?jk=9d1ab79df5650162'), ('target', '_blank'), ('onmousedown', 'return rclk(this,jobmap[2]);'), ('onclick', \"logFocus('9d1ab79df5650162', 2); return rclk(this,jobmap[2],true);\"), ('itemprop', 'title'), ('title', 'Lead Developer')]\n",
        "[('rel', 'nofollow'), ('href', '/rc/clk?jk=ce50b696457e084c'), ('target', '_blank'), ('onmousedown', 'return rclk(this,jobmap[3]);'), ('onclick', \"logFocus('ce50b696457e084c', 3); return rclk(this,jobmap[3],true);\"), ('itemprop', 'title'), ('title', 'Software Developer / Back Office Technology')]\n",
        "[('rel', 'nofollow'), ('href', '/rc/clk?jk=ca56d9f6db34641c'), ('target', '_blank'), ('onmousedown', 'return rclk(this,jobmap[4]);'), ('onclick', \"logFocus('ca56d9f6db34641c', 4); return rclk(this,jobmap[4],true);\"), ('itemprop', 'title'), ('title', 'Ruby on Rails Application Developer')]\n",
        "[('rel', 'nofollow'), ('href', '/rc/clk?jk=dfbaac1a965ae2e3'), ('target', '_blank'), ('onmousedown', 'return rclk(this,jobmap[5]);'), ('onclick', \"logFocus('dfbaac1a965ae2e3', 5); return rclk(this,jobmap[5],true);\"), ('itemprop', 'title'), ('title', 'QA Developer')]\n",
        "[('rel', 'nofollow'), ('href', '/rc/clk?jk=423506306d6ca6d8'), ('target', '_blank'), ('onmousedown', 'return rclk(this,jobmap[6]);'), ('onclick', \"logFocus('423506306d6ca6d8', 6); return rclk(this,jobmap[6],true);\"), ('itemprop', 'title'), ('title', 'Ruby - Python - Java SW Developers')]\n",
        "[('rel', 'nofollow'), ('href', '/rc/clk?jk=59997f003c400ed5'), ('target', '_blank'), ('onmousedown', 'return rclk(this,jobmap[7]);'), ('onclick', \"logFocus('59997f003c400ed5', 7); return rclk(this,jobmap[7],true);\"), ('itemprop', 'title'), ('title', 'Testing Software Developer')]\n",
        "[('rel', 'nofollow'), ('href', '/rc/clk?jk=45346072ce695562'), ('target', '_blank'), ('onmousedown', 'return rclk(this,jobmap[8]);'), ('onclick', \"logFocus('45346072ce695562', 8); return rclk(this,jobmap[8],true);\"), ('itemprop', 'title'), ('title', 'Junior Python Developer')]\n",
        "[('rel', 'nofollow'), ('href', '/rc/clk?jk=70e43fcef89a90c3'), ('target', '_blank'), ('onmousedown', 'return rclk(this,jobmap[9]);'), ('onclick', \"logFocus('70e43fcef89a90c3', 9); return rclk(this,jobmap[9],true);\"), ('itemprop', 'title'), ('title', 'Software Developer / Programmer')]\n",
        "[('rel', 'nofollow'), ('href', '/rc/clk?jk=35a07afd2c964fee'), ('target', '_blank'), ('onmousedown', 'return rclk(this,jobmap[0]);'), ('onclick', \"logFocus('35a07afd2c964fee', 0); return rclk(this,jobmap[0],true);\"), ('itemprop', 'title'), ('title', 'Software Developer- Auto Trading Team')]\n",
        "[('rel', 'nofollow'), ('href', '/rc/clk?jk=cc1967f413a2b244'), ('target', '_blank'), ('onmousedown', 'return rclk(this,jobmap[1]);'), ('onclick', \"logFocus('cc1967f413a2b244', 1); return rclk(this,jobmap[1],true);\"), ('itemprop', 'title'), ('title', 'Senior Sybase DBA Developer')]\n",
        "[('rel', 'nofollow'), ('href', '/rc/clk?jk=250ae31c9b36b1e0'), ('target', '_blank'), ('onmousedown', 'return rclk(this,jobmap[2]);'), ('onclick', \"logFocus('250ae31c9b36b1e0', 2); return rclk(this,jobmap[2],true);\"), ('itemprop', 'title'), ('title', 'Mongo DB Database Developer')]\n",
        "[('rel', 'nofollow'), ('href', '/rc/clk?jk=3708b6227faaa212'), ('target', '_blank'), ('onmousedown', 'return rclk(this,jobmap[3]);'), ('onclick', \"logFocus('3708b6227faaa212', 3); return rclk(this,jobmap[3],true);\"), ('itemprop', 'title'), ('title', 'Web Developer (Ruby on Rails and UI)')]\n",
        "[('rel', 'nofollow'), ('href', '/rc/clk?jk=a0fc6671f2524ccc'), ('target', '_blank'), ('onmousedown', 'return rclk(this,jobmap[4]);'), ('onclick', \"logFocus('a0fc6671f2524ccc', 4); return rclk(this,jobmap[4],true);\"), ('itemprop', 'title'), ('title', 'Java Web Application Developer')]\n",
        "[('rel', 'nofollow'), ('href', '/rc/clk?jk=1b60092296f8a044'), ('target', '_blank'), ('onmousedown', 'return rclk(this,jobmap[5]);'), ('onclick', \"logFocus('1b60092296f8a044', 5); return rclk(this,jobmap[5],true);\"), ('itemprop', 'title'), ('title', 'Architect / Sr. Python Developer')]\n",
        "[('rel', 'nofollow'), ('href', '/rc/clk?jk=9ae5f3dbcecbbe41'), ('target', '_blank'), ('onmousedown', 'return rclk(this,jobmap[6]);'), ('onclick', \"logFocus('9ae5f3dbcecbbe41', 6); return rclk(this,jobmap[6],true);\"), ('itemprop', 'title'), ('title', 'Mongo Developer')]\n",
        "[('rel', 'nofollow'), ('href', '/rc/clk?jk=fe1eaed9511a2cbd'), ('target', '_blank'), ('onmousedown', 'return rclk(this,jobmap[7]);'), ('onclick', \"logFocus('fe1eaed9511a2cbd', 7); return rclk(this,jobmap[7],true);\"), ('itemprop', 'title'), ('title', 'Backend Developer')]\n",
        "[('rel', 'nofollow'), ('href', '/rc/clk?jk=6e3fc303c48a793c'), ('target', '_blank'), ('onmousedown', 'return rclk(this,jobmap[8]);'), ('onclick', \"logFocus('6e3fc303c48a793c', 8); return rclk(this,jobmap[8],true);\"), ('itemprop', 'title'), ('title', 'C++ Software Developer / Back Office')]\n",
        "[('rel', 'nofollow'), ('href', '/rc/clk?jk=368e0234fd5ab1db'), ('target', '_blank'), ('onmousedown', 'return rclk(this,jobmap[9]);'), ('onclick', \"logFocus('368e0234fd5ab1db', 9); return rclk(this,jobmap[9],true);\"), ('itemprop', 'title'), ('title', 'Backend Developer')]\n",
        "[('rel', 'nofollow'), ('href', '/rc/clk?jk=53320c63bf3a4476'), ('target', '_blank'), ('onmousedown', 'return rclk(this,jobmap[0]);'), ('onclick', \"logFocus('53320c63bf3a4476', 0); return rclk(this,jobmap[0],true);\"), ('itemprop', 'title'), ('title', 'Database Developer')]\n",
        "[('rel', 'nofollow'), ('href', '/rc/clk?jk=f39a392e9af26150'), ('target', '_blank'), ('onmousedown', 'return rclk(this,jobmap[1]);'), ('onclick', \"logFocus('f39a392e9af26150', 1); return rclk(this,jobmap[1],true);\"), ('itemprop', 'title'), ('title', 'Experienced C++ Developers')]\n",
        "[('rel', 'nofollow'), ('href', '/cmp/SBB-Research-Group-LLC/jobs/Application-Developer-9b135e3ae98119b6?r=1'), ('target', '_blank'), ('onmousedown', 'return rclk(this,jobmap[2]);'), ('onclick', \"logFocus('9b135e3ae98119b6', 2); return rclk(this,jobmap[2],true);\"), ('itemprop', 'title'), ('title', 'Applications Developer')]\n",
        "[('rel', 'nofollow'), ('href', '/rc/clk?jk=33aa7b62e63fa5e7'), ('target', '_blank'), ('onmousedown', 'return rclk(this,jobmap[3]);'), ('onclick', \"logFocus('33aa7b62e63fa5e7', 3); return rclk(this,jobmap[3],true);\"), ('itemprop', 'title'), ('title', 'Software Engineer/ Java Developer')]\n",
        "[('rel', 'nofollow'), ('href', '/rc/clk?jk=b5ae5a5c935f0744'), ('target', '_blank'), ('onmousedown', 'return rclk(this,jobmap[4]);'), ('onclick', \"logFocus('b5ae5a5c935f0744', 4); return rclk(this,jobmap[4],true);\"), ('itemprop', 'title'), ('title', 'Terminology Developer')]\n",
        "[('rel', 'nofollow'), ('href', '/rc/clk?jk=2e8cad7bb4cf0715'), ('target', '_blank'), ('onmousedown', 'return rclk(this,jobmap[5]);'), ('onclick', \"logFocus('2e8cad7bb4cf0715', 5); return rclk(this,jobmap[5],true);\"), ('itemprop', 'title'), ('title', 'PHP / MySQL Developer')]\n",
        "[('rel', 'nofollow'), ('href', '/rc/clk?jk=875fea2b97afe242'), ('target', '_blank'), ('onmousedown', 'return rclk(this,jobmap[6]);'), ('onclick', \"logFocus('875fea2b97afe242', 6); return rclk(this,jobmap[6],true);\"), ('itemprop', 'title'), ('title', 'Python Developer')]\n",
        "[('rel', 'nofollow'), ('href', '/rc/clk?jk=da1863269878465d'), ('target', '_blank'), ('onmousedown', 'return rclk(this,jobmap[7]);'), ('onclick', \"logFocus('da1863269878465d', 7); return rclk(this,jobmap[7],true);\"), ('itemprop', 'title'), ('title', 'C++ Mid-Level Developer in Chicago')]\n",
        "[('rel', 'nofollow'), ('href', '/rc/clk?jk=bc7997631853cb1e'), ('target', '_blank'), ('onmousedown', 'return rclk(this,jobmap[8]);'), ('onclick', \"logFocus('bc7997631853cb1e', 8); return rclk(this,jobmap[8],true);\"), ('itemprop', 'title'), ('title', 'Developer, Data Services')]\n",
        "[('rel', 'nofollow'), ('href', '/rc/clk?jk=bb5b845bc65410ae'), ('target', '_blank'), ('onmousedown', 'return rclk(this,jobmap[9]);'), ('onclick', \"logFocus('bb5b845bc65410ae', 9); return rclk(this,jobmap[9],true);\"), ('itemprop', 'title'), ('title', 'Front End Developer')]\n",
        "[('rel', 'nofollow'), ('href', '/rc/clk?jk=6f75cec71e9ccd8a'), ('target', '_blank'), ('onmousedown', 'return rclk(this,jobmap[0]);'), ('onclick', \"logFocus('6f75cec71e9ccd8a', 0); return rclk(this,jobmap[0],true);\"), ('itemprop', 'title'), ('title', 'Mongo DB developer')]\n",
        "[('rel', 'nofollow'), ('href', '/rc/clk?jk=290fc19de65edec3'), ('target', '_blank'), ('onmousedown', 'return rclk(this,jobmap[1]);'), ('onclick', \"logFocus('290fc19de65edec3', 1); return rclk(this,jobmap[1],true);\"), ('itemprop', 'title'), ('title', 'Jr.-Mid Level C++ Developer')]\n",
        "[('rel', 'nofollow'), ('href', '/rc/clk?jk=ce0556185a76acee'), ('target', '_blank'), ('onmousedown', 'return rclk(this,jobmap[2]);'), ('onclick', \"logFocus('ce0556185a76acee', 2); return rclk(this,jobmap[2],true);\"), ('itemprop', 'title'), ('title', 'Software Developer')]\n",
        "[('rel', 'nofollow'), ('href', '/rc/clk?jk=899345cd4d9c2d2f'), ('target', '_blank'), ('onmousedown', 'return rclk(this,jobmap[3]);'), ('onclick', \"logFocus('899345cd4d9c2d2f', 3); return rclk(this,jobmap[3],true);\"), ('itemprop', 'title'), ('title', 'Web Developer Internship')]\n",
        "[('rel', 'nofollow'), ('href', '/rc/clk?jk=a9414060312111b7'), ('target', '_blank'), ('onmousedown', 'return rclk(this,jobmap[4]);'), ('onclick', \"logFocus('a9414060312111b7', 4); return rclk(this,jobmap[4],true);\"), ('itemprop', 'title'), ('title', 'Backend Developer')]\n",
        "[('rel', 'nofollow'), ('href', '/rc/clk?jk=c9fc8a4d2ef14adf'), ('target', '_blank'), ('onmousedown', 'return rclk(this,jobmap[5]);'), ('onclick', \"logFocus('c9fc8a4d2ef14adf', 5); return rclk(this,jobmap[5],true);\"), ('itemprop', 'title'), ('title', 'Ruby Developer')]\n",
        "[('rel', 'nofollow'), ('href', '/cmp/Call-One/jobs/Salesforce-Developer-0e38d9433d1dcfbf?r=1'), ('target', '_blank'), ('onmousedown', 'return rclk(this,jobmap[6]);'), ('onclick', \"logFocus('0e38d9433d1dcfbf', 6); return rclk(this,jobmap[6],true);\"), ('itemprop', 'title'), ('title', 'SalesForce Developer')]\n",
        "[('rel', 'nofollow'), ('href', '/rc/clk?jk=44e576c6e656c1e5'), ('target', '_blank'), ('onmousedown', 'return rclk(this,jobmap[7]);'), ('onclick', \"logFocus('44e576c6e656c1e5', 7); return rclk(this,jobmap[7],true);\"), ('itemprop', 'title'), ('title', 'Scrum Developer')]\n",
        "[('rel', 'nofollow'), ('href', '/rc/clk?jk=11292326b05d1667'), ('target', '_blank'), ('onmousedown', 'return rclk(this,jobmap[8]);'), ('onclick', \"logFocus('11292326b05d1667', 8); return rclk(this,jobmap[8],true);\"), ('itemprop', 'title'), ('title', 'Java Developer')]\n",
        "[('rel', 'nofollow'), ('href', '/rc/clk?jk=cb8b6f90faba3286'), ('target', '_blank'), ('onmousedown', 'return rclk(this,jobmap[9]);'), ('onclick', \"logFocus('cb8b6f90faba3286', 9); return rclk(this,jobmap[9],true);\"), ('itemprop', 'title'), ('title', 'C++ Linux Developer - Contract')]\n",
        "[('rel', 'nofollow'), ('href', '/rc/clk?jk=4699d5a2fc2216e0'), ('target', '_blank'), ('onmousedown', 'return rclk(this,jobmap[0]);'), ('onclick', \"logFocus('4699d5a2fc2216e0', 0); return rclk(this,jobmap[0],true);\"), ('itemprop', 'title'), ('title', 'Software Developer III/Software Architect')]\n",
        "[('rel', 'nofollow'), ('href', '/rc/clk?jk=1cd4798c6942d57e'), ('target', '_blank'), ('onmousedown', 'return rclk(this,jobmap[1]);'), ('onclick', \"logFocus('1cd4798c6942d57e', 1); return rclk(this,jobmap[1],true);\"), ('itemprop', 'title'), ('title', 'Platform Developer')]\n",
        "[('rel', 'nofollow'), ('href', '/rc/clk?jk=9937ce4b3d4c8a7c'), ('target', '_blank'), ('onmousedown', 'return rclk(this,jobmap[2]);'), ('onclick', \"logFocus('9937ce4b3d4c8a7c', 2); return rclk(this,jobmap[2],true);\"), ('itemprop', 'title'), ('title', 'Senior Developer, Mobile Solutions')]\n",
        "[('rel', 'nofollow'), ('href', '/rc/clk?jk=8f73a05544e1de58'), ('target', '_blank'), ('onmousedown', 'return rclk(this,jobmap[3]);'), ('onclick', \"logFocus('8f73a05544e1de58', 3); return rclk(this,jobmap[3],true);\"), ('itemprop', 'title'), ('title', 'Mongo DB Database Developer')]\n",
        "[('rel', 'nofollow'), ('href', '/rc/clk?jk=186a6d239309b2da'), ('target', '_blank'), ('onmousedown', 'return rclk(this,jobmap[4]);'), ('onclick', \"logFocus('186a6d239309b2da', 4); return rclk(this,jobmap[4],true);\"), ('itemprop', 'title'), ('title', 'Software Developer - up to $120K!')]\n",
        "[('rel', 'nofollow'), ('href', '/rc/clk?jk=6e14cc37085320da'), ('target', '_blank'), ('onmousedown', 'return rclk(this,jobmap[5]);'), ('onclick', \"logFocus('6e14cc37085320da', 5); return rclk(this,jobmap[5],true);\"), ('itemprop', 'title'), ('title', 'C++ / JS Developer (All Excellence, No Politics, $100K+)')]\n",
        "[('rel', 'nofollow'), ('href', '/rc/clk?jk=7c29a17c98cd3e3c'), ('target', '_blank'), ('onmousedown', 'return rclk(this,jobmap[6]);'), ('onclick', \"logFocus('7c29a17c98cd3e3c', 6); return rclk(this,jobmap[6],true);\"), ('itemprop', 'title'), ('title', 'Linux Systems Automation Developer, C++, Java, Python, Erlang, JSON')]\n",
        "[('rel', 'nofollow'), ('href', '/rc/clk?jk=ec37504d2e770214'), ('target', '_blank'), ('onmousedown', 'return rclk(this,jobmap[7]);'), ('onclick', \"logFocus('ec37504d2e770214', 7); return rclk(this,jobmap[7],true);\"), ('itemprop', 'title'), ('title', 'Web Integration Developer')]\n",
        "[('rel', 'nofollow'), ('href', '/rc/clk?jk=ae09f9e759a067d8'), ('target', '_blank'), ('onmousedown', 'return rclk(this,jobmap[8]);'), ('onclick', \"logFocus('ae09f9e759a067d8', 8); return rclk(this,jobmap[8],true);\"), ('itemprop', 'title'), ('title', 'Python/Django Developer')]\n",
        "[('rel', 'nofollow'), ('href', '/rc/clk?jk=9cab31c6cde8fec4'), ('target', '_blank'), ('onmousedown', 'return rclk(this,jobmap[9]);'), ('onclick', \"logFocus('9cab31c6cde8fec4', 9); return rclk(this,jobmap[9],true);\"), ('itemprop', 'title'), ('title', 'Sybase IQ Developer/DBA')]\n",
        "[('rel', 'nofollow'), ('href', '/rc/clk?jk=d7e6e746f84104fb'), ('target', '_blank'), ('onmousedown', 'return rclk(this,jobmap[0]);'), ('onclick', \"logFocus('d7e6e746f84104fb', 0); return rclk(this,jobmap[0],true);\"), ('itemprop', 'title'), ('title', 'FULL TIME* multiple opportunities multiple levels (Jr-Mid-Sr) Developer')]\n",
        "[('rel', 'nofollow'), ('href', '/rc/clk?jk=c64b884f0c2056ea'), ('target', '_blank'), ('onmousedown', 'return rclk(this,jobmap[1]);'), ('onclick', \"logFocus('c64b884f0c2056ea', 1); return rclk(this,jobmap[1],true);\"), ('itemprop', 'title'), ('title', 'Software Engineer (Java Developer)')]\n",
        "[('rel', 'nofollow'), ('href', '/rc/clk?jk=d82c27fd3b4ec2e8'), ('target', '_blank'), ('onmousedown', 'return rclk(this,jobmap[2]);'), ('onclick', \"logFocus('d82c27fd3b4ec2e8', 2); return rclk(this,jobmap[2],true);\"), ('itemprop', 'title'), ('title', 'IT Senior Developer')]\n",
        "[('rel', 'nofollow'), ('href', '/rc/clk?jk=4b6883268b1f44c9'), ('target', '_blank'), ('onmousedown', 'return rclk(this,jobmap[3]);'), ('onclick', \"logFocus('4b6883268b1f44c9', 3); return rclk(this,jobmap[3],true);\"), ('itemprop', 'title'), ('title', 'Java Developer/Build, Release')]\n",
        "[('rel', 'nofollow'), ('href', '/rc/clk?jk=82e6f01355c6358b'), ('target', '_blank'), ('onmousedown', 'return rclk(this,jobmap[4]);'), ('onclick', \"logFocus('82e6f01355c6358b', 4); return rclk(this,jobmap[4],true);\"), ('itemprop', 'title'), ('title', 'Sr BI Developer')]\n",
        "[('rel', 'nofollow'), ('href', '/rc/clk?jk=7c28130192de16e4'), ('target', '_blank'), ('onmousedown', 'return rclk(this,jobmap[5]);'), ('onclick', \"logFocus('7c28130192de16e4', 5); return rclk(this,jobmap[5],true);\"), ('itemprop', 'title'), ('title', 'Developer')]\n",
        "[('rel', 'nofollow'), ('href', '/rc/clk?jk=bae2bd470521dbe7'), ('target', '_blank'), ('onmousedown', 'return rclk(this,jobmap[6]);'), ('onclick', \"logFocus('bae2bd470521dbe7', 6); return rclk(this,jobmap[6],true);\"), ('itemprop', 'title'), ('title', 'Web Developer')]\n",
        "[('rel', 'nofollow'), ('href', '/rc/clk?jk=fcc71d3f5eb5c8b2'), ('target', '_blank'), ('onmousedown', 'return rclk(this,jobmap[7]);'), ('onclick', \"logFocus('fcc71d3f5eb5c8b2', 7); return rclk(this,jobmap[7],true);\"), ('itemprop', 'title'), ('title', 'Auto-Trading Platform Developer')]\n",
        "[('rel', 'nofollow'), ('href', '/rc/clk?jk=6f7bc1423680a1f3'), ('target', '_blank'), ('onmousedown', 'return rclk(this,jobmap[8]);'), ('onclick', \"logFocus('6f7bc1423680a1f3', 8); return rclk(this,jobmap[8],true);\"), ('itemprop', 'title'), ('title', 'Backend Web Developer')]\n",
        "[('rel', 'nofollow'), ('href', '/rc/clk?jk=e6b88a618843769b'), ('target', '_blank'), ('onmousedown', 'return rclk(this,jobmap[9]);'), ('onclick', \"logFocus('e6b88a618843769b', 9); return rclk(this,jobmap[9],true);\"), ('itemprop', 'title'), ('title', '1011 Python/Django Developer')]\n",
        "[('rel', 'nofollow'), ('href', '/rc/clk?jk=850695023e5ee66b'), ('target', '_blank'), ('onmousedown', 'return rclk(this,jobmap[0]);'), ('onclick', \"logFocus('850695023e5ee66b', 0); return rclk(this,jobmap[0],true);\"), ('itemprop', 'title'), ('title', '.Net Software Developer Position')]\n",
        "[('rel', 'nofollow'), ('href', '/rc/clk?jk=7e781538fd3ce2c1'), ('target', '_blank'), ('onmousedown', 'return rclk(this,jobmap[1]);'), ('onclick', \"logFocus('7e781538fd3ce2c1', 1); return rclk(this,jobmap[1],true);\"), ('itemprop', 'title'), ('title', 'Lead Developer/Web Architech')]\n",
        "[('rel', 'nofollow'), ('href', '/rc/clk?jk=25c5de0d5707a48b'), ('target', '_blank'), ('onmousedown', 'return rclk(this,jobmap[2]);'), ('onclick', \"logFocus('25c5de0d5707a48b', 2); return rclk(this,jobmap[2],true);\"), ('itemprop', 'title'), ('title', 'Sr. Java Developer')]\n",
        "[('rel', 'nofollow'), ('href', '/rc/clk?jk=16dab12acf892299'), ('target', '_blank'), ('onmousedown', 'return rclk(this,jobmap[3]);'), ('onclick', \"logFocus('16dab12acf892299', 3); return rclk(this,jobmap[3],true);\"), ('itemprop', 'title'), ('title', 'Backend Developer')]\n",
        "[('rel', 'nofollow'), ('href', '/rc/clk?jk=ca5ffd667d64ecf0'), ('target', '_blank'), ('onmousedown', 'return rclk(this,jobmap[4]);'), ('onclick', \"logFocus('ca5ffd667d64ecf0', 4); return rclk(this,jobmap[4],true);\"), ('itemprop', 'title'), ('title', 'Senior Front End Developer')]\n",
        "[('rel', 'nofollow'), ('href', '/rc/clk?jk=2140c38792f1ff43'), ('target', '_blank'), ('onmousedown', 'return rclk(this,jobmap[5]);'), ('onclick', \"logFocus('2140c38792f1ff43', 5); return rclk(this,jobmap[5],true);\"), ('itemprop', 'title'), ('title', 'C++ Software Developer/Senior C++ Software Developer')]\n",
        "[('rel', 'nofollow'), ('href', '/rc/clk?jk=e00e833278439d1c'), ('target', '_blank'), ('onmousedown', 'return rclk(this,jobmap[6]);'), ('onclick', \"logFocus('e00e833278439d1c', 6); return rclk(this,jobmap[6],true);\"), ('itemprop', 'title'), ('title', 'Mongo DB Developer')]\n",
        "[('rel', 'nofollow'), ('href', '/rc/clk?jk=f79a7c10ff93a718'), ('target', '_blank'), ('onmousedown', 'return rclk(this,jobmap[7]);'), ('onclick', \"logFocus('f79a7c10ff93a718', 7); return rclk(this,jobmap[7],true);\"), ('itemprop', 'title'), ('title', 'Java Developer')]\n",
        "[('rel', 'nofollow'), ('href', '/rc/clk?jk=3f9773b2a3a50d75'), ('target', '_blank'), ('onmousedown', 'return rclk(this,jobmap[8]);'), ('onclick', \"logFocus('3f9773b2a3a50d75', 8); return rclk(this,jobmap[8],true);\"), ('itemprop', 'title'), ('title', 'Web Developer')]\n",
        "[('rel', 'nofollow'), ('href', '/rc/clk?jk=49124e3ee5182201'), ('target', '_blank'), ('onmousedown', 'return rclk(this,jobmap[9]);'), ('onclick', \"logFocus('49124e3ee5182201', 9); return rclk(this,jobmap[9],true);\"), ('itemprop', 'title'), ('title', 'Mongo DB Database Developer')]\n",
        "[('rel', 'nofollow'), ('href', '/rc/clk?jk=94257f437345c002'), ('target', '_blank'), ('onmousedown', 'return rclk(this,jobmap[0]);'), ('onclick', \"logFocus('94257f437345c002', 0); return rclk(this,jobmap[0],true);\"), ('itemprop', 'title'), ('title', 'Manager, Developer, Mobile Solutions')]\n",
        "[('rel', 'nofollow'), ('href', '/rc/clk?jk=af2e32eac21d2b04'), ('target', '_blank'), ('onmousedown', 'return rclk(this,jobmap[1]);'), ('onclick', \"logFocus('af2e32eac21d2b04', 1); return rclk(this,jobmap[1],true);\"), ('itemprop', 'title'), ('title', 'Reference Data - Database Developer')]\n",
        "[('rel', 'nofollow'), ('href', '/rc/clk?jk=52cd042e8c230c59'), ('target', '_blank'), ('onmousedown', 'return rclk(this,jobmap[2]);'), ('onclick', \"logFocus('52cd042e8c230c59', 2); return rclk(this,jobmap[2],true);\"), ('itemprop', 'title'), ('title', 'UI Developer')]\n",
        "[('rel', 'nofollow'), ('href', '/rc/clk?jk=d7b0ddb5d0083bf7'), ('target', '_blank'), ('onmousedown', 'return rclk(this,jobmap[3]);'), ('onclick', \"logFocus('d7b0ddb5d0083bf7', 3); return rclk(this,jobmap[3],true);\"), ('itemprop', 'title'), ('title', '.NET Developer')]\n",
        "[('rel', 'nofollow'), ('href', '/rc/clk?jk=93e2b02c82462e89'), ('target', '_blank'), ('onmousedown', 'return rclk(this,jobmap[4]);'), ('onclick', \"logFocus('93e2b02c82462e89', 4); return rclk(this,jobmap[4],true);\"), ('itemprop', 'title'), ('title', 'C / C++ Market Data Application Developer')]\n",
        "[('rel', 'nofollow'), ('href', '/rc/clk?jk=7f4cc261a1aeae7b'), ('target', '_blank'), ('onmousedown', 'return rclk(this,jobmap[5]);'), ('onclick', \"logFocus('7f4cc261a1aeae7b', 5); return rclk(this,jobmap[5],true);\"), ('itemprop', 'title'), ('title', 'Front End Web Developer')]\n",
        "[('rel', 'nofollow'), ('href', '/rc/clk?jk=3500048c0c0e4b16'), ('target', '_blank'), ('onmousedown', 'return rclk(this,jobmap[6]);'), ('onclick', \"logFocus('3500048c0c0e4b16', 6); return rclk(this,jobmap[6],true);\"), ('itemprop', 'title'), ('title', 'Ruby Developer')]\n",
        "[('rel', 'nofollow'), ('href', '/rc/clk?jk=36d3bbc9a7e323e0'), ('target', '_blank'), ('onmousedown', 'return rclk(this,jobmap[7]);'), ('onclick', \"logFocus('36d3bbc9a7e323e0', 7); return rclk(this,jobmap[7],true);\"), ('itemprop', 'title'), ('title', 'Sr. Java/J2EE Developer')]\n",
        "[('rel', 'nofollow'), ('href', '/rc/clk?jk=4ae75af43c3251e4'), ('target', '_blank'), ('onmousedown', 'return rclk(this,jobmap[8]);'), ('onclick', \"logFocus('4ae75af43c3251e4', 8); return rclk(this,jobmap[8],true);\"), ('itemprop', 'title'), ('title', 'Mobile App & Web Developer')]\n",
        "[('rel', 'nofollow'), ('href', '/rc/clk?jk=2669b44f3e469be1'), ('target', '_blank'), ('onmousedown', 'return rclk(this,jobmap[9]);'), ('onclick', \"logFocus('2669b44f3e469be1', 9); return rclk(this,jobmap[9],true);\"), ('itemprop', 'title'), ('title', 'Software Developer')]\n",
        "[('rel', 'nofollow'), ('href', '/rc/clk?jk=74ae8faf210f4bd7'), ('target', '_blank'), ('onmousedown', 'return rclk(this,jobmap[0]);'), ('onclick', \"logFocus('74ae8faf210f4bd7', 0); return rclk(this,jobmap[0],true);\"), ('itemprop', 'title'), ('title', 'Python Developer')]\n",
        "[('rel', 'nofollow'), ('href', '/rc/clk?jk=466e74b7f9d61ab2'), ('target', '_blank'), ('onmousedown', 'return rclk(this,jobmap[1]);'), ('onclick', \"logFocus('466e74b7f9d61ab2', 1); return rclk(this,jobmap[1],true);\"), ('itemprop', 'title'), ('title', 'C# / .NET Developer - 140K')]\n",
        "[('rel', 'nofollow'), ('href', '/rc/clk?jk=aa4294ccabd29ddf'), ('target', '_blank'), ('onmousedown', 'return rclk(this,jobmap[2]);'), ('onclick', \"logFocus('aa4294ccabd29ddf', 2); return rclk(this,jobmap[2],true);\"), ('itemprop', 'title'), ('title', 'IT Developer/Tester')]\n",
        "[('rel', 'nofollow'), ('href', '/rc/clk?jk=7473b4fbb1895c9f'), ('target', '_blank'), ('onmousedown', 'return rclk(this,jobmap[3]);'), ('onclick', \"logFocus('7473b4fbb1895c9f', 3); return rclk(this,jobmap[3],true);\"), ('itemprop', 'title'), ('title', 'Lead C++ Developer')]\n",
        "[('rel', 'nofollow'), ('href', '/rc/clk?jk=c939861edfd90850'), ('target', '_blank'), ('onmousedown', 'return rclk(this,jobmap[4]);'), ('onclick', \"logFocus('c939861edfd90850', 4); return rclk(this,jobmap[4],true);\"), ('itemprop', 'title'), ('title', 'C++ Developer \\xe2\\x80\\x93 Back Office Technology')]\n",
        "[('rel', 'nofollow'), ('href', '/rc/clk?jk=a9fc7fcbb8315e28'), ('target', '_blank'), ('onmousedown', 'return rclk(this,jobmap[5]);'), ('onclick', \"logFocus('a9fc7fcbb8315e28', 5); return rclk(this,jobmap[5],true);\"), ('itemprop', 'title'), ('title', 'Senior Software Developer')]\n",
        "[('rel', 'nofollow'), ('href', '/rc/clk?jk=31e3024a5cf8f55d'), ('target', '_blank'), ('onmousedown', 'return rclk(this,jobmap[6]);'), ('onclick', \"logFocus('31e3024a5cf8f55d', 6); return rclk(this,jobmap[6],true);\"), ('itemprop', 'title'), ('title', 'Sr. Java Developer')]\n",
        "[('rel', 'nofollow'), ('href', '/rc/clk?jk=bda7fe239f49b054'), ('target', '_blank'), ('onmousedown', 'return rclk(this,jobmap[7]);'), ('onclick', \"logFocus('bda7fe239f49b054', 7); return rclk(this,jobmap[7],true);\"), ('itemprop', 'title'), ('title', 'Python Developer')]\n",
        "[('rel', 'nofollow'), ('href', '/rc/clk?jk=861c92b807da73ab'), ('target', '_blank'), ('onmousedown', 'return rclk(this,jobmap[8]);'), ('onclick', \"logFocus('861c92b807da73ab', 8); return rclk(this,jobmap[8],true);\"), ('itemprop', 'title'), ('title', 'Senior Sybase DBA Developer')]\n",
        "[('rel', 'nofollow'), ('href', '/rc/clk?jk=3503f3899b8b3404'), ('target', '_blank'), ('onmousedown', 'return rclk(this,jobmap[9]);'), ('onclick', \"logFocus('3503f3899b8b3404', 9); return rclk(this,jobmap[9],true);\"), ('itemprop', 'title'), ('title', 'C++ Software Developer / Back Office')]\n",
        "[('rel', 'nofollow'), ('href', '/rc/clk?jk=318b61c8e4c7b8c2'), ('target', '_blank'), ('onmousedown', 'return rclk(this,jobmap[0]);'), ('onclick', \"logFocus('318b61c8e4c7b8c2', 0); return rclk(this,jobmap[0],true);\"), ('itemprop', 'title'), ('title', 'MongoDB Developer')]\n",
        "[('rel', 'nofollow'), ('href', '/rc/clk?jk=e5c393b84727b69d'), ('target', '_blank'), ('onmousedown', 'return rclk(this,jobmap[1]);'), ('onclick', \"logFocus('e5c393b84727b69d', 1); return rclk(this,jobmap[1],true);\"), ('itemprop', 'title'), ('title', 'Sr. C# MVC Developer')]\n",
        "[('rel', 'nofollow'), ('href', '/rc/clk?jk=46020263854030a6'), ('target', '_blank'), ('onmousedown', 'return rclk(this,jobmap[2]);'), ('onclick', \"logFocus('46020263854030a6', 2); return rclk(this,jobmap[2],true);\"), ('itemprop', 'title'), ('title', 'Software Developer')]\n",
        "[('rel', 'nofollow'), ('href', '/rc/clk?jk=e994aff997e01668'), ('target', '_blank'), ('onmousedown', 'return rclk(this,jobmap[3]);'), ('onclick', \"logFocus('e994aff997e01668', 3); return rclk(this,jobmap[3],true);\"), ('itemprop', 'title'), ('title', 'UI/Python Developer')]\n",
        "[('rel', 'nofollow'), ('href', '/rc/clk?jk=81c4d29d6b375892'), ('target', '_blank'), ('onmousedown', 'return rclk(this,jobmap[4]);'), ('onclick', \"logFocus('81c4d29d6b375892', 4); return rclk(this,jobmap[4],true);\"), ('itemprop', 'title'), ('title', 'Senior Back End Developer (Project/Freelance)')]\n",
        "[('rel', 'nofollow'), ('href', '/rc/clk?jk=5b16e53555a18c16'), ('target', '_blank'), ('onmousedown', 'return rclk(this,jobmap[5]);'), ('onclick', \"logFocus('5b16e53555a18c16', 5); return rclk(this,jobmap[5],true);\"), ('itemprop', 'title'), ('title', 'Mobile/Web Developer')]\n",
        "[('rel', 'nofollow'), ('href', '/rc/clk?jk=9b495e01f4134489'), ('target', '_blank'), ('onmousedown', 'return rclk(this,jobmap[6]);'), ('onclick', \"logFocus('9b495e01f4134489', 6); return rclk(this,jobmap[6],true);\"), ('itemprop', 'title'), ('title', 'Senior C# Developer')]\n",
        "[('rel', 'nofollow'), ('href', '/rc/clk?jk=f2357e6e55462ef4'), ('target', '_blank'), ('onmousedown', 'return rclk(this,jobmap[7]);'), ('onclick', \"logFocus('f2357e6e55462ef4', 7); return rclk(this,jobmap[7],true);\"), ('itemprop', 'title'), ('title', 'Software Developer / Back Office Technology')]\n",
        "[('rel', 'nofollow'), ('href', '/rc/clk?jk=4a36eff2bdd1fbee'), ('target', '_blank'), ('onmousedown', 'return rclk(this,jobmap[8]);'), ('onclick', \"logFocus('4a36eff2bdd1fbee', 8); return rclk(this,jobmap[8],true);\"), ('itemprop', 'title'), ('title', 'Python Contractor')]\n",
        "[('rel', 'nofollow'), ('href', '/rc/clk?jk=41b669aaae248bcb'), ('target', '_blank'), ('onmousedown', 'return rclk(this,jobmap[9]);'), ('onclick', \"logFocus('41b669aaae248bcb', 9); return rclk(this,jobmap[9],true);\"), ('itemprop', 'title'), ('title', 'Mobile Device Developer')]\n",
        "[('rel', 'nofollow'), ('href', '/rc/clk?jk=d8b98c9348870677'), ('target', '_blank'), ('onmousedown', 'return rclk(this,jobmap[0]);'), ('onclick', \"logFocus('d8b98c9348870677', 0); return rclk(this,jobmap[0],true);\"), ('itemprop', 'title'), ('title', 'Open Source Developer to Ruby Developer')]\n",
        "[('rel', 'nofollow'), ('href', '/rc/clk?jk=93dff7a6feef5339'), ('target', '_blank'), ('onmousedown', 'return rclk(this,jobmap[1]);'), ('onclick', \"logFocus('93dff7a6feef5339', 1); return rclk(this,jobmap[1],true);\"), ('itemprop', 'title'), ('title', 'Junior Backend Developer')]\n",
        "[('rel', 'nofollow'), ('href', '/rc/clk?jk=460808da56d5f2e7'), ('target', '_blank'), ('onmousedown', 'return rclk(this,jobmap[2]);'), ('onclick', \"logFocus('460808da56d5f2e7', 2); return rclk(this,jobmap[2],true);\"), ('itemprop', 'title'), ('title', 'Senior Solutions Engineer, Pre-sales - Midwest')]\n",
        "[('rel', 'nofollow'), ('href', '/rc/clk?jk=c5180a221b9cfe2b'), ('target', '_blank'), ('onmousedown', 'return rclk(this,jobmap[3]);'), ('onclick', \"logFocus('c5180a221b9cfe2b', 3); return rclk(this,jobmap[3],true);\"), ('itemprop', 'title'), ('title', 'Senior Systems Analyst, Collections')]\n",
        "[('rel', 'nofollow'), ('href', '/rc/clk?jk=5fe717490adff475'), ('target', '_blank'), ('onmousedown', 'return rclk(this,jobmap[4]);'), ('onclick', \"logFocus('5fe717490adff475', 4); return rclk(this,jobmap[4],true);\"), ('itemprop', 'title'), ('title', 'Monitoring Systems Administrator')]\n",
        "[('rel', 'nofollow'), ('href', '/rc/clk?jk=310895cd05d4be74'), ('target', '_blank'), ('onmousedown', 'return rclk(this,jobmap[5]);'), ('onclick', \"logFocus('310895cd05d4be74', 5); return rclk(this,jobmap[5],true);\"), ('itemprop', 'title'), ('title', 'Senior Sybase DBA Developer')]\n",
        "[('rel', 'nofollow'), ('href', '/rc/clk?jk=63a7201f42392b18'), ('target', '_blank'), ('onmousedown', 'return rclk(this,jobmap[6]);'), ('onclick', \"logFocus('63a7201f42392b18', 6); return rclk(this,jobmap[6],true);\"), ('itemprop', 'title'), ('title', 'Systems Development Intern')]\n",
        "[('rel', 'nofollow'), ('href', '/rc/clk?jk=58e5b43acade5017'), ('target', '_blank'), ('onmousedown', 'return rclk(this,jobmap[7]);'), ('onclick', \"logFocus('58e5b43acade5017', 7); return rclk(this,jobmap[7],true);\"), ('itemprop', 'title'), ('title', 'DevOps Engineer')]\n",
        "[('rel', 'nofollow'), ('href', '/rc/clk?jk=d753360f2060afc1'), ('target', '_blank'), ('onmousedown', 'return rclk(this,jobmap[8]);'), ('onclick', \"logFocus('d753360f2060afc1', 8); return rclk(this,jobmap[8],true);\"), ('itemprop', 'title'), ('title', 'PHP/MySQL Web Developer Job')]\n",
        "[('rel', 'nofollow'), ('href', '/rc/clk?jk=ccedb67e6218c07e'), ('target', '_blank'), ('onmousedown', 'return rclk(this,jobmap[9]);'), ('onclick', \"logFocus('ccedb67e6218c07e', 9); return rclk(this,jobmap[9],true);\"), ('itemprop', 'title'), ('title', 'C++ Developer Mid level')]\n",
        "[('rel', 'nofollow'), ('href', '/rc/clk?jk=997db6788fa7f869'), ('target', '_blank'), ('onmousedown', 'return rclk(this,jobmap[0]);'), ('onclick', \"logFocus('997db6788fa7f869', 0); return rclk(this,jobmap[0],true);\"), ('itemprop', 'title'), ('title', 'Senior Software Engineer, Search & Browse - Full-Stack/Front End')]\n",
        "[('rel', 'nofollow'), ('href', '/rc/clk?jk=c3c20baab5c8b01d'), ('target', '_blank'), ('onmousedown', 'return rclk(this,jobmap[1]);'), ('onclick', \"logFocus('c3c20baab5c8b01d', 1); return rclk(this,jobmap[1],true);\"), ('itemprop', 'title'), ('title', 'Senior Engineer / Developer - Digital Entertainment Company - JavaScript, Node.js, HTML5')]\n",
        "[('rel', 'nofollow'), ('href', '/rc/clk?jk=890d40767b88ace5'), ('target', '_blank'), ('onmousedown', 'return rclk(this,jobmap[2]);'), ('onclick', \"logFocus('890d40767b88ace5', 2); return rclk(this,jobmap[2],true);\"), ('itemprop', 'title'), ('title', 'Salesforce Developer')]\n",
        "[('rel', 'nofollow'), ('href', '/rc/clk?jk=5158c9492cd790d4'), ('target', '_blank'), ('onmousedown', 'return rclk(this,jobmap[3]);'), ('onclick', \"logFocus('5158c9492cd790d4', 3); return rclk(this,jobmap[3],true);\"), ('itemprop', 'title'), ('title', 'Linux Systems Admin')]\n",
        "[('rel', 'nofollow'), ('href', '/rc/clk?jk=08d8b6a7a07ac914'), ('target', '_blank'), ('onmousedown', 'return rclk(this,jobmap[4]);'), ('onclick', \"logFocus('08d8b6a7a07ac914', 4); return rclk(this,jobmap[4],true);\"), ('itemprop', 'title'), ('title', 'Principal Software Test Engineer')]\n",
        "[('rel', 'nofollow'), ('href', '/rc/clk?jk=f8801b91f14ae0e9'), ('target', '_blank'), ('onmousedown', 'return rclk(this,jobmap[5]);'), ('onclick', \"logFocus('f8801b91f14ae0e9', 5); return rclk(this,jobmap[5],true);\"), ('itemprop', 'title'), ('title', 'Software Development Engineer for Test (SDET), Groupon Global Travel')]\n",
        "[('rel', 'nofollow'), ('href', '/rc/clk?jk=cb4ddf7be68ffac7'), ('target', '_blank'), ('onmousedown', 'return rclk(this,jobmap[6]);'), ('onclick', \"logFocus('cb4ddf7be68ffac7', 6); return rclk(this,jobmap[6],true);\"), ('itemprop', 'title'), ('title', 'C++ Developer')]\n",
        "[('rel', 'nofollow'), ('href', '/rc/clk?jk=410f05b8f18deae0'), ('target', '_blank'), ('onmousedown', 'return rclk(this,jobmap[7]);'), ('onclick', \"logFocus('410f05b8f18deae0', 7); return rclk(this,jobmap[7],true);\"), ('itemprop', 'title'), ('title', 'Sr Fixed Income C++')]\n",
        "[('rel', 'nofollow'), ('href', '/rc/clk?jk=317ce9e84b15f4b0'), ('target', '_blank'), ('onmousedown', 'return rclk(this,jobmap[8]);'), ('onclick', \"logFocus('317ce9e84b15f4b0', 8); return rclk(this,jobmap[8],true);\"), ('itemprop', 'title'), ('title', 'Quality Assurance Test Engineer')]\n",
        "[('rel', 'nofollow'), ('href', '/rc/clk?jk=510a43e76cf95905'), ('target', '_blank'), ('onmousedown', 'return rclk(this,jobmap[9]);'), ('onclick', \"logFocus('510a43e76cf95905', 9); return rclk(this,jobmap[9],true);\"), ('itemprop', 'title'), ('title', 'DevOps Engineer')]\n",
        "[('rel', 'nofollow'), ('href', '/rc/clk?jk=8433c08f76b6c3d4'), ('target', '_blank'), ('onmousedown', 'return rclk(this,jobmap[0]);'), ('onclick', \"logFocus('8433c08f76b6c3d4', 0); return rclk(this,jobmap[0],true);\"), ('itemprop', 'title'), ('title', 'Senior Software Development Engineer')]\n",
        "[('rel', 'nofollow'), ('href', '/rc/clk?jk=043cf8543c2b477a'), ('target', '_blank'), ('onmousedown', 'return rclk(this,jobmap[1]);'), ('onclick', \"logFocus('043cf8543c2b477a', 1); return rclk(this,jobmap[1],true);\"), ('itemprop', 'title'), ('title', 'Sr. Java Developer for trading software company in Loop')]\n",
        "[('rel', 'nofollow'), ('href', '/rc/clk?jk=20e2f913c0c448d8'), ('target', '_blank'), ('onmousedown', 'return rclk(this,jobmap[2]);'), ('onclick', \"logFocus('20e2f913c0c448d8', 2); return rclk(this,jobmap[2],true);\"), ('itemprop', 'title'), ('title', 'Developer')]\n",
        "[('rel', 'nofollow'), ('href', '/rc/clk?jk=97092835d16121ee'), ('target', '_blank'), ('onmousedown', 'return rclk(this,jobmap[3]);'), ('onclick', \"logFocus('97092835d16121ee', 3); return rclk(this,jobmap[3],true);\"), ('itemprop', 'title'), ('title', 'Beam Line Scientist')]\n",
        "[('rel', 'nofollow'), ('href', '/rc/clk?jk=4bd758dea4dca605'), ('target', '_blank'), ('onmousedown', 'return rclk(this,jobmap[4]);'), ('onclick', \"logFocus('4bd758dea4dca605', 4); return rclk(this,jobmap[4],true);\"), ('itemprop', 'title'), ('title', 'Nokia - Sr. Engineer-QA')]\n",
        "[('rel', 'nofollow'), ('href', '/rc/clk?jk=a60c14b3af6ae82b'), ('target', '_blank'), ('onmousedown', 'return rclk(this,jobmap[5]);'), ('onclick', \"logFocus('a60c14b3af6ae82b', 5); return rclk(this,jobmap[5],true);\"), ('itemprop', 'title'), ('title', 'java Developer')]\n",
        "[('rel', 'nofollow'), ('href', '/rc/clk?jk=e98b8eec97dae6e8'), ('target', '_blank'), ('onmousedown', 'return rclk(this,jobmap[6]);'), ('onclick', \"logFocus('e98b8eec97dae6e8', 6); return rclk(this,jobmap[6],true);\"), ('itemprop', 'title'), ('title', 'Android Developer - Rapidly Growing Mobile Development Agency')]\n",
        "[('rel', 'nofollow'), ('href', '/rc/clk?jk=dd7770e47f63a16f'), ('target', '_blank'), ('onmousedown', 'return rclk(this,jobmap[7]);'), ('onclick', \"logFocus('dd7770e47f63a16f', 7); return rclk(this,jobmap[7],true);\"), ('itemprop', 'title'), ('title', 'Senior Java Developer')]\n",
        "[('rel', 'nofollow'), ('href', '/rc/clk?jk=8999aecf3a90f82c'), ('target', '_blank'), ('onmousedown', 'return rclk(this,jobmap[8]);'), ('onclick', \"logFocus('8999aecf3a90f82c', 8); return rclk(this,jobmap[8],true);\"), ('itemprop', 'title'), ('title', 'CSM Consultant')]\n",
        "[('rel', 'nofollow'), ('href', '/rc/clk?jk=48886cdb82c2534b'), ('target', '_blank'), ('onmousedown', 'return rclk(this,jobmap[9]);'), ('onclick', \"logFocus('48886cdb82c2534b', 9); return rclk(this,jobmap[9],true);\"), ('itemprop', 'title'), ('title', 'Data Scientist')]\n",
        "[('rel', 'nofollow'), ('href', '/rc/clk?jk=442e4b05f712bc1f'), ('target', '_blank'), ('onmousedown', 'return rclk(this,jobmap[0]);'), ('onclick', \"logFocus('442e4b05f712bc1f', 0); return rclk(this,jobmap[0],true);\"), ('itemprop', 'title'), ('title', 'Release Engineering - Deploy & Environment Engineer')]\n",
        "[('rel', 'nofollow'), ('href', '/rc/clk?jk=a789a247a3948500'), ('target', '_blank'), ('onmousedown', 'return rclk(this,jobmap[1]);'), ('onclick', \"logFocus('a789a247a3948500', 1); return rclk(this,jobmap[1],true);\"), ('itemprop', 'title'), ('title', 'Release Engineering - Continuous Integration Specialist')]\n",
        "[('rel', 'nofollow'), ('href', '/rc/clk?jk=b93f466034d52c29'), ('target', '_blank'), ('onmousedown', 'return rclk(this,jobmap[2]);'), ('onclick', \"logFocus('b93f466034d52c29', 2); return rclk(this,jobmap[2],true);\"), ('itemprop', 'title'), ('title', 'Software Engineer, Search & Browse - Full-Stack/Front End')]\n",
        "[('rel', 'nofollow'), ('href', '/rc/clk?jk=77e30d061b7a2d30'), ('target', '_blank'), ('onmousedown', 'return rclk(this,jobmap[3]);'), ('onclick', \"logFocus('77e30d061b7a2d30', 3); return rclk(this,jobmap[3],true);\"), ('itemprop', 'title'), ('title', 'Innovative Software Engineer')]\n",
        "[('rel', 'nofollow'), ('href', '/rc/clk?jk=e15b7899a90f72f9'), ('target', '_blank'), ('onmousedown', 'return rclk(this,jobmap[4]);'), ('onclick', \"logFocus('e15b7899a90f72f9', 4); return rclk(this,jobmap[4],true);\"), ('itemprop', 'title'), ('title', 'Software Engineer')]\n",
        "[('rel', 'nofollow'), ('href', '/rc/clk?jk=ebacb3e0f5d0508a'), ('target', '_blank'), ('onmousedown', 'return rclk(this,jobmap[5]);'), ('onclick', \"logFocus('ebacb3e0f5d0508a', 5); return rclk(this,jobmap[5],true);\"), ('itemprop', 'title'), ('title', 'C++ Application Developer - Global Funds')]\n",
        "[('rel', 'nofollow'), ('href', '/rc/clk?jk=15b308b7e0a927a2'), ('target', '_blank'), ('onmousedown', 'return rclk(this,jobmap[6]);'), ('onclick', \"logFocus('15b308b7e0a927a2', 6); return rclk(this,jobmap[6],true);\"), ('itemprop', 'title'), ('title', 'Senior Software Engineer - Full-Stack/Front End')]\n",
        "[('rel', 'nofollow'), ('href', '/rc/clk?jk=8ca57cd8247bd79b'), ('target', '_blank'), ('onmousedown', 'return rclk(this,jobmap[7]);'), ('onclick', \"logFocus('8ca57cd8247bd79b', 7); return rclk(this,jobmap[7],true);\"), ('itemprop', 'title'), ('title', 'Release Engineering - Internal Tools & Automation Engineer')]\n",
        "[('rel', 'nofollow'), ('href', '/rc/clk?jk=b9ec9dd400e5d06f'), ('target', '_blank'), ('onmousedown', 'return rclk(this,jobmap[8]);'), ('onclick', \"logFocus('b9ec9dd400e5d06f', 8); return rclk(this,jobmap[8],true);\"), ('itemprop', 'title'), ('title', 'Software Engineer - Front End')]\n",
        "[('rel', 'nofollow'), ('href', '/rc/clk?jk=1ba0df9e731b5b43'), ('target', '_blank'), ('onmousedown', 'return rclk(this,jobmap[9]);'), ('onclick', \"logFocus('1ba0df9e731b5b43', 9); return rclk(this,jobmap[9],true);\"), ('itemprop', 'title'), ('title', 'Software Engineer')]\n",
        "[('rel', 'nofollow'), ('href', '/rc/clk?jk=b50eba10aa760caf'), ('target', '_blank'), ('onmousedown', 'return rclk(this,jobmap[0]);'), ('onclick', \"logFocus('b50eba10aa760caf', 0); return rclk(this,jobmap[0],true);\"), ('itemprop', 'title'), ('title', 'Application Trade Support Analyst')]\n",
        "[('rel', 'nofollow'), ('href', '/rc/clk?jk=324affe355682952'), ('target', '_blank'), ('onmousedown', 'return rclk(this,jobmap[1]);'), ('onclick', \"logFocus('324affe355682952', 1); return rclk(this,jobmap[1],true);\"), ('itemprop', 'title'), ('title', 'Applications Engineer')]\n",
        "[('rel', 'nofollow'), ('href', '/rc/clk?jk=41dbb8150f5380d2'), ('target', '_blank'), ('onmousedown', 'return rclk(this,jobmap[2]);'), ('onclick', \"logFocus('41dbb8150f5380d2', 2); return rclk(this,jobmap[2],true);\"), ('itemprop', 'title'), ('title', 'QA / Quality Assurance Analyst')]\n",
        "[('rel', 'nofollow'), ('href', '/rc/clk?jk=ba0d2fae0f2e94bc'), ('target', '_blank'), ('onmousedown', 'return rclk(this,jobmap[3]);'), ('onclick', \"logFocus('ba0d2fae0f2e94bc', 3); return rclk(this,jobmap[3],true);\"), ('itemprop', 'title'), ('title', 'Senior PHP Developer')]\n",
        "[('rel', 'nofollow'), ('href', '/rc/clk?jk=a165038d1846089a'), ('target', '_blank'), ('onmousedown', 'return rclk(this,jobmap[4]);'), ('onclick', \"logFocus('a165038d1846089a', 4); return rclk(this,jobmap[4],true);\"), ('itemprop', 'title'), ('title', 'Lead Software Engineers in Test')]\n",
        "[('rel', 'nofollow'), ('href', '/rc/clk?jk=a7198bd6467bf4bc'), ('target', '_blank'), ('onmousedown', 'return rclk(this,jobmap[5]);'), ('onclick', \"logFocus('a7198bd6467bf4bc', 5); return rclk(this,jobmap[5],true);\"), ('itemprop', 'title'), ('title', 'QA Engineer')]\n",
        "[('rel', 'nofollow'), ('href', '/rc/clk?jk=c147bfce6dd1cf78'), ('target', '_blank'), ('onmousedown', 'return rclk(this,jobmap[6]);'), ('onclick', \"logFocus('c147bfce6dd1cf78', 6); return rclk(this,jobmap[6],true);\"), ('itemprop', 'title'), ('title', 'C++ Mid-Level Developer')]\n",
        "[('rel', 'nofollow'), ('href', '/rc/clk?jk=2e00b7c50a2e5227'), ('target', '_blank'), ('onmousedown', 'return rclk(this,jobmap[7]);'), ('onclick', \"logFocus('2e00b7c50a2e5227', 7); return rclk(this,jobmap[7],true);\"), ('itemprop', 'title'), ('title', 'Software Engineer in Test')]\n",
        "[('rel', 'nofollow'), ('href', '/rc/clk?jk=3d4dda6f4247250c'), ('target', '_blank'), ('onmousedown', 'return rclk(this,jobmap[8]);'), ('onclick', \"logFocus('3d4dda6f4247250c', 8); return rclk(this,jobmap[8],true);\"), ('itemprop', 'title'), ('title', 'PHP Application Developer')]\n",
        "[('rel', 'nofollow'), ('href', '/rc/clk?jk=526acb83728711f7'), ('target', '_blank'), ('onmousedown', 'return rclk(this,jobmap[9]);'), ('onclick', \"logFocus('526acb83728711f7', 9); return rclk(this,jobmap[9],true);\"), ('itemprop', 'title'), ('title', 'Development Lead/Director of Technology')]\n",
        "[('rel', 'nofollow'), ('href', '/rc/clk?jk=8197cfa22f132d86'), ('target', '_blank'), ('onmousedown', 'return rclk(this,jobmap[0]);'), ('onclick', \"logFocus('8197cfa22f132d86', 0); return rclk(this,jobmap[0],true);\"), ('itemprop', 'title'), ('title', 'Seeking experienced Java Professionals')]\n",
        "[('rel', 'nofollow'), ('href', '/rc/clk?jk=6c104489caccba92'), ('target', '_blank'), ('onmousedown', 'return rclk(this,jobmap[1]);'), ('onclick', \"logFocus('6c104489caccba92', 1); return rclk(this,jobmap[1],true);\"), ('itemprop', 'title'), ('title', 'Software Quality Engineer')]\n",
        "[('rel', 'nofollow'), ('href', '/rc/clk?jk=3b66ab9933bca229'), ('target', '_blank'), ('onmousedown', 'return rclk(this,jobmap[2]);'), ('onclick', \"logFocus('3b66ab9933bca229', 2); return rclk(this,jobmap[2],true);\"), ('itemprop', 'title'), ('title', 'UX Manager')]\n",
        "[('rel', 'nofollow'), ('href', '/rc/clk?jk=cdea2fae3762cf92'), ('target', '_blank'), ('onmousedown', 'return rclk(this,jobmap[3]);'), ('onclick', \"logFocus('cdea2fae3762cf92', 3); return rclk(this,jobmap[3],true);\"), ('itemprop', 'title'), ('title', 'Trade Application Support Analyst')]\n",
        "[('rel', 'nofollow'), ('href', '/rc/clk?jk=d27acedd1c09c50d'), ('target', '_blank'), ('onmousedown', 'return rclk(this,jobmap[4]);'), ('onclick', \"logFocus('d27acedd1c09c50d', 4); return rclk(this,jobmap[4],true);\"), ('itemprop', 'title'), ('title', 'Post Trade Derivatives Application Support Specialist (Spanish Speaking)')]\n",
        "[('rel', 'nofollow'), ('href', '/rc/clk?jk=0e3c3dcb5bb7d861'), ('target', '_blank'), ('onmousedown', 'return rclk(this,jobmap[5]);'), ('onclick', \"logFocus('0e3c3dcb5bb7d861', 5); return rclk(this,jobmap[5],true);\"), ('itemprop', 'title'), ('title', 'Test Engineering Manager - Chicago')]\n",
        "[('rel', 'nofollow'), ('href', '/rc/clk?jk=d293fe2842b2714f'), ('target', '_blank'), ('onmousedown', 'return rclk(this,jobmap[6]);'), ('onclick', \"logFocus('d293fe2842b2714f', 6); return rclk(this,jobmap[6],true);\"), ('itemprop', 'title'), ('title', 'Senior C++ Developer - Analytic Infrastructure & Trading Platform')]\n",
        "[('rel', 'nofollow'), ('href', '/rc/clk?jk=91bd0f6da3b40692'), ('target', '_blank'), ('onmousedown', 'return rclk(this,jobmap[7]);'), ('onclick', \"logFocus('91bd0f6da3b40692', 7); return rclk(this,jobmap[7],true);\"), ('itemprop', 'title'), ('title', 'Sr Software Engineer - Java')]\n",
        "[('rel', 'nofollow'), ('href', '/rc/clk?jk=34216416965b0bf1'), ('target', '_blank'), ('onmousedown', 'return rclk(this,jobmap[8]);'), ('onclick', \"logFocus('34216416965b0bf1', 8); return rclk(this,jobmap[8],true);\"), ('itemprop', 'title'), ('title', 'Senior Developer - Analytic Infrastructure & Trading Platform')]\n",
        "[('rel', 'nofollow'), ('href', '/rc/clk?jk=618678146a39bd39'), ('target', '_blank'), ('onmousedown', 'return rclk(this,jobmap[9]);'), ('onclick', \"logFocus('618678146a39bd39', 9); return rclk(this,jobmap[9],true);\"), ('itemprop', 'title'), ('title', 'Market Data Support Analyst')]\n",
        "[('rel', 'nofollow'), ('href', '/rc/clk?jk=5526cceee815d7c8'), ('target', '_blank'), ('onmousedown', 'return rclk(this,jobmap[0]);'), ('onclick', \"logFocus('5526cceee815d7c8', 0); return rclk(this,jobmap[0],true);\"), ('itemprop', 'title'), ('title', 'Realtime Software Engineer')]\n",
        "[('rel', 'nofollow'), ('href', '/rc/clk?jk=78d0c51549a6d609'), ('target', '_blank'), ('onmousedown', 'return rclk(this,jobmap[1]);'), ('onclick', \"logFocus('78d0c51549a6d609', 1); return rclk(this,jobmap[1],true);\"), ('itemprop', 'title'), ('title', 'Software Engineer / Global Rates')]\n",
        "[('rel', 'nofollow'), ('href', '/rc/clk?jk=4f487989732ad246'), ('target', '_blank'), ('onmousedown', 'return rclk(this,jobmap[2]);'), ('onclick', \"logFocus('4f487989732ad246', 2); return rclk(this,jobmap[2],true);\"), ('itemprop', 'title'), ('title', 'Web Services Engineer')]\n",
        "[('rel', 'nofollow'), ('href', '/rc/clk?jk=a7b0f76733d1ad2a'), ('target', '_blank'), ('onmousedown', 'return rclk(this,jobmap[3]);'), ('onclick', \"logFocus('a7b0f76733d1ad2a', 3); return rclk(this,jobmap[3],true);\"), ('itemprop', 'title'), ('title', 'Trading Application/Desktop Support Engineer - High Frequency Trading')]\n",
        "[('rel', 'nofollow'), ('href', '/rc/clk?jk=7956f8200131bffb'), ('target', '_blank'), ('onmousedown', 'return rclk(this,jobmap[4]);'), ('onclick', \"logFocus('7956f8200131bffb', 4); return rclk(this,jobmap[4],true);\"), ('itemprop', 'title'), ('title', 'Senior Consultant - Midwest')]\n",
        "[('rel', 'nofollow'), ('href', '/rc/clk?jk=d7d730a390d61286'), ('target', '_blank'), ('onmousedown', 'return rclk(this,jobmap[5]);'), ('onclick', \"logFocus('d7d730a390d61286', 5); return rclk(this,jobmap[5],true);\"), ('itemprop', 'title'), ('title', 'Trade Production Support Engineer')]\n",
        "[('rel', 'nofollow'), ('href', '/rc/clk?jk=5c077c5320e22b28'), ('target', '_blank'), ('onmousedown', 'return rclk(this,jobmap[6]);'), ('onclick', \"logFocus('5c077c5320e22b28', 6); return rclk(this,jobmap[6],true);\"), ('itemprop', 'title'), ('title', 'Trade Support Engineer')]\n",
        "[('rel', 'nofollow'), ('href', '/rc/clk?jk=119122fe4cbfa440'), ('target', '_blank'), ('onmousedown', 'return rclk(this,jobmap[7]);'), ('onclick', \"logFocus('119122fe4cbfa440', 7); return rclk(this,jobmap[7],true);\"), ('itemprop', 'title'), ('title', 'Applications Engineer')]\n",
        "[('rel', 'nofollow'), ('href', '/rc/clk?jk=e35a04845c6dfcdb'), ('target', '_blank'), ('onmousedown', 'return rclk(this,jobmap[8]);'), ('onclick', \"logFocus('e35a04845c6dfcdb', 8); return rclk(this,jobmap[8],true);\"), ('itemprop', 'title'), ('title', 'Market Data Analyst')]\n",
        "[('rel', 'nofollow'), ('href', '/rc/clk?jk=d2d182a7f6b891cc'), ('target', '_blank'), ('onmousedown', 'return rclk(this,jobmap[9]);'), ('onclick', \"logFocus('d2d182a7f6b891cc', 9); return rclk(this,jobmap[9],true);\"), ('itemprop', 'title'), ('title', 'DevOps Engineer')]\n",
        "[('rel', 'nofollow'), ('href', '/rc/clk?jk=570824839169e5d9'), ('target', '_blank'), ('onmousedown', 'return rclk(this,jobmap[0]);'), ('onclick', \"logFocus('570824839169e5d9', 0); return rclk(this,jobmap[0],true);\"), ('itemprop', 'title'), ('title', 'Full Time* Java multiple levels multiple opportunities (Jr-Mid-Sr)')]\n",
        "[('rel', 'nofollow'), ('href', '/rc/clk?jk=6e4525d85c5d0a53'), ('target', '_blank'), ('onmousedown', 'return rclk(this,jobmap[1]);'), ('onclick', \"logFocus('6e4525d85c5d0a53', 1); return rclk(this,jobmap[1],true);\"), ('itemprop', 'title'), ('title', 'Senior Software Engineer')]\n",
        "[('rel', 'nofollow'), ('href', '/rc/clk?jk=95ff91bce38871fe'), ('target', '_blank'), ('onmousedown', 'return rclk(this,jobmap[2]);'), ('onclick', \"logFocus('95ff91bce38871fe', 2); return rclk(this,jobmap[2],true);\"), ('itemprop', 'title'), ('title', 'Senior Software Development Engineer in Test - Mobile and CE devices')]\n",
        "[('rel', 'nofollow'), ('href', '/rc/clk?jk=700dbbd6c09dea99'), ('target', '_blank'), ('onmousedown', 'return rclk(this,jobmap[3]);'), ('onclick', \"logFocus('700dbbd6c09dea99', 3); return rclk(this,jobmap[3],true);\"), ('itemprop', 'title'), ('title', 'QA (Test) Engineer')]\n",
        "[('rel', 'nofollow'), ('href', '/rc/clk?jk=275d86668d61d030'), ('target', '_blank'), ('onmousedown', 'return rclk(this,jobmap[4]);'), ('onclick', \"logFocus('275d86668d61d030', 4); return rclk(this,jobmap[4],true);\"), ('itemprop', 'title'), ('title', 'Director of Operations')]\n",
        "[('rel', 'nofollow'), ('href', '/rc/clk?jk=6997c6c3408e35da'), ('target', '_blank'), ('onmousedown', 'return rclk(this,jobmap[5]);'), ('onclick', \"logFocus('6997c6c3408e35da', 5); return rclk(this,jobmap[5],true);\"), ('itemprop', 'title'), ('title', 'Trade Desk Analyst')]\n",
        "[('rel', 'nofollow'), ('href', '/rc/clk?jk=31cbe440fb0d5b86'), ('target', '_blank'), ('onmousedown', 'return rclk(this,jobmap[6]);'), ('onclick', \"logFocus('31cbe440fb0d5b86', 6); return rclk(this,jobmap[6],true);\"), ('itemprop', 'title'), ('title', 'Data Modeler - Cars.com (3802)')]\n",
        "[('rel', 'nofollow'), ('href', '/rc/clk?jk=d65c6a781fedf1bd'), ('target', '_blank'), ('onmousedown', 'return rclk(this,jobmap[7]);'), ('onclick', \"logFocus('d65c6a781fedf1bd', 7); return rclk(this,jobmap[7],true);\"), ('itemprop', 'title'), ('title', 'Electronic Trading Application Support')]\n",
        "[('rel', 'nofollow'), ('href', '/rc/clk?jk=1a4aa68f08b10c68'), ('target', '_blank'), ('onmousedown', 'return rclk(this,jobmap[8]);'), ('onclick', \"logFocus('1a4aa68f08b10c68', 8); return rclk(this,jobmap[8],true);\"), ('itemprop', 'title'), ('title', 'Salesforce.com Director')]\n",
        "[('rel', 'nofollow'), ('href', '/rc/clk?jk=7f266736f07ef324'), ('target', '_blank'), ('onmousedown', 'return rclk(this,jobmap[9]);'), ('onclick', \"logFocus('7f266736f07ef324', 9); return rclk(this,jobmap[9],true);\"), ('itemprop', 'title'), ('title', 'Sr. QA Engineer')]\n",
        "[('rel', 'nofollow'), ('href', '/rc/clk?jk=d6fa5990cb58807d'), ('target', '_blank'), ('onmousedown', 'return rclk(this,jobmap[0]);'), ('onclick', \"logFocus('d6fa5990cb58807d', 0); return rclk(this,jobmap[0],true);\"), ('itemprop', 'title'), ('title', 'Creative Technologist')]\n",
        "[('rel', 'nofollow'), ('href', '/rc/clk?jk=a430dfc788fb6d2a'), ('target', '_blank'), ('onmousedown', 'return rclk(this,jobmap[1]);'), ('onclick', \"logFocus('a430dfc788fb6d2a', 1); return rclk(this,jobmap[1],true);\"), ('itemprop', 'title'), ('title', 'Sr Engineer-QA')]\n",
        "[('rel', 'nofollow'), ('href', '/rc/clk?jk=6e112107118fafb9'), ('target', '_blank'), ('onmousedown', 'return rclk(this,jobmap[2]);'), ('onclick', \"logFocus('6e112107118fafb9', 2); return rclk(this,jobmap[2],true);\"), ('itemprop', 'title'), ('title', 'Software Engineer')]\n",
        "[('rel', 'nofollow'), ('href', '/rc/clk?jk=ca661148085b2cc8'), ('target', '_blank'), ('onmousedown', 'return rclk(this,jobmap[3]);'), ('onclick', \"logFocus('ca661148085b2cc8', 3); return rclk(this,jobmap[3],true);\"), ('itemprop', 'title'), ('title', 'Chief Technology Officer (CTO)')]\n",
        "[('rel', 'nofollow'), ('href', '/rc/clk?jk=d8647ce9784b7f2e'), ('target', '_blank'), ('onmousedown', 'return rclk(this,jobmap[4]);'), ('onclick', \"logFocus('d8647ce9784b7f2e', 4); return rclk(this,jobmap[4],true);\"), ('itemprop', 'title'), ('title', 'Senior Software Engineer')]\n",
        "[('rel', 'nofollow'), ('href', '/rc/clk?jk=713d734ffda32c29'), ('target', '_blank'), ('onmousedown', 'return rclk(this,jobmap[5]);'), ('onclick', \"logFocus('713d734ffda32c29', 5); return rclk(this,jobmap[5],true);\"), ('itemprop', 'title'), ('title', 'Senior Software Engineer')]\n",
        "[('rel', 'nofollow'), ('href', '/rc/clk?jk=7adf50bde54630f2'), ('target', '_blank'), ('onmousedown', 'return rclk(this,jobmap[6]);'), ('onclick', \"logFocus('7adf50bde54630f2', 6); return rclk(this,jobmap[6],true);\"), ('itemprop', 'title'), ('title', 'Associate Software Engineer')]\n",
        "[('rel', 'nofollow'), ('href', '/rc/clk?jk=a44c432d22fdf1bd'), ('target', '_blank'), ('onmousedown', 'return rclk(this,jobmap[7]);'), ('onclick', \"logFocus('a44c432d22fdf1bd', 7); return rclk(this,jobmap[7],true);\"), ('itemprop', 'title'), ('title', 'Associate Software Engineer')]\n",
        "[('rel', 'nofollow'), ('href', '/rc/clk?jk=e375acef627b4b07'), ('target', '_blank'), ('onmousedown', 'return rclk(this,jobmap[8]);'), ('onclick', \"logFocus('e375acef627b4b07', 8); return rclk(this,jobmap[8],true);\"), ('itemprop', 'title'), ('title', 'Software Engineer')]\n",
        "[('rel', 'nofollow'), ('href', '/rc/clk?jk=ca898b486d0274be'), ('target', '_blank'), ('onmousedown', 'return rclk(this,jobmap[9]);'), ('onclick', \"logFocus('ca898b486d0274be', 9); return rclk(this,jobmap[9],true);\"), ('itemprop', 'title'), ('title', 'QA Analyst')]\n",
        "[('rel', 'nofollow'), ('href', '/rc/clk?jk=4d1e448ca4a736a9'), ('target', '_blank'), ('onmousedown', 'return rclk(this,jobmap[0]);'), ('onclick', \"logFocus('4d1e448ca4a736a9', 0); return rclk(this,jobmap[0],true);\"), ('itemprop', 'title'), ('title', 'Software Engineer')]\n",
        "[('rel', 'nofollow'), ('href', '/rc/clk?jk=4d30f234136472e0'), ('target', '_blank'), ('onmousedown', 'return rclk(this,jobmap[1]);'), ('onclick', \"logFocus('4d30f234136472e0', 1); return rclk(this,jobmap[1],true);\"), ('itemprop', 'title'), ('title', 'Software Engineer')]\n",
        "[('rel', 'nofollow'), ('href', '/rc/clk?jk=bee6e79201b91ce6'), ('target', '_blank'), ('onmousedown', 'return rclk(this,jobmap[2]);'), ('onclick', \"logFocus('bee6e79201b91ce6', 2); return rclk(this,jobmap[2],true);\"), ('itemprop', 'title'), ('title', 'QA Analyst')]\n",
        "[('rel', 'nofollow'), ('href', '/rc/clk?jk=5a9546637f399507'), ('target', '_blank'), ('onmousedown', 'return rclk(this,jobmap[3]);'), ('onclick', \"logFocus('5a9546637f399507', 3); return rclk(this,jobmap[3],true);\"), ('itemprop', 'title'), ('title', 'C++ Linux QA Analyst Trading')]\n",
        "[('rel', 'nofollow'), ('href', '/rc/clk?jk=851ea2538db1e2d4'), ('target', '_blank'), ('onmousedown', 'return rclk(this,jobmap[4]);'), ('onclick', \"logFocus('851ea2538db1e2d4', 4); return rclk(this,jobmap[4],true);\"), ('itemprop', 'title'), ('title', 'DevOps Engineer \\xe2\\x80\\x93 (Linux Admin, Shell Scripting)')]\n",
        "[('rel', 'nofollow'), ('href', '/rc/clk?jk=4ba1ea0843bbcb85'), ('target', '_blank'), ('onmousedown', 'return rclk(this,jobmap[5]);'), ('onclick', \"logFocus('4ba1ea0843bbcb85', 5); return rclk(this,jobmap[5],true);\"), ('itemprop', 'title'), ('title', 'kCura - Senior Software Engineer in Test')]\n",
        "[('rel', 'nofollow'), ('href', '/rc/clk?jk=50ff71e7dd0268dd'), ('target', '_blank'), ('onmousedown', 'return rclk(this,jobmap[6]);'), ('onclick', \"logFocus('50ff71e7dd0268dd', 6); return rclk(this,jobmap[6],true);\"), ('itemprop', 'title'), ('title', 'Senior Software Engineer')]\n",
        "[('rel', 'nofollow'), ('href', '/rc/clk?jk=52f6e823e5268375'), ('target', '_blank'), ('onmousedown', 'return rclk(this,jobmap[7]);'), ('onclick', \"logFocus('52f6e823e5268375', 7); return rclk(this,jobmap[7],true);\"), ('itemprop', 'title'), ('title', 'Polygot Software Engineer (Open Source)')]\n",
        "[('rel', 'nofollow'), ('href', '/rc/clk?jk=0b554f4191ea7a8a'), ('target', '_blank'), ('onmousedown', 'return rclk(this,jobmap[8]);'), ('onclick', \"logFocus('0b554f4191ea7a8a', 8); return rclk(this,jobmap[8],true);\"), ('itemprop', 'title'), ('title', 'Manager of Database Administration')]\n",
        "[('rel', 'nofollow'), ('href', '/rc/clk?jk=bb2c794f2b0e8ede'), ('target', '_blank'), ('onmousedown', 'return rclk(this,jobmap[9]);'), ('onclick', \"logFocus('bb2c794f2b0e8ede', 9); return rclk(this,jobmap[9],true);\"), ('itemprop', 'title'), ('title', 'QA Engineer')]\n",
        "[('rel', 'nofollow'), ('href', '/rc/clk?jk=7f3a714a238dac0c'), ('target', '_blank'), ('onmousedown', 'return rclk(this,jobmap[0]);'), ('onclick', \"logFocus('7f3a714a238dac0c', 0); return rclk(this,jobmap[0],true);\"), ('itemprop', 'title'), ('title', 'QA Engineer')]\n",
        "[('rel', 'nofollow'), ('href', '/rc/clk?jk=086e5422273ebd1d'), ('target', '_blank'), ('onmousedown', 'return rclk(this,jobmap[1]);'), ('onclick', \"logFocus('086e5422273ebd1d', 1); return rclk(this,jobmap[1],true);\"), ('itemprop', 'title'), ('title', 'SaaS Backend Programmer 2')]\n",
        "[('rel', 'nofollow'), ('href', '/rc/clk?jk=069d4689d1ed6161'), ('target', '_blank'), ('onmousedown', 'return rclk(this,jobmap[2]);'), ('onclick', \"logFocus('069d4689d1ed6161', 2); return rclk(this,jobmap[2],true);\"), ('itemprop', 'title'), ('title', 'Automated Trading Operations Support (Overnight Coverage) (approx) 12:30/1:00am - 11:00am')]\n",
        "[('rel', 'nofollow'), ('href', '/rc/clk?jk=7a4d5d6943c96959'), ('target', '_blank'), ('onmousedown', 'return rclk(this,jobmap[3]);'), ('onclick', \"logFocus('7a4d5d6943c96959', 3); return rclk(this,jobmap[3],true);\"), ('itemprop', 'title'), ('title', 'Senior Software Engineer')]\n",
        "[('rel', 'nofollow'), ('href', '/rc/clk?jk=f88add3105d24c12'), ('target', '_blank'), ('onmousedown', 'return rclk(this,jobmap[4]);'), ('onclick', \"logFocus('f88add3105d24c12', 4); return rclk(this,jobmap[4],true);\"), ('itemprop', 'title'), ('title', 'Senior Technical Quality Assurance Engineer')]\n",
        "[('rel', 'nofollow'), ('href', '/rc/clk?jk=f18d00b8bec6eb78'), ('target', '_blank'), ('onmousedown', 'return rclk(this,jobmap[5]);'), ('onclick', \"logFocus('f18d00b8bec6eb78', 5); return rclk(this,jobmap[5],true);\"), ('itemprop', 'title'), ('title', 'Software Engineer')]\n",
        "[('rel', 'nofollow'), ('href', '/rc/clk?jk=97660b2cc6543d83'), ('target', '_blank'), ('onmousedown', 'return rclk(this,jobmap[6]);'), ('onclick', \"logFocus('97660b2cc6543d83', 6); return rclk(this,jobmap[6],true);\"), ('itemprop', 'title'), ('title', 'Lead Software Engineer')]\n",
        "[('rel', 'nofollow'), ('href', '/rc/clk?jk=d720f1f0ec0416c8'), ('target', '_blank'), ('onmousedown', 'return rclk(this,jobmap[7]);'), ('onclick', \"logFocus('d720f1f0ec0416c8', 7); return rclk(this,jobmap[7],true);\"), ('itemprop', 'title'), ('title', 'BI-Datawarehousing - Finance - Chicago')]\n",
        "[('rel', 'nofollow'), ('href', '/rc/clk?jk=e334db11321b1e3c'), ('target', '_blank'), ('onmousedown', 'return rclk(this,jobmap[8]);'), ('onclick', \"logFocus('e334db11321b1e3c', 8); return rclk(this,jobmap[8],true);\"), ('itemprop', 'title'), ('title', 'Automated Trading Operations Support (Overnight Coverage)')]\n",
        "[('rel', 'nofollow'), ('href', '/rc/clk?jk=edca954c291f8713'), ('target', '_blank'), ('onmousedown', 'return rclk(this,jobmap[9]);'), ('onclick', \"logFocus('edca954c291f8713', 9); return rclk(this,jobmap[9],true);\"), ('itemprop', 'title'), ('title', 'Data Scientist')]\n",
        "[('rel', 'nofollow'), ('href', '/rc/clk?jk=b8a571550737cff8'), ('target', '_blank'), ('onmousedown', 'return rclk(this,jobmap[0]);'), ('onclick', \"logFocus('b8a571550737cff8', 0); return rclk(this,jobmap[0],true);\"), ('itemprop', 'title'), ('title', 'Quality Assurance Lead')]\n",
        "[('rel', 'nofollow'), ('href', '/rc/clk?jk=6fdd58d950042ec0'), ('target', '_blank'), ('onmousedown', 'return rclk(this,jobmap[1]);'), ('onclick', \"logFocus('6fdd58d950042ec0', 1); return rclk(this,jobmap[1],true);\"), ('itemprop', 'title'), ('title', 'Systems Administrator, Linux -MICROS-Retail')]\n",
        "[('rel', 'nofollow'), ('href', '/rc/clk?jk=3d702b22c261a092'), ('target', '_blank'), ('onmousedown', 'return rclk(this,jobmap[2]);'), ('onclick', \"logFocus('3d702b22c261a092', 2); return rclk(this,jobmap[2],true);\"), ('itemprop', 'title'), ('title', 'Senior Software Engineer')]\n",
        "[('rel', 'nofollow'), ('href', '/rc/clk?jk=dc23b65eb7bb2b7e'), ('target', '_blank'), ('onmousedown', 'return rclk(this,jobmap[3]);'), ('onclick', \"logFocus('dc23b65eb7bb2b7e', 3); return rclk(this,jobmap[3],true);\"), ('itemprop', 'title'), ('title', 'Senior Engineer')]\n",
        "[('rel', 'nofollow'), ('href', '/rc/clk?jk=66af065a7ee539da'), ('target', '_blank'), ('onmousedown', 'return rclk(this,jobmap[4]);'), ('onclick', \"logFocus('66af065a7ee539da', 4); return rclk(this,jobmap[4],true);\"), ('itemprop', 'title'), ('title', 'Senior UI Engineer')]\n",
        "[('rel', 'nofollow'), ('href', '/rc/clk?jk=3d5ea82a4272c7bb'), ('target', '_blank'), ('onmousedown', 'return rclk(this,jobmap[5]);'), ('onclick', \"logFocus('3d5ea82a4272c7bb', 5); return rclk(this,jobmap[5],true);\"), ('itemprop', 'title'), ('title', 'Director of Software Engineering')]\n",
        "[('rel', 'nofollow'), ('href', '/rc/clk?jk=9d6d887c3ff46055'), ('target', '_blank'), ('onmousedown', 'return rclk(this,jobmap[6]);'), ('onclick', \"logFocus('9d6d887c3ff46055', 6); return rclk(this,jobmap[6],true);\"), ('itemprop', 'title'), ('title', 'Systems Administrator Linux')]\n",
        "[('rel', 'nofollow'), ('href', '/rc/clk?jk=daa30c7613c1ef67'), ('target', '_blank'), ('onmousedown', 'return rclk(this,jobmap[7]);'), ('onclick', \"logFocus('daa30c7613c1ef67', 7); return rclk(this,jobmap[7],true);\"), ('itemprop', 'title'), ('title', 'Market Data Quality Analyst')]\n",
        "[('rel', 'nofollow'), ('href', '/rc/clk?jk=762be38792a74e63'), ('target', '_blank'), ('onmousedown', 'return rclk(this,jobmap[8]);'), ('onclick', \"logFocus('762be38792a74e63', 8); return rclk(this,jobmap[8],true);\"), ('itemprop', 'title'), ('title', 'Low Latency Infrastructure Manager')]\n",
        "[('rel', 'nofollow'), ('href', '/rc/clk?jk=57aaf0af5aee358b'), ('target', '_blank'), ('onmousedown', 'return rclk(this,jobmap[9]);'), ('onclick', \"logFocus('57aaf0af5aee358b', 9); return rclk(this,jobmap[9],true);\"), ('itemprop', 'title'), ('title', 'Senior Software Engineer')]\n",
        "[('rel', 'nofollow'), ('href', '/rc/clk?jk=086ebfb55fddf200'), ('target', '_blank'), ('onmousedown', 'return rclk(this,jobmap[0]);'), ('onclick', \"logFocus('086ebfb55fddf200', 0); return rclk(this,jobmap[0],true);\"), ('itemprop', 'title'), ('title', 'Salesforce.com Manager')]\n",
        "[('rel', 'nofollow'), ('href', '/rc/clk?jk=4d23c9647f6fa614'), ('target', '_blank'), ('onmousedown', 'return rclk(this,jobmap[1]);'), ('onclick', \"logFocus('4d23c9647f6fa614', 1); return rclk(this,jobmap[1],true);\"), ('itemprop', 'title'), ('title', 'Salesforce.com Senior Associate')]\n",
        "[('rel', 'nofollow'), ('href', '/rc/clk?jk=68675174d9f3ae6e'), ('target', '_blank'), ('onmousedown', 'return rclk(this,jobmap[2]);'), ('onclick', \"logFocus('68675174d9f3ae6e', 2); return rclk(this,jobmap[2],true);\"), ('itemprop', 'title'), ('title', 'C++ Software Engineer')]\n",
        "[('rel', 'nofollow'), ('href', '/rc/clk?jk=a65a19d875e6e90a'), ('target', '_blank'), ('onmousedown', 'return rclk(this,jobmap[3]);'), ('onclick', \"logFocus('a65a19d875e6e90a', 3); return rclk(this,jobmap[3],true);\"), ('itemprop', 'title'), ('title', 'Night Shift Trade Support')]\n",
        "[('rel', 'nofollow'), ('href', '/rc/clk?jk=fd1ae3cfa29d2621'), ('target', '_blank'), ('onmousedown', 'return rclk(this,jobmap[4]);'), ('onclick', \"logFocus('fd1ae3cfa29d2621', 4); return rclk(this,jobmap[4],true);\"), ('itemprop', 'title'), ('title', 'Tech Lead Networking - Linux - Scripting')]\n",
        "[('rel', 'nofollow'), ('href', '/rc/clk?jk=2c684444ad02485d'), ('target', '_blank'), ('onmousedown', 'return rclk(this,jobmap[5]);'), ('onclick', \"logFocus('2c684444ad02485d', 5); return rclk(this,jobmap[5],true);\"), ('itemprop', 'title'), ('title', 'VP of Engineering')]\n",
        "[('rel', 'nofollow'), ('href', '/rc/clk?jk=a6766af97794b06b'), ('target', '_blank'), ('onmousedown', 'return rclk(this,jobmap[6]);'), ('onclick', \"logFocus('a6766af97794b06b', 6); return rclk(this,jobmap[6],true);\"), ('itemprop', 'title'), ('title', 'Linux Admin - SaaS Company (Loop)')]\n",
        "[('rel', 'nofollow'), ('href', '/rc/clk?jk=2c791b9c485aa9e5'), ('target', '_blank'), ('onmousedown', 'return rclk(this,jobmap[7]);'), ('onclick', \"logFocus('2c791b9c485aa9e5', 7); return rclk(this,jobmap[7],true);\"), ('itemprop', 'title'), ('title', 'Web Application Developer Intern')]\n",
        "[('rel', 'nofollow'), ('href', '/rc/clk?jk=9b8488e889245e68'), ('target', '_blank'), ('onmousedown', 'return rclk(this,jobmap[8]);'), ('onclick', \"logFocus('9b8488e889245e68', 8); return rclk(this,jobmap[8],true);\"), ('itemprop', 'title'), ('title', 'Software Engineer')]\n",
        "[('rel', 'nofollow'), ('href', '/rc/clk?jk=f8108e321b48649f'), ('target', '_blank'), ('onmousedown', 'return rclk(this,jobmap[9]);'), ('onclick', \"logFocus('f8108e321b48649f', 9); return rclk(this,jobmap[9],true);\"), ('itemprop', 'title'), ('title', 'Senior UI Engineer - Chicago, IL')]\n"
       ]
      }
     ],
     "prompt_number": 12
    },
    {
     "cell_type": "code",
     "collapsed": false,
     "input": [
      "test2 = get_indeed_jobs('python developer', 'Saint Louis, MO')"
     ],
     "language": "python",
     "metadata": {},
     "outputs": [
      {
       "output_type": "stream",
       "stream": "stdout",
       "text": [
        "send: 'GET / HTTP/1.1\\r\\nHost: www.indeed.com\\r\\nUser-Agent: Mozilla/5.0(X11; U; Linux i686; en-US; rv:1.9.0.1) Gecko/2008071615 Fedora/3.0.1-1.fc9 Firefox/3.0.1\\r\\nConnection: close\\r\\nAccept-Encoding: gzip\\r\\n\\r\\n'\n",
        "reply:"
       ]
      },
      {
       "output_type": "stream",
       "stream": "stdout",
       "text": [
        " 'HTTP/1.1 200 OK\\r\\n'\n",
        "header: Date: Thu, 18 Apr 2013 16:11:25 GMT\r\n",
        "header: Server: Apache\r\n",
        "header: Set-Cookie: CTK=17oeukag818230k6; Domain=.indeed.com; Expires=Tue, 23-Apr-2030 10:59:56 GMT; Path=/\r\n",
        "header: Set-Cookie: DCT=8; Expires=Thu, 18-Apr-2013 18:11:25 GMT; Path=/\r\n",
        "header: Set-Cookie: JSESSIONID=C4EB8EC3775EDA79A6A9AC3B63B7ECA9.usB_ord-web5; Path=/\r\n",
        "header: Set-Cookie: INDEED_CSRF_TOKEN=GjqgVCUD73KalhSOHjKoO4JnEVLqjnjR; Path=/\r\n",
        "header: Content-Language: en-US\r\n",
        "header: Vary: User-Agent,Accept-Encoding\r\n",
        "header: Content-Encoding: gzip\r\n",
        "header: Transfer-Encoding: chunked\r\n",
        "header: Content-Type: text/html;charset=UTF-8\r\n",
        "header: Connection: close\r\n",
        "header: Set-Cookie: BIGipServerus_ord=2870032690.20480.0000; path=/\r\n",
        "send:"
       ]
      },
      {
       "output_type": "stream",
       "stream": "stdout",
       "text": [
        " 'GET /jobs?q=python+developer&l=Saint+Louis%2C+MO HTTP/1.1\\r\\nAccept-Encoding: gzip\\r\\nHost: www.indeed.com\\r\\nUser-Agent: Mozilla/5.0(X11; U; Linux i686; en-US; rv:1.9.0.1) Gecko/2008071615 Fedora/3.0.1-1.fc9 Firefox/3.0.1\\r\\nConnection: close\\r\\nCookie: BIGipServerus_ord=2870032690.20480.0000; DCT=8; INDEED_CSRF_TOKEN=GjqgVCUD73KalhSOHjKoO4JnEVLqjnjR; JSESSIONID=C4EB8EC3775EDA79A6A9AC3B63B7ECA9.usB_ord-web5; CTK=17oeukag818230k6\\r\\nReferer: http://www.indeed.com\\r\\n\\r\\n'\n",
        "reply:"
       ]
      },
      {
       "output_type": "stream",
       "stream": "stdout",
       "text": [
        " 'HTTP/1.1 200 OK\\r\\n'\n",
        "header: Date: Thu, 18 Apr 2013 16:11:26 GMT\r\n",
        "header: Server: Apache\r\n",
        "header: Set-Cookie: PREF=; Domain=.indeed.com; Expires=Thu, 01-Jan-1970 00:00:10 GMT; Path=/\r\n",
        "header: Set-Cookie: PREF=\"ID=fbf89c9413811fc5:TM=1366301486:NW=1:JF=1:L=Saint+Louis%2C+MO\"; Expires=Tue, 23-Apr-2030 10:59:57 GMT; Path=/\r\n",
        "header: Set-Cookie: RQ=\"q=python+developer&l=Saint+Louis%2C+MO\"; Expires=Sat, 18-May-2013 16:11:26 GMT; Path=/\r\n",
        "header: Set-Cookie: UD=\"ID=5bc043bfd230fff6:AK=dd616958bd9ddc12:CV=1366301486:LA=1366301486:TS=1366301486:SG=0a1d0432165c09b6d6a4b1dfe1985ce4\"; Expires=Tue, 23-Apr-2030 10:59:57 GMT; Path=/\r\n",
        "header: Vary: User-Agent,Accept-Encoding\r\n",
        "header: Content-Encoding: gzip\r\n",
        "header: Transfer-Encoding: chunked\r\n",
        "header: Content-Type: text/html;charset=UTF-8\r\n",
        "header: Connection: close\r\n",
        "send:"
       ]
      },
      {
       "output_type": "stream",
       "stream": "stdout",
       "text": [
        " 'GET /jobs?q=python+developer&l=Saint+Louis%2C+MO&start=10 HTTP/1.1\\r\\nAccept-Encoding: gzip\\r\\nHost: www.indeed.com\\r\\nUser-Agent: Mozilla/5.0(X11; U; Linux i686; en-US; rv:1.9.0.1) Gecko/2008071615 Fedora/3.0.1-1.fc9 Firefox/3.0.1\\r\\nConnection: close\\r\\nCookie: PREF=\"ID=fbf89c9413811fc5:TM=1366301486:NW=1:JF=1:L=Saint+Louis%2C+MO\"; RQ=\"q=python+developer&l=Saint+Louis%2C+MO\"; INDEED_CSRF_TOKEN=GjqgVCUD73KalhSOHjKoO4JnEVLqjnjR; JSESSIONID=C4EB8EC3775EDA79A6A9AC3B63B7ECA9.usB_ord-web5; UD=\"ID=5bc043bfd230fff6:AK=dd616958bd9ddc12:CV=1366301486:LA=1366301486:TS=1366301486:SG=0a1d0432165c09b6d6a4b1dfe1985ce4\"; BIGipServerus_ord=2870032690.20480.0000; DCT=8; CTK=17oeukag818230k6\\r\\nReferer: http://www.indeed.com/jobs?q=python+developer&l=Saint+Louis%2C+MO\\r\\n\\r\\n'\n",
        "reply:"
       ]
      },
      {
       "output_type": "stream",
       "stream": "stdout",
       "text": [
        " 'HTTP/1.1 200 OK\\r\\n'\n",
        "header: Date: Thu, 18 Apr 2013 16:11:26 GMT\r\n",
        "header: Server: Apache\r\n",
        "header: Set-Cookie: RQ=\"q=python+developer&l=Saint+Louis%2C+MO\"; Expires=Sat, 18-May-2013 16:11:26 GMT; Path=/\r\n",
        "header: Set-Cookie: UD=\"ID=5bc043bfd230fff6:AK=dd616958bd9ddc12:CV=1366301486:LA=1366301486:TS=1366301486:SG=0a1d0432165c09b6d6a4b1dfe1985ce4\"; Expires=Tue, 23-Apr-2030 10:59:57 GMT; Path=/\r\n",
        "header: Vary: User-Agent,Accept-Encoding\r\n",
        "header: Content-Encoding: gzip\r\n",
        "header: Transfer-Encoding: chunked\r\n",
        "header: Content-Type: text/html;charset=UTF-8\r\n",
        "header: Connection: close\r\n",
        "send:"
       ]
      },
      {
       "output_type": "stream",
       "stream": "stdout",
       "text": [
        " 'GET /jobs?q=python+developer&l=Saint+Louis%2C+MO&start=20 HTTP/1.1\\r\\nAccept-Encoding: gzip\\r\\nHost: www.indeed.com\\r\\nUser-Agent: Mozilla/5.0(X11; U; Linux i686; en-US; rv:1.9.0.1) Gecko/2008071615 Fedora/3.0.1-1.fc9 Firefox/3.0.1\\r\\nConnection: close\\r\\nCookie: PREF=\"ID=fbf89c9413811fc5:TM=1366301486:NW=1:JF=1:L=Saint+Louis%2C+MO\"; RQ=\"q=python+developer&l=Saint+Louis%2C+MO\"; INDEED_CSRF_TOKEN=GjqgVCUD73KalhSOHjKoO4JnEVLqjnjR; JSESSIONID=C4EB8EC3775EDA79A6A9AC3B63B7ECA9.usB_ord-web5; UD=\"ID=5bc043bfd230fff6:AK=dd616958bd9ddc12:CV=1366301486:LA=1366301486:TS=1366301486:SG=0a1d0432165c09b6d6a4b1dfe1985ce4\"; BIGipServerus_ord=2870032690.20480.0000; DCT=8; CTK=17oeukag818230k6\\r\\nReferer: http://www.indeed.com/jobs?q=python+developer&l=Saint+Louis%2C+MO&start=10\\r\\n\\r\\n'\n",
        "reply:"
       ]
      },
      {
       "output_type": "stream",
       "stream": "stdout",
       "text": [
        " 'HTTP/1.1 200 OK\\r\\n'\n",
        "header: Date: Thu, 18 Apr 2013 16:11:27 GMT\r\n",
        "header: Server: Apache\r\n",
        "header: Set-Cookie: RQ=\"q=python+developer&l=Saint+Louis%2C+MO\"; Expires=Sat, 18-May-2013 16:11:27 GMT; Path=/\r\n",
        "header: Set-Cookie: UD=\"ID=5bc043bfd230fff6:AK=dd616958bd9ddc12:CV=1366301486:LA=1366301487:TS=1366301486:SG=ee3b07a82db1837815af2628a5cadca0\"; Expires=Tue, 23-Apr-2030 10:59:58 GMT; Path=/\r\n",
        "header: Vary: User-Agent,Accept-Encoding\r\n",
        "header: Content-Encoding: gzip\r\n",
        "header: Transfer-Encoding: chunked\r\n",
        "header: Content-Type: text/html;charset=UTF-8\r\n",
        "header: Connection: close\r\n"
       ]
      }
     ],
     "prompt_number": 19
    },
    {
     "cell_type": "code",
     "collapsed": false,
     "input": [
      "for i in test2:\n",
      "    print i.text"
     ],
     "language": "python",
     "metadata": {},
     "outputs": [
      {
       "output_type": "stream",
       "stream": "stdout",
       "text": [
        "Python Developer (Ref 13-03A)\n",
        "Web Developer\n",
        "WEB DEVELOPER, LEAD Job\n",
        "Applications Developer\n",
        "Java Developer / Perl / Python / Software Engineer\n",
        "PHP Developer (Ref 13-02A)\n",
        "Web Back End Dev PHP, Python, MySQL\n",
        "Software Engineer\n",
        "Application Engineer\n",
        "Application Engineer (With Security) (DJ56K)\n",
        "Application Engineer With Security\n",
        "Application Engineer - Security\n",
        "Senior Cloud Architect\n",
        "Software Engineer (PHP)\n",
        "Software Engineer\n",
        "Big Data\n",
        "Data Architect\n",
        "Senior Application Security Engineer - St. Louis, MO Job\n",
        "SOFTWARE ENGINEER (Java)\n",
        "Data Architect\n",
        "Data Architect - Senior\n",
        "Data Architect\n",
        "Business & Technology Applications Analyst II - The Genome I...\n"
       ]
      }
     ],
     "prompt_number": 20
    },
    {
     "cell_type": "code",
     "collapsed": false,
     "input": [],
     "language": "python",
     "metadata": {},
     "outputs": []
    }
   ],
   "metadata": {}
  }
 ]
}