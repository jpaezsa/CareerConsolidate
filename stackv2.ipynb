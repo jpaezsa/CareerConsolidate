{
 "metadata": {
  "name": "stackv2"
 },
 "nbformat": 3,
 "nbformat_minor": 0,
 "worksheets": [
  {
   "cells": [
    {
     "cell_type": "code",
     "collapsed": false,
     "input": [
      "def get_stack_v2(position, location):  \n",
      "    import urllib2\n",
      "    import time\n",
      "    start = time.time()\n",
      "    # have job be a global for all algorithms to add to\n",
      "    jobs = {}\n",
      "    stack_api = 'http://careers.stackoverflow.com/jobs?searchTerm={0}&location={1}'\n",
      "    position = position.replace(' ', '+')\n",
      "    location = location.replace(',', '%2C')\n",
      "    location = location.replace(' ', '+')\n",
      "    formatted = stack_api.format(position, location)\n",
      "    f = urllib2.urlopen(formatted)\n",
      "    f1 = f.read().split('\\n')\n",
      "    f1 = [i.split('\\r') for i in f1]\n",
      "    page = 1\n",
      "    #if f1[119][0].find('title') != -1:\n",
      "    if len([e for e in f1 if '<a class=\"title job-link\"' in e[0]]) > 0:\n",
      "        while len([e for e in f1 if '<a class=\"title job-link\"' in e[0]]) > 0:\n",
      "            indexes = [f1.index(e) for e in f1 if '<a class=\"title job-link\"' in e[0] or '<a class=\"title job-link abbrev\"' in e[0]]\n",
      "            for index in indexes:\n",
      "                base_url = 'http://careers.stackoverflow.com'\n",
      "                # url concatenation stuff\n",
      "                start = f1[index][0].find('/')\n",
      "                stop = f1[index][0].find('title=')-2\n",
      "                add_url = f1[index][0][start:stop]\n",
      "                job_url = base_url+add_url\n",
      "                # job title stuff\n",
      "                start_title = stop+9\n",
      "                stop_title = f1[index][0].find('\"', start_title)\n",
      "                title = f1[index][0][start_title:stop_title]\n",
      "                # company stuff\n",
      "                comp = f1[index+3][0]\n",
      "                comp_new = [e for e in comp if not e.isspace()]\n",
      "                company = ''.join(comp_new)\n",
      "                # timeline stuff\n",
      "                # job index - 6\n",
      "                job_posted_time = f1[index-6][0]\n",
      "                start_ind = job_posted_time.index([e for e in job_posted_time if e.isdigit()][0])\n",
      "                job_timeline = job_posted_time[start_ind:]\n",
      "                jobs[job_url] = [title, company, job_timeline]\n",
      "            # make a new page\n",
      "            page += 1\n",
      "            formatted_new = formatted + '&pg=%s' % page\n",
      "            f = urllib2.urlopen(formatted_new)\n",
      "            f1 = f.read().split('\\n')\n",
      "            f.close()\n",
      "            f1 = [i.split('\\r') for i in f1]\n",
      "        end = time.time()\n",
      "        return jobs, end-start\n",
      "    else:\n",
      "        end = time.time()\n",
      "        return jobs, end-start\n"
     ],
     "language": "python",
     "metadata": {},
     "outputs": [],
     "prompt_number": 91
    },
    {
     "cell_type": "code",
     "collapsed": false,
     "input": [
      "test1, total = get_stack_v2('dfkadfj;a', 'daflkf')"
     ],
     "language": "python",
     "metadata": {},
     "outputs": [],
     "prompt_number": 92
    },
    {
     "cell_type": "code",
     "collapsed": false,
     "input": [
      "total"
     ],
     "language": "python",
     "metadata": {},
     "outputs": [
      {
       "output_type": "pyout",
       "prompt_number": 93,
       "text": [
        "0.6748108863830566"
       ]
      }
     ],
     "prompt_number": 93
    },
    {
     "cell_type": "code",
     "collapsed": false,
     "input": [
      "print test1"
     ],
     "language": "python",
     "metadata": {},
     "outputs": [
      {
       "output_type": "stream",
       "stream": "stdout",
       "text": [
        "{}\n"
       ]
      }
     ],
     "prompt_number": 90
    },
    {
     "cell_type": "code",
     "collapsed": false,
     "input": [
      "test2 = get"
     ],
     "language": "python",
     "metadata": {},
     "outputs": []
    }
   ],
   "metadata": {}
  }
 ]
}