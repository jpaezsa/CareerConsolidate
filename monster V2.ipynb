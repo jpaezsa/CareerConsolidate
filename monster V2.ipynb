{
 "metadata": {
  "name": "monster V2"
 },
 "nbformat": 3,
 "nbformat_minor": 0,
 "worksheets": [
  {
   "cells": [
    {
     "cell_type": "code",
     "collapsed": false,
     "input": [
      "def get_monster_v2(position, location):\n",
      "    from search_engine_mine import states\n",
      "    import time\n",
      "    start = time.time()\n",
      "    import urllib2\n",
      "    jobs = {}\n",
      "    position = position.replace(' ', '-')\n",
      "    location = location.replace(',', '__2C')\n",
      "    location = location.replace(' ', '-')\n",
      "    api = 'http://jobsearch.monster.com/search/{0}_5?where={1}'\n",
      "    formatted = api.format(position, location)\n",
      "    f = urllib2.urlopen(formatted)\n",
      "    f1 = f.read().split('\\n')\n",
      "    f.close()\n",
      "    f1 = [i.split('\\r') for i in f1]\n",
      "    pages_api = 'http://jobsearch.monster.com/search/Illinois+Chicago+java-developer_125?pg={0}&where=Chicago__2c-IL&rad=20-miles'\n",
      "    pages_api = 'http://jobsearch.monster.com/search/{0}+{1}+{2}_125?pg={3}&where={4}&rad=20-miles'\n",
      "    page = 1\n",
      "    if len([e for e in f1 if 'class=\"slJobTitle' in e[0]]) > 0:\n",
      "        while len([e for e in f1 if 'class=\"slJobTitle' in e[0]]) > 0:\n",
      "            indexes = [f1.index(e) for e in f1 if 'class=\"slJobTitle' in e[0]]\n",
      "            for index in indexes:\n",
      "                string = f1[index][0]\n",
      "                # title stuff\n",
      "                start_title = string.find('title=')+7\n",
      "                end_title = string.find('\"', start_title)\n",
      "                title = string[start_title:end_title]\n",
      "                # link stuff\n",
      "                start_link = string.find('href=')\n",
      "                start_link = start_link+6\n",
      "                stop_link = string.find('\">', start_link)\n",
      "                link = string[start_link:stop_link]\n",
      "                # index of job + 22 = time\n",
      "                time_str = f1[index+22][0]\n",
      "                list_time_str = [e for e in time_str if not e.isspace()]\n",
      "                actual_time = ''.join(list_time_str)\n",
      "                # index + 8 = company\n",
      "                comp = f1[943][0]\n",
      "                start = comp.find('>')\n",
      "                start = comp.find('>')+1\n",
      "                stop = comp.find('</', start)\n",
      "                company = comp[start:stop]\n",
      "                jobs[link] = [title, company, actual_time]\n",
      "            page += 1\n",
      "            state = states[location[len(location)-2:].upper()]\n",
      "            city = location[0:location.find('_')]\n",
      "            formatted_pages = pages_api.format(state, city, position, page, location)\n",
      "            f = urllib2.urlopen(formatted_pages)\n",
      "            f1 = f.read().split('\\n')\n",
      "            f1 = [i.split('\\r') for i in f1]\n",
      "    else:\n",
      "        jobs = {}\n",
      "    end = time.time()\n",
      "    total = end-start\n",
      "    return jobs, total\n"
     ],
     "language": "python",
     "metadata": {},
     "outputs": [],
     "prompt_number": 2
    },
    {
     "cell_type": "code",
     "collapsed": false,
     "input": [
      "test, total = get_monster_v2('dalkfjdk;fj;', 'adjf;kajdk;')"
     ],
     "language": "python",
     "metadata": {},
     "outputs": [
      {
       "ename": "SyntaxError",
       "evalue": "invalid syntax (search_engine_mine.py, line 433)",
       "output_type": "pyerr",
       "traceback": [
        "\u001b[1;36m  File \u001b[1;32m\"search_engine_mine.py\"\u001b[1;36m, line \u001b[1;32m433\u001b[0m\n\u001b[1;33m    get_monster_v2(position, location):\u001b[0m\n\u001b[1;37m                                      ^\u001b[0m\n\u001b[1;31mSyntaxError\u001b[0m\u001b[1;31m:\u001b[0m invalid syntax\n"
       ]
      }
     ],
     "prompt_number": 3
    },
    {
     "cell_type": "code",
     "collapsed": false,
     "input": [
      "len(test)"
     ],
     "language": "python",
     "metadata": {},
     "outputs": [
      {
       "output_type": "pyout",
       "prompt_number": 34,
       "text": [
        "0"
       ]
      }
     ],
     "prompt_number": 34
    },
    {
     "cell_type": "code",
     "collapsed": false,
     "input": [
      "test2 = get_monster_v2('python developer', 'Chicago, IL')"
     ],
     "language": "python",
     "metadata": {},
     "outputs": [],
     "prompt_number": 42
    },
    {
     "cell_type": "code",
     "collapsed": false,
     "input": [
      "test2"
     ],
     "language": "python",
     "metadata": {},
     "outputs": [
      {
       "output_type": "pyout",
       "prompt_number": 43,
       "text": [
        "({'http://jobview.monster.com/Back-End-Python-Developer-Back-End-Python-RDBMS-MySQL-Job-Chicago-IL-121508518.aspx': ['Back-End Python Developer - Back-End, Python, RDBMS, MySQL',\n",
        "   'CyberCoders',\n",
        "   'Today'],\n",
        "  'http://jobview.monster.com/Java-Applications-Developer-Job-Chicago-IL-121395918.aspx': ['Java Applications Developer',\n",
        "   '                                            ',\n",
        "   '8daysago'],\n",
        "  'http://jobview.monster.com/Java-Applications-Developer-Job-Chicago-IL-121396027.aspx': ['Java Applications Developer',\n",
        "   '                                            ',\n",
        "   '8daysago'],\n",
        "  'http://jobview.monster.com/Java-Consultant-Job-Chicago-IL-121166536.aspx': ['Java Consultant',\n",
        "   '                                            ',\n",
        "   '3daysago'],\n",
        "  'http://jobview.monster.com/Java-Designer-Job-Glenview-IL-121468069.aspx': ['Java Designer',\n",
        "   '                                            ',\n",
        "   '2daysago'],\n",
        "  'http://jobview.monster.com/Java-Developer-Job-Chicago-IL-116903226.aspx': ['Java Developer',\n",
        "   '                                            ',\n",
        "   '13daysago'],\n",
        "  'http://jobview.monster.com/Java-Developer-Job-Chicago-IL-120836965.aspx': ['Java Developer',\n",
        "   '                                            ',\n",
        "   '29daysago'],\n",
        "  'http://jobview.monster.com/Java-Developer-Job-Chicago-IL-121030210.aspx': ['Java Developer',\n",
        "   '                                            ',\n",
        "   '21daysago'],\n",
        "  'http://jobview.monster.com/Java-Developer-Job-Glenview-IL-121038543.aspx': ['Java Developer',\n",
        "   '                                            ',\n",
        "   '20daysago'],\n",
        "  'http://jobview.monster.com/Java-Developer-w-Perl-Job-Chicago-IL-121345895.aspx': ['Java Developer w/Perl',\n",
        "   '                                            ',\n",
        "   '7daysago'],\n",
        "  'http://jobview.monster.com/Java-Programmer-Job-Chicago-IL-121285742.aspx': ['Java Programmer',\n",
        "   '                                            ',\n",
        "   '4daysago'],\n",
        "  'http://jobview.monster.com/Java-Ruby-Lead-Web-Developer-Downtown-Chicago-Job-Chicago-IL-121038673.aspx': ['Java/Ruby Lead Web Developer - Downtown Chicago',\n",
        "   '                                            ',\n",
        "   '7daysago'],\n",
        "  'http://jobview.monster.com/Java-Web-Developer-Job-Chicago-IL-121216985.aspx': ['Java Web Developer',\n",
        "   '                                            ',\n",
        "   '14daysago'],\n",
        "  'http://jobview.monster.com/Java-Web-Developer-Job-Glenview-IL-121480475.aspx': ['Java Web Developer',\n",
        "   '                                            ',\n",
        "   '5daysago'],\n",
        "  'http://jobview.monster.com/Lead-Java-Applications-Developer-Chase-Wealth-Management-Technology-Job-Chicago-IL-121080508.aspx': ['Lead Java Applications Developer -- Chase Wealth Management Technology',\n",
        "   '                                            ',\n",
        "   '21daysago'],\n",
        "  'http://jobview.monster.com/Python-Engineer-Python-PHP-Django-Chicago-IL-Job-Chicago-IL-121078080.aspx': ['Python Engineer - Python, PHP, Django - Chicago, IL',\n",
        "   'CyberCoders',\n",
        "   'Today'],\n",
        "  'http://jobview.monster.com/Senior-Flex-Java-Lead-Developer-Job-Chicago-IL-121529711.aspx': ['Senior Flex/Java Lead Developer',\n",
        "   '                                            ',\n",
        "   '4daysago'],\n",
        "  'http://jobview.monster.com/Senior-Java-Developer-Job-Northbrook-IL-120995618.aspx': ['Senior Java Developer',\n",
        "   '                                            ',\n",
        "   '25daysago'],\n",
        "  'http://jobview.monster.com/Senior-Java-Developer-Job-Northbrook-IL-121238556.aspx': ['Senior Java Developer',\n",
        "   '                                            ',\n",
        "   '13daysago'],\n",
        "  'http://jobview.monster.com/Sr-Java-Developer-Job-Arlington-Heights-IL-121285586.aspx': ['Sr. Java Developer',\n",
        "   '                                            ',\n",
        "   '13daysago'],\n",
        "  'http://jobview.monster.com/Sr-Java-Developer-Job-Chicago-IL-120829538.aspx': ['Sr. Java Developer',\n",
        "   '                                            ',\n",
        "   '29daysago'],\n",
        "  'http://jobview.monster.com/Sr-Java-Developer-Job-Chicago-IL-120836471.aspx': ['Sr. Java Developer',\n",
        "   '                                            ',\n",
        "   '28daysago'],\n",
        "  'http://jobview.monster.com/Sr-Java-Developer-Job-Chicago-IL-121025264.aspx': ['Sr. Java Developer',\n",
        "   '                                            ',\n",
        "   '21daysago'],\n",
        "  'http://jobview.monster.com/Sr-Java-Developer-Job-Chicago-IL-121145788.aspx': ['Sr. Java Developer',\n",
        "   '                                            ',\n",
        "   '18daysago'],\n",
        "  'http://jobview.monster.com/Sr-Java-Developer-Job-Chicago-IL-121345282.aspx': ['Sr.Java Developer',\n",
        "   '                                            ',\n",
        "   '11daysago'],\n",
        "  'http://jobview.monster.com/Sr-Java-Developer-Job-Chicago-IL-121431731.aspx': ['Sr. Java Developer',\n",
        "   '                                            ',\n",
        "   '7daysago'],\n",
        "  'http://jobview.monster.com/Sr-Java-Developer-Job-Chicago-IL-121439808.aspx': ['Sr. Java Developer',\n",
        "   '                                            ',\n",
        "   '7daysago'],\n",
        "  'http://jobview.monster.com/Sr-Java-Developer-Job-Northbrook-IL-121422777.aspx': ['Sr. Java Developer',\n",
        "   '                                            ',\n",
        "   '7daysago'],\n",
        "  'http://jobview.monster.com/Sr-Java-Software-Engineer-Job-Bloomingdale-IL-121526693.aspx': ['Sr. Java Software Engineer',\n",
        "   '                                            ',\n",
        "   '3daysago'],\n",
        "  'http://jobview.monster.com/Sr-Java-Web-Developer-Job-Chicago-IL-120097336.aspx': ['Sr. Java Web Developer',\n",
        "   '                                            ',\n",
        "   'Today'],\n",
        "  'http://jobview.monster.com/Sr-Software-Engineer-Java-Worldwide-Technology-Firm-Job-Chicago-IL-121566304.aspx': ['Sr. Software Engineer - Java, Worldwide Technology Firm',\n",
        "   '                                            ',\n",
        "   'Today'],\n",
        "  'http://jobview.monster.com/WebSphere-J2EE-Developer-Job-Northbrook-IL-121220736.aspx': ['WebSphere J2EE Developer',\n",
        "   '                                            ',\n",
        "   '14daysago']},\n",
        " 1366646837.713351)"
       ]
      }
     ],
     "prompt_number": 43
    },
    {
     "cell_type": "code",
     "collapsed": false,
     "input": [],
     "language": "python",
     "metadata": {},
     "outputs": []
    }
   ],
   "metadata": {}
  }
 ]
}