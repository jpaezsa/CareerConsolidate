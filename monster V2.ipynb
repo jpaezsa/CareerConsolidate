{
 "metadata": {
  "name": "monster V2"
 },
 "nbformat": 3,
 "nbformat_minor": 0,
 "worksheets": [
  {
   "cells": [
    {
     "cell_type": "code",
     "collapsed": false,
     "input": [
      "def get_monster_v2(position, location):\n",
      "    from search_engine_mine import states\n",
      "    import time\n",
      "    start = time.time()\n",
      "    import urllib2\n",
      "    jobs = {}\n",
      "    position = position.replace(' ', '-')\n",
      "    location = location.replace(',', '__2C')\n",
      "    location = location.replace(' ', '-')\n",
      "    api = 'http://jobsearch.monster.com/search/{0}_5?where={1}'\n",
      "    formatted = api.format(position, location)\n",
      "    f = urllib2.urlopen(formatted)\n",
      "    f1 = f.read().split('\\n')\n",
      "    f.close()\n",
      "    f1 = [i.split('\\r') for i in f1]\n",
      "    pages_api = 'http://jobsearch.monster.com/search/{0}+{1}+{2}_125?pg={3}&where={4}&rad=20-miles'\n",
      "    page = 1\n",
      "    if len([e for e in f1 if 'class=\"slJobTitle' in e[0]]) > 0:\n",
      "        while len([e for e in f1 if 'class=\"slJobTitle' in e[0]]) > 0:\n",
      "            indexes = [f1.index(e) for e in f1 if 'class=\"slJobTitle' in e[0]]\n",
      "            for index in indexes:\n",
      "                string = f1[index][0]\n",
      "                # title stuff\n",
      "                start_title = string.find('title=')+7\n",
      "                end_title = string.find('\"', start_title)\n",
      "                title = string[start_title:end_title]\n",
      "                # link stuff\n",
      "                start_link = string.find('href=')\n",
      "                start_link = start_link+6\n",
      "                stop_link = string.find('\">', start_link)\n",
      "                link = string[start_link:stop_link]\n",
      "                # index of job + 22 = time\n",
      "                time_str = f1[index+22][0]\n",
      "                list_time_str = [e for e in time_str if not e.isspace()]\n",
      "                actual_time = ''.join(list_time_str)\n",
      "                # index + 8 = company\n",
      "                comp = f1[943][0]\n",
      "                start = comp.find('>')\n",
      "                start = comp.find('>')+1\n",
      "                stop = comp.find('</', start)\n",
      "                company = comp[start:stop]\n",
      "                jobs[link] = [title, company, actual_time]\n",
      "            page += 1\n",
      "            state = states[location[len(location)-2:].upper()]\n",
      "            city = location[0:location.find('_')]\n",
      "            formatted_pages = pages_api.format(state, city, position, page, location)\n",
      "            f = urllib2.urlopen(formatted_pages)\n",
      "            f1 = f.read().split('\\n')\n",
      "            f1 = [i.split('\\r') for i in f1]\n",
      "    else:\n",
      "        jobs = {}\n",
      "    end = time.time()\n",
      "    total = end-start\n",
      "    return jobs, total\n"
     ],
     "language": "python",
     "metadata": {},
     "outputs": [],
     "prompt_number": 23
    },
    {
     "cell_type": "code",
     "collapsed": false,
     "input": [
      "test, total = get_monster_v2('dalkfjdk;fj;', 'adjf;kajdk;')"
     ],
     "language": "python",
     "metadata": {},
     "outputs": [],
     "prompt_number": 20
    },
    {
     "cell_type": "code",
     "collapsed": false,
     "input": [
      "len(test)"
     ],
     "language": "python",
     "metadata": {},
     "outputs": [
      {
       "output_type": "pyout",
       "prompt_number": 21,
       "text": [
        "0"
       ]
      }
     ],
     "prompt_number": 21
    },
    {
     "cell_type": "code",
     "collapsed": false,
     "input": [
      "test2, total = get_monster_v2('java developer', 'Chicago, IL')"
     ],
     "language": "python",
     "metadata": {},
     "outputs": [],
     "prompt_number": 22
    },
    {
     "cell_type": "code",
     "collapsed": false,
     "input": [
      "response = ''\n",
      "for i in test2:\n",
      "    response += '<a href=%s'"
     ],
     "language": "python",
     "metadata": {},
     "outputs": [
      {
       "output_type": "pyout",
       "prompt_number": 17,
       "text": [
        "50"
       ]
      }
     ],
     "prompt_number": 17
    },
    {
     "cell_type": "code",
     "collapsed": false,
     "input": [],
     "language": "python",
     "metadata": {},
     "outputs": []
    }
   ],
   "metadata": {}
  }
 ]
}