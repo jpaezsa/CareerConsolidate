{
 "metadata": {
  "name": "dice"
 },
 "nbformat": 3,
 "nbformat_minor": 0,
 "worksheets": [
  {
   "cells": [
    {
     "cell_type": "code",
     "collapsed": false,
     "input": [
      "import mechanize\n",
      "import cookielib\n",
      "cj = cookielib.LWPCookieJar()\n",
      "br = mechanize.Browser()\n",
      "br.addheaders = [('User-Agent', 'Mozilla/5.0(X11; U; Linux i686; en-US; rv:1.9.0.1) Gecko/2008071615 Fedora/3.0.1-1.fc9 Firefox/3.0.1')]\n",
      "br.set_debug_http(True)\n",
      "br.set_debug_redirects(True)\n",
      "br.set_handle_equiv(True)\n",
      "br.set_handle_gzip(True)\n",
      "br.set_handle_redirect(True)\n",
      "br.set_handle_robots(False)"
     ],
     "language": "python",
     "metadata": {},
     "outputs": [
      {
       "output_type": "stream",
       "stream": "stderr",
       "text": [
        "-c:9: UserWarning: gzip transfer encoding is experimental!\n"
       ]
      }
     ],
     "prompt_number": 2
    },
    {
     "cell_type": "code",
     "collapsed": false,
     "input": [
      "def return_jobs_from_dice2(position, location):\n",
      "    import mechanize\n",
      "    import cookielib\n",
      "    cj = cookielib.LWPCookieJar()\n",
      "    br = mechanize.Browser()\n",
      "    br.addheaders = [('User-Agent', 'Mozilla/5.0(X11; U; Linux i686; en-US; rv:1.9.0.1) Gecko/2008071615 Fedora/3.0.1-1.fc9 Firefox/3.0.1')]\n",
      "    br.set_debug_http(True)\n",
      "    br.set_debug_redirects(True)\n",
      "    br.set_handle_equiv(True)\n",
      "    br.set_handle_gzip(True)\n",
      "    br.set_handle_redirect(True)\n",
      "    br.set_handle_robots(False)\n",
      "    br.open('http://www.dice.com')\n",
      "    br.select_form(nr=0)\n",
      "    br.form['FREE_TEXT'] = position\n",
      "    br.form['WHERE'] = location\n",
      "    br.submit()\n",
      "    jobs = []\n",
      "    links = [i for i in br.links()]\n",
      "    if len(links) > 60:\n",
      "        start = links.index([i for i in links if i.text == 'Location'][0])+2\n",
      "        stop = links.index([i for i in links if i.text == '1'][0], start)\n",
      "        jobs += links[start:stop]\n",
      "        while len([e for e in br.links() if e.text == 'Next']) > 0:\n",
      "            br.follow_link([e for e in br.links() if e.text == 'Next'][0])\n",
      "            current_links = [j for j in br.links()]\n",
      "            cur_start = current_links.index([l for l in current_links if l.text == 'Location'][0])+2\n",
      "            cur_end = current_links.index([l for l in current_links if l.text == '1'][0], cur_start)\n",
      "            jobs += current_links[cur_start:cur_end]\n",
      "        while len([i for i in jobs if len(i.attrs) > 1]) > 0:\n",
      "            for e in jobs:\n",
      "                if len(e.attrs) > 1:\n",
      "                    del jobs[jobs.index(e)]\n",
      "    else:\n",
      "        jobs = []\n",
      "\n",
      "    return jobs\n"
     ],
     "language": "python",
     "metadata": {},
     "outputs": [],
     "prompt_number": 2
    },
    {
     "cell_type": "code",
     "collapsed": false,
     "input": [
      "test = return_jobs_from_dice2('software engineer', 'Austin, TX')"
     ],
     "language": "python",
     "metadata": {},
     "outputs": [
      {
       "output_type": "stream",
       "stream": "stdout",
       "text": [
        "send: 'GET / HTTP/1.1\\r\\nHost: www.dice.com\\r\\nUser-Agent: Mozilla/5.0(X11; U; Linux i686; en-US; rv:1.9.0.1) Gecko/2008071615 Fedora/3.0.1-1.fc9 Firefox/3.0.1\\r\\nConnection: close\\r\\nAccept-Encoding: gzip\\r\\n\\r\\n'\n",
        "reply:"
       ]
      },
      {
       "output_type": "stream",
       "stream": "stdout",
       "text": [
        " 'HTTP/1.1 200 OK\\r\\n'\n",
        "header: Server: Apache\r\n",
        "header: Vary: Accept-Encoding\r\n",
        "header: Content-Type: text/html; charset=ISO-8859-1\r\n",
        "header: Content-Encoding: gzip\r\n",
        "header: P3P: CP=\"ALL ADMi DEVi PSA CONi OUR DELi SAMi BUS NAV COM CNT ONL INT PHY DEM UNI\"\r\n",
        "header: Date: Fri, 19 Apr 2013 20:32:33 GMT\r\n",
        "header: Keep-Alive: timeout=5, max=89\r\n",
        "header: Connection: close\r\n",
        "header: Set-Cookie: MERCURYDCSP=Xjx4RxpBfGL2Svwxs17dcJgBPsn4c1Kg4mccZ80PQ8WZLCmCDBTy!707802878!1764318319; domain=.dice.com; path=/; HttpOnly\r\n",
        "header: Set-Cookie: REL_CODE=1102; domain=.dice.com; path=/\r\n",
        "header: Set-Cookie: VISIT50322=ed74329d0c11d81623ad3df9bd5ab541; domain=.dice.com; expires=Sunday, 19-Apr-2015 20:32:33 GMT; path=/\r\n",
        "header: X-Powered-By: Servlet/2.5 JSP/2.1\r\n",
        "send:"
       ]
      },
      {
       "output_type": "stream",
       "stream": "stdout",
       "text": [
        " 'POST /job/wwwSearch.html HTTP/1.1\\r\\nContent-Length: 59\\r\\nAccept-Encoding: gzip\\r\\nHost: www.dice.com\\r\\nUser-Agent: Mozilla/5.0(X11; U; Linux i686; en-US; rv:1.9.0.1) Gecko/2008071615 Fedora/3.0.1-1.fc9 Firefox/3.0.1\\r\\nConnection: close\\r\\nCookie: MERCURYDCSP=Xjx4RxpBfGL2Svwxs17dcJgBPsn4c1Kg4mccZ80PQ8WZLCmCDBTy!707802878!1764318319; VISIT50322=ed74329d0c11d81623ad3df9bd5ab541; REL_CODE=1102\\r\\nReferer: http://www.dice.com\\r\\nContent-Type: application/x-www-form-urlencoded\\r\\n\\r\\nFREE_TEXT=software+engineer&CALLER=basic&WHERE=Austin%2C+TX'\n",
        "reply:"
       ]
      },
      {
       "output_type": "stream",
       "stream": "stdout",
       "text": [
        " 'HTTP/1.1 302 Moved Temporarily\\r\\n'\n",
        "header: Server: Apache\r\n",
        "header: Vary: Accept-Encoding\r\n",
        "header: Cache-Control: no-cache\r\n",
        "header: Cache-Control: no-store\r\n",
        "header: Content-Type: text/plain\r\n",
        "header: Content-Encoding: gzip\r\n",
        "header: P3P: CP=\"ALL ADMi DEVi PSA CONi OUR DELi SAMi BUS NAV COM CNT ONL INT PHY DEM UNI\"\r\n",
        "header: Date: Fri, 19 Apr 2013 20:32:34 GMT\r\n",
        "header: Location: http://www.dice.com/job/results/73301?caller=basic&q=software+engineer&x=all&p=z\r\n",
        "header: Keep-Alive: timeout=5, max=100\r\n",
        "header: Expires: Thu, 01 Jan 1970 00:00:00 GMT\r\n",
        "header: Pragma: no-cache\r\n",
        "header: Content-Language: en-US\r\n",
        "header: Connection: close\r\n",
        "header: X-Powered-By: Servlet/2.5 JSP/2.1\r\n",
        "send:"
       ]
      },
      {
       "output_type": "stream",
       "stream": "stdout",
       "text": [
        " 'GET /job/results/73301?caller=basic&q=software+engineer&x=all&p=z HTTP/1.1\\r\\nAccept-Encoding: gzip\\r\\nHost: www.dice.com\\r\\nUser-Agent: Mozilla/5.0(X11; U; Linux i686; en-US; rv:1.9.0.1) Gecko/2008071615 Fedora/3.0.1-1.fc9 Firefox/3.0.1\\r\\nConnection: close\\r\\nReferer: http://www.dice.com/job/wwwSearch.html\\r\\nCookie: MERCURYDCSP=Xjx4RxpBfGL2Svwxs17dcJgBPsn4c1Kg4mccZ80PQ8WZLCmCDBTy!707802878!1764318319; VISIT50322=ed74329d0c11d81623ad3df9bd5ab541; REL_CODE=1102\\r\\n\\r\\n'\n",
        "reply:"
       ]
      },
      {
       "output_type": "stream",
       "stream": "stdout",
       "text": [
        " 'HTTP/1.1 200 OK\\r\\n'\n",
        "header: Server: Apache\r\n",
        "header: Vary: Accept-Encoding\r\n",
        "header: Cache-Control: no-cache\r\n",
        "header: Cache-Control: no-store\r\n",
        "header: Content-Type: text/html;charset=UTF-8\r\n",
        "header: Content-Encoding: gzip\r\n",
        "header: P3P: CP=\"ALL ADMi DEVi PSA CONi OUR DELi SAMi BUS NAV COM CNT ONL INT PHY DEM UNI\"\r\n",
        "header: Date: Fri, 19 Apr 2013 20:32:34 GMT\r\n",
        "header: Keep-Alive: timeout=5, max=93\r\n",
        "header: Expires: Thu, 01 Jan 1970 00:00:00 GMT\r\n",
        "header: Pragma: no-cache\r\n",
        "header: Content-Language: en-US\r\n",
        "header: Connection: close\r\n",
        "header: X-Powered-By: Servlet/2.5 JSP/2.1\r\n",
        "send:"
       ]
      },
      {
       "output_type": "stream",
       "stream": "stdout",
       "text": [
        " 'GET /job/results/73301?caller=basic&o=30&q=software+engineer&x=all&p=z HTTP/1.1\\r\\nAccept-Encoding: gzip\\r\\nHost: www.dice.com\\r\\nUser-Agent: Mozilla/5.0(X11; U; Linux i686; en-US; rv:1.9.0.1) Gecko/2008071615 Fedora/3.0.1-1.fc9 Firefox/3.0.1\\r\\nConnection: close\\r\\nCookie: MERCURYDCSP=Xjx4RxpBfGL2Svwxs17dcJgBPsn4c1Kg4mccZ80PQ8WZLCmCDBTy!707802878!1764318319; VISIT50322=ed74329d0c11d81623ad3df9bd5ab541; REL_CODE=1102\\r\\nReferer: http://www.dice.com/job/wwwSearch.html\\r\\n\\r\\n'\n",
        "reply:"
       ]
      },
      {
       "output_type": "stream",
       "stream": "stdout",
       "text": [
        " 'HTTP/1.1 200 OK\\r\\n'\n",
        "header: Server: Apache\r\n",
        "header: Vary: Accept-Encoding\r\n",
        "header: Cache-Control: no-cache\r\n",
        "header: Cache-Control: no-store\r\n",
        "header: Content-Type: text/html;charset=UTF-8\r\n",
        "header: Content-Encoding: gzip\r\n",
        "header: P3P: CP=\"ALL ADMi DEVi PSA CONi OUR DELi SAMi BUS NAV COM CNT ONL INT PHY DEM UNI\"\r\n",
        "header: Date: Fri, 19 Apr 2013 20:32:36 GMT\r\n",
        "header: Keep-Alive: timeout=5, max=100\r\n",
        "header: Expires: Thu, 01 Jan 1970 00:00:00 GMT\r\n",
        "header: Pragma: no-cache\r\n",
        "header: Content-Language: en-US\r\n",
        "header: Connection: close\r\n",
        "header: X-Powered-By: Servlet/2.5 JSP/2.1\r\n",
        "send:"
       ]
      },
      {
       "output_type": "stream",
       "stream": "stdout",
       "text": [
        " 'GET /job/results/73301?caller=basic&o=60&q=software+engineer&x=all&p=z HTTP/1.1\\r\\nAccept-Encoding: gzip\\r\\nHost: www.dice.com\\r\\nUser-Agent: Mozilla/5.0(X11; U; Linux i686; en-US; rv:1.9.0.1) Gecko/2008071615 Fedora/3.0.1-1.fc9 Firefox/3.0.1\\r\\nConnection: close\\r\\nCookie: MERCURYDCSP=Xjx4RxpBfGL2Svwxs17dcJgBPsn4c1Kg4mccZ80PQ8WZLCmCDBTy!707802878!1764318319; VISIT50322=ed74329d0c11d81623ad3df9bd5ab541; REL_CODE=1102\\r\\nReferer: http://www.dice.com/job/results/73301?caller=basic&o=30&q=software+engineer&x=all&p=z\\r\\n\\r\\n'\n",
        "reply:"
       ]
      },
      {
       "output_type": "stream",
       "stream": "stdout",
       "text": [
        " 'HTTP/1.1 200 OK\\r\\n'\n",
        "header: Server: Apache\r\n",
        "header: Vary: Accept-Encoding\r\n",
        "header: Cache-Control: no-cache\r\n",
        "header: Cache-Control: no-store\r\n",
        "header: Content-Type: text/html;charset=UTF-8\r\n",
        "header: Content-Encoding: gzip\r\n",
        "header: P3P: CP=\"ALL ADMi DEVi PSA CONi OUR DELi SAMi BUS NAV COM CNT ONL INT PHY DEM UNI\"\r\n",
        "header: Date: Fri, 19 Apr 2013 20:32:37 GMT\r\n",
        "header: Keep-Alive: timeout=5, max=82\r\n",
        "header: Expires: Thu, 01 Jan 1970 00:00:00 GMT\r\n",
        "header: Pragma: no-cache\r\n",
        "header: Content-Language: en-US\r\n",
        "header: Connection: close\r\n",
        "header: X-Powered-By: Servlet/2.5 JSP/2.1\r\n",
        "send:"
       ]
      },
      {
       "output_type": "stream",
       "stream": "stdout",
       "text": [
        " 'GET /job/results/73301?caller=basic&o=90&q=software+engineer&x=all&p=z HTTP/1.1\\r\\nAccept-Encoding: gzip\\r\\nHost: www.dice.com\\r\\nUser-Agent: Mozilla/5.0(X11; U; Linux i686; en-US; rv:1.9.0.1) Gecko/2008071615 Fedora/3.0.1-1.fc9 Firefox/3.0.1\\r\\nConnection: close\\r\\nCookie: MERCURYDCSP=Xjx4RxpBfGL2Svwxs17dcJgBPsn4c1Kg4mccZ80PQ8WZLCmCDBTy!707802878!1764318319; VISIT50322=ed74329d0c11d81623ad3df9bd5ab541; REL_CODE=1102\\r\\nReferer: http://www.dice.com/job/results/73301?caller=basic&o=60&q=software+engineer&x=all&p=z\\r\\n\\r\\n'\n",
        "reply:"
       ]
      },
      {
       "output_type": "stream",
       "stream": "stdout",
       "text": [
        " 'HTTP/1.1 200 OK\\r\\n'\n",
        "header: Server: Apache\r\n",
        "header: Vary: Accept-Encoding\r\n",
        "header: Cache-Control: no-cache\r\n",
        "header: Cache-Control: no-store\r\n",
        "header: Content-Type: text/html;charset=UTF-8\r\n",
        "header: Content-Encoding: gzip\r\n",
        "header: P3P: CP=\"ALL ADMi DEVi PSA CONi OUR DELi SAMi BUS NAV COM CNT ONL INT PHY DEM UNI\"\r\n",
        "header: Date: Fri, 19 Apr 2013 20:32:38 GMT\r\n",
        "header: Keep-Alive: timeout=5, max=24\r\n",
        "header: Expires: Thu, 01 Jan 1970 00:00:00 GMT\r\n",
        "header: Pragma: no-cache\r\n",
        "header: Content-Language: en-US\r\n",
        "header: Connection: close\r\n",
        "header: X-Powered-By: Servlet/2.5 JSP/2.1\r\n",
        "send:"
       ]
      },
      {
       "output_type": "stream",
       "stream": "stdout",
       "text": [
        " 'GET /job/results/73301?caller=basic&o=120&q=software+engineer&x=all&p=z HTTP/1.1\\r\\nAccept-Encoding: gzip\\r\\nHost: www.dice.com\\r\\nUser-Agent: Mozilla/5.0(X11; U; Linux i686; en-US; rv:1.9.0.1) Gecko/2008071615 Fedora/3.0.1-1.fc9 Firefox/3.0.1\\r\\nConnection: close\\r\\nCookie: MERCURYDCSP=Xjx4RxpBfGL2Svwxs17dcJgBPsn4c1Kg4mccZ80PQ8WZLCmCDBTy!707802878!1764318319; VISIT50322=ed74329d0c11d81623ad3df9bd5ab541; REL_CODE=1102\\r\\nReferer: http://www.dice.com/job/results/73301?caller=basic&o=90&q=software+engineer&x=all&p=z\\r\\n\\r\\n'\n",
        "reply:"
       ]
      },
      {
       "output_type": "stream",
       "stream": "stdout",
       "text": [
        " 'HTTP/1.1 200 OK\\r\\n'\n",
        "header: Server: Apache\r\n",
        "header: Vary: Accept-Encoding\r\n",
        "header: Cache-Control: no-cache\r\n",
        "header: Cache-Control: no-store\r\n",
        "header: Content-Type: text/html;charset=UTF-8\r\n",
        "header: Content-Encoding: gzip\r\n",
        "header: P3P: CP=\"ALL ADMi DEVi PSA CONi OUR DELi SAMi BUS NAV COM CNT ONL INT PHY DEM UNI\"\r\n",
        "header: Date: Fri, 19 Apr 2013 20:32:40 GMT\r\n",
        "header: Keep-Alive: timeout=5, max=93\r\n",
        "header: Expires: Thu, 01 Jan 1970 00:00:00 GMT\r\n",
        "header: Pragma: no-cache\r\n",
        "header: Content-Language: en-US\r\n",
        "header: Connection: close\r\n",
        "header: X-Powered-By: Servlet/2.5 JSP/2.1\r\n",
        "send:"
       ]
      },
      {
       "output_type": "stream",
       "stream": "stdout",
       "text": [
        " 'GET /job/results/73301?caller=basic&o=150&q=software+engineer&x=all&p=z HTTP/1.1\\r\\nAccept-Encoding: gzip\\r\\nHost: www.dice.com\\r\\nUser-Agent: Mozilla/5.0(X11; U; Linux i686; en-US; rv:1.9.0.1) Gecko/2008071615 Fedora/3.0.1-1.fc9 Firefox/3.0.1\\r\\nConnection: close\\r\\nCookie: MERCURYDCSP=Xjx4RxpBfGL2Svwxs17dcJgBPsn4c1Kg4mccZ80PQ8WZLCmCDBTy!707802878!1764318319; VISIT50322=ed74329d0c11d81623ad3df9bd5ab541; REL_CODE=1102\\r\\nReferer: http://www.dice.com/job/results/73301?caller=basic&o=120&q=software+engineer&x=all&p=z\\r\\n\\r\\n'\n",
        "reply:"
       ]
      },
      {
       "output_type": "stream",
       "stream": "stdout",
       "text": [
        " 'HTTP/1.1 200 OK\\r\\n'\n",
        "header: Server: Apache\r\n",
        "header: Vary: Accept-Encoding\r\n",
        "header: Cache-Control: no-cache\r\n",
        "header: Cache-Control: no-store\r\n",
        "header: Content-Type: text/html;charset=UTF-8\r\n",
        "header: Content-Encoding: gzip\r\n",
        "header: P3P: CP=\"ALL ADMi DEVi PSA CONi OUR DELi SAMi BUS NAV COM CNT ONL INT PHY DEM UNI\"\r\n",
        "header: Date: Fri, 19 Apr 2013 20:32:41 GMT\r\n",
        "header: Keep-Alive: timeout=5, max=96\r\n",
        "header: Expires: Thu, 01 Jan 1970 00:00:00 GMT\r\n",
        "header: Pragma: no-cache\r\n",
        "header: Content-Language: en-US\r\n",
        "header: Connection: close\r\n",
        "header: X-Powered-By: Servlet/2.5 JSP/2.1\r\n",
        "send:"
       ]
      },
      {
       "output_type": "stream",
       "stream": "stdout",
       "text": [
        " 'GET /job/results/73301?caller=basic&o=180&q=software+engineer&x=all&p=z HTTP/1.1\\r\\nAccept-Encoding: gzip\\r\\nHost: www.dice.com\\r\\nUser-Agent: Mozilla/5.0(X11; U; Linux i686; en-US; rv:1.9.0.1) Gecko/2008071615 Fedora/3.0.1-1.fc9 Firefox/3.0.1\\r\\nConnection: close\\r\\nCookie: MERCURYDCSP=Xjx4RxpBfGL2Svwxs17dcJgBPsn4c1Kg4mccZ80PQ8WZLCmCDBTy!707802878!1764318319; VISIT50322=ed74329d0c11d81623ad3df9bd5ab541; REL_CODE=1102\\r\\nReferer: http://www.dice.com/job/results/73301?caller=basic&o=150&q=software+engineer&x=all&p=z\\r\\n\\r\\n'\n",
        "reply:"
       ]
      },
      {
       "ename": "IndexError",
       "evalue": "list index out of range",
       "output_type": "pyerr",
       "traceback": [
        "\u001b[1;31m---------------------------------------------------------------------------\u001b[0m\n\u001b[1;31mIndexError\u001b[0m                                Traceback (most recent call last)",
        "\u001b[1;32m<ipython-input-3-ae437172b2f6>\u001b[0m in \u001b[0;36m<module>\u001b[1;34m()\u001b[0m\n\u001b[1;32m----> 1\u001b[1;33m \u001b[0mtest\u001b[0m \u001b[1;33m=\u001b[0m \u001b[0mreturn_jobs_from_dice2\u001b[0m\u001b[1;33m(\u001b[0m\u001b[1;34m'software engineer'\u001b[0m\u001b[1;33m,\u001b[0m \u001b[1;34m'Austin, TX'\u001b[0m\u001b[1;33m)\u001b[0m\u001b[1;33m\u001b[0m\u001b[0m\n\u001b[0m",
        "\u001b[1;32m<ipython-input-2-cbb18d5032cb>\u001b[0m in \u001b[0;36mreturn_jobs_from_dice2\u001b[1;34m(position, location)\u001b[0m\n\u001b[0;32m     26\u001b[0m             \u001b[0mcurrent_links\u001b[0m \u001b[1;33m=\u001b[0m \u001b[1;33m[\u001b[0m\u001b[0mj\u001b[0m \u001b[1;32mfor\u001b[0m \u001b[0mj\u001b[0m \u001b[1;32min\u001b[0m \u001b[0mbr\u001b[0m\u001b[1;33m.\u001b[0m\u001b[0mlinks\u001b[0m\u001b[1;33m(\u001b[0m\u001b[1;33m)\u001b[0m\u001b[1;33m]\u001b[0m\u001b[1;33m\u001b[0m\u001b[0m\n\u001b[0;32m     27\u001b[0m             \u001b[0mcur_start\u001b[0m \u001b[1;33m=\u001b[0m \u001b[0mcurrent_links\u001b[0m\u001b[1;33m.\u001b[0m\u001b[0mindex\u001b[0m\u001b[1;33m(\u001b[0m\u001b[1;33m[\u001b[0m\u001b[0ml\u001b[0m \u001b[1;32mfor\u001b[0m \u001b[0ml\u001b[0m \u001b[1;32min\u001b[0m \u001b[0mcurrent_links\u001b[0m \u001b[1;32mif\u001b[0m \u001b[0ml\u001b[0m\u001b[1;33m.\u001b[0m\u001b[0mtext\u001b[0m \u001b[1;33m==\u001b[0m \u001b[1;34m'Location'\u001b[0m\u001b[1;33m]\u001b[0m\u001b[1;33m[\u001b[0m\u001b[1;36m0\u001b[0m\u001b[1;33m]\u001b[0m\u001b[1;33m)\u001b[0m\u001b[1;33m+\u001b[0m\u001b[1;36m2\u001b[0m\u001b[1;33m\u001b[0m\u001b[0m\n\u001b[1;32m---> 28\u001b[1;33m             \u001b[0mcur_end\u001b[0m \u001b[1;33m=\u001b[0m \u001b[0mcurrent_links\u001b[0m\u001b[1;33m.\u001b[0m\u001b[0mindex\u001b[0m\u001b[1;33m(\u001b[0m\u001b[1;33m[\u001b[0m\u001b[0ml\u001b[0m \u001b[1;32mfor\u001b[0m \u001b[0ml\u001b[0m \u001b[1;32min\u001b[0m \u001b[0mcurrent_links\u001b[0m \u001b[1;32mif\u001b[0m \u001b[0ml\u001b[0m\u001b[1;33m.\u001b[0m\u001b[0mtext\u001b[0m \u001b[1;33m==\u001b[0m \u001b[1;34m'1'\u001b[0m\u001b[1;33m]\u001b[0m\u001b[1;33m[\u001b[0m\u001b[1;36m0\u001b[0m\u001b[1;33m]\u001b[0m\u001b[1;33m,\u001b[0m \u001b[0mcur_start\u001b[0m\u001b[1;33m)\u001b[0m\u001b[1;33m\u001b[0m\u001b[0m\n\u001b[0m\u001b[0;32m     29\u001b[0m             \u001b[0mjobs\u001b[0m \u001b[1;33m+=\u001b[0m \u001b[0mcurrent_links\u001b[0m\u001b[1;33m[\u001b[0m\u001b[0mcur_start\u001b[0m\u001b[1;33m:\u001b[0m\u001b[0mcur_end\u001b[0m\u001b[1;33m]\u001b[0m\u001b[1;33m\u001b[0m\u001b[0m\n\u001b[0;32m     30\u001b[0m         \u001b[1;32mwhile\u001b[0m \u001b[0mlen\u001b[0m\u001b[1;33m(\u001b[0m\u001b[1;33m[\u001b[0m\u001b[0mi\u001b[0m \u001b[1;32mfor\u001b[0m \u001b[0mi\u001b[0m \u001b[1;32min\u001b[0m \u001b[0mjobs\u001b[0m \u001b[1;32mif\u001b[0m \u001b[0mlen\u001b[0m\u001b[1;33m(\u001b[0m\u001b[0mi\u001b[0m\u001b[1;33m.\u001b[0m\u001b[0mattrs\u001b[0m\u001b[1;33m)\u001b[0m \u001b[1;33m>\u001b[0m \u001b[1;36m1\u001b[0m\u001b[1;33m]\u001b[0m\u001b[1;33m)\u001b[0m \u001b[1;33m>\u001b[0m \u001b[1;36m0\u001b[0m\u001b[1;33m:\u001b[0m\u001b[1;33m\u001b[0m\u001b[0m\n",
        "\u001b[1;31mIndexError\u001b[0m: list index out of range"
       ]
      },
      {
       "output_type": "stream",
       "stream": "stdout",
       "text": [
        " 'HTTP/1.1 200 OK\\r\\n'\n",
        "header: Server: Apache\r\n",
        "header: Vary: Accept-Encoding\r\n",
        "header: Cache-Control: no-cache\r\n",
        "header: Cache-Control: no-store\r\n",
        "header: Content-Type: text/html;charset=UTF-8\r\n",
        "header: Content-Encoding: gzip\r\n",
        "header: P3P: CP=\"ALL ADMi DEVi PSA CONi OUR DELi SAMi BUS NAV COM CNT ONL INT PHY DEM UNI\"\r\n",
        "header: Date: Fri, 19 Apr 2013 20:32:42 GMT\r\n",
        "header: Keep-Alive: timeout=5, max=73\r\n",
        "header: Expires: Thu, 01 Jan 1970 00:00:00 GMT\r\n",
        "header: Pragma: no-cache\r\n",
        "header: Content-Language: en-US\r\n",
        "header: Connection: close\r\n",
        "header: X-Powered-By: Servlet/2.5 JSP/2.1\r\n"
       ]
      },
      {
       "output_type": "stream",
       "stream": "stderr",
       "text": [
        "-c:10: UserWarning: gzip transfer encoding is experimental!\n"
       ]
      }
     ],
     "prompt_number": 3
    },
    {
     "cell_type": "code",
     "collapsed": false,
     "input": [],
     "language": "python",
     "metadata": {},
     "outputs": [],
     "prompt_number": 3
    },
    {
     "cell_type": "code",
     "collapsed": false,
     "input": [],
     "language": "python",
     "metadata": {},
     "outputs": [],
     "prompt_number": 3
    },
    {
     "cell_type": "code",
     "collapsed": false,
     "input": [],
     "language": "python",
     "metadata": {},
     "outputs": [],
     "prompt_number": 3
    },
    {
     "cell_type": "code",
     "collapsed": false,
     "input": [],
     "language": "python",
     "metadata": {},
     "outputs": [],
     "prompt_number": 3
    },
    {
     "cell_type": "code",
     "collapsed": false,
     "input": [],
     "language": "python",
     "metadata": {},
     "outputs": [
      {
       "output_type": "pyout",
       "prompt_number": 79,
       "text": [
        "['__cmp__',\n",
        " '__doc__',\n",
        " '__init__',\n",
        " '__module__',\n",
        " '__repr__',\n",
        " 'absolute_url',\n",
        " 'attrs',\n",
        " 'base_url',\n",
        " 'tag',\n",
        " 'text',\n",
        " 'url']"
       ]
      }
     ],
     "prompt_number": 79
    },
    {
     "cell_type": "code",
     "collapsed": false,
     "input": [],
     "language": "python",
     "metadata": {},
     "outputs": [],
     "prompt_number": 3
    },
    {
     "cell_type": "code",
     "collapsed": false,
     "input": [],
     "language": "python",
     "metadata": {},
     "outputs": [],
     "prompt_number": 3
    },
    {
     "cell_type": "code",
     "collapsed": false,
     "input": [],
     "language": "python",
     "metadata": {},
     "outputs": [],
     "prompt_number": 3
    },
    {
     "cell_type": "code",
     "collapsed": false,
     "input": [],
     "language": "python",
     "metadata": {},
     "outputs": [],
     "prompt_number": 3
    },
    {
     "cell_type": "code",
     "collapsed": false,
     "input": [],
     "language": "python",
     "metadata": {},
     "outputs": [],
     "prompt_number": 3
    },
    {
     "cell_type": "code",
     "collapsed": false,
     "input": [],
     "language": "python",
     "metadata": {},
     "outputs": []
    }
   ],
   "metadata": {}
  }
 ]
}