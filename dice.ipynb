{
 "metadata": {
  "name": "dice"
 },
 "nbformat": 3,
 "nbformat_minor": 0,
 "worksheets": [
  {
   "cells": [
    {
     "cell_type": "code",
     "collapsed": false,
     "input": [
      "import mechanize\n",
      "import cookielib\n",
      "cj = cookielib.LWPCookieJar()\n",
      "br = mechanize.Browser()\n",
      "br.addheaders = [('User-Agent', 'Mozilla/5.0(X11; U; Linux i686; en-US; rv:1.9.0.1) Gecko/2008071615 Fedora/3.0.1-1.fc9 Firefox/3.0.1')]\n",
      "br.set_debug_http(True)\n",
      "br.set_debug_redirects(True)\n",
      "br.set_handle_equiv(True)\n",
      "br.set_handle_gzip(True)\n",
      "br.set_handle_redirect(True)\n",
      "br.set_handle_robots(False)"
     ],
     "language": "python",
     "metadata": {},
     "outputs": [
      {
       "output_type": "stream",
       "stream": "stderr",
       "text": [
        "-c:9: UserWarning: gzip transfer encoding is experimental!\n"
       ]
      }
     ],
     "prompt_number": 2
    },
    {
     "cell_type": "code",
     "collapsed": false,
     "input": [
      "def return_jobs_from_dice(url, position, location):\n",
      "    import mechanize\n",
      "    import cookielib\n",
      "    cj = cookielib.LWPCookieJar()\n",
      "    br = mechanize.Browser()\n",
      "    br.addheaders = [('User-Agent', 'Mozilla/5.0(X11; U; Linux i686; en-US; rv:1.9.0.1) Gecko/2008071615 Fedora/3.0.1-1.fc9 Firefox/3.0.1')]\n",
      "    br.set_debug_http(True)\n",
      "    br.set_debug_redirects(True)\n",
      "    br.set_handle_equiv(True)\n",
      "    br.set_handle_gzip(True)\n",
      "    br.set_handle_redirect(True)\n",
      "    br.set_handle_robots(False)\n",
      "    br.open(url)\n",
      "    br.select_form(nr=0)\n",
      "    br.form['FREE_TEXT'] = position\n",
      "    br.form['WHERE'] = location\n",
      "    br.submit()\n",
      "    links = [i for i in br.links()]\n",
      "    start_of_pages = links.index([i for i in links if i.text == '1'][0])\n",
      "    stop_pages_index = None\n",
      "    stop_link = [i for i in links if i.text == 'Next']\n",
      "    if len(stop_link) > 0:\n",
      "        stop_pages_index = links.index(stop_link[0])\n",
      "    if stop_pages_index != None:\n",
      "        pages = links[start_of_pages:stop_pages_index]\n",
      "    else:\n",
      "        pages = [links[start_of_pages]]\n",
      "    start_of_jobs = links.index([i for i in links if i.text == 'Location'][0]) + 2\n",
      "    stop_of_jobs  = links.index([i for i in links if i.text == '1'][0], start_of_jobs)\n",
      "    jobs = links[start_of_jobs:stop_of_jobs]\n",
      "    # parse other pages and get their links\n",
      "    del pages[0]\n",
      "    if len(pages) > 0:\n",
      "        for i in pages:\n",
      "            br.follow_link(i)\n",
      "            current_links = [i for i in br.links()]\n",
      "            start_of_jobs = current_links.index([i for i in current_links if i.text == 'Location'][0]) + 2\n",
      "            stop_of_jobs = current_links.index([i for i in current_links if i.text == 'Prev'][0], start_of_jobs)\n",
      "            current_page_jobs = current_links[start_of_jobs:stop_of_jobs]\n",
      "            jobs += current_page_jobs\n",
      "    # get rid of all the company and city links\n",
      "    to_delete = []\n",
      "    count = 0\n",
      "    for j in range(len(jobs)):\n",
      "        if j != count and count < len(jobs):\n",
      "            jobs[count].text += jobs[j].text \n",
      "            to_delete.append(jobs[j])\n",
      "        else:\n",
      "            count = count + 3\n",
      "    for obsolete in to_delete:\n",
      "        del jobs[jobs.index(obsolete)]\n",
      "    return jobs"
     ],
     "language": "python",
     "metadata": {},
     "outputs": [],
     "prompt_number": 82
    },
    {
     "cell_type": "code",
     "collapsed": false,
     "input": [
      "test = return_jobs_from_dice('http://www.dice.com', 'ruby developer', 'Austin, TX')"
     ],
     "language": "python",
     "metadata": {},
     "outputs": [
      {
       "output_type": "stream",
       "stream": "stdout",
       "text": [
        "send: 'GET / HTTP/1.1\\r\\nHost: www.dice.com\\r\\nUser-Agent: Mozilla/5.0(X11; U; Linux i686; en-US; rv:1.9.0.1) Gecko/2008071615 Fedora/3.0.1-1.fc9 Firefox/3.0.1\\r\\nConnection: close\\r\\nAccept-Encoding: gzip\\r\\n\\r\\n'\n",
        "reply:"
       ]
      },
      {
       "output_type": "stream",
       "stream": "stdout",
       "text": [
        " 'HTTP/1.1 200 OK\\r\\n'\n",
        "header: Server: Apache\r\n",
        "header: Vary: Accept-Encoding\r\n",
        "header: Content-Type: text/html; charset=ISO-8859-1\r\n",
        "header: Content-Encoding: gzip\r\n",
        "header: P3P: CP=\"ALL ADMi DEVi PSA CONi OUR DELi SAMi BUS NAV COM CNT ONL INT PHY DEM UNI\"\r\n",
        "header: Date: Wed, 17 Apr 2013 15:37:30 GMT\r\n",
        "header: Keep-Alive: timeout=5, max=95\r\n",
        "header: Connection: close\r\n",
        "header: Set-Cookie: MERCURYDCSP=hl4QRnBhTxbw3mHbLvby7tJkBHfrKmVftWZTBZRgFyHc8z2m34sG!-1904549363!1830297334; domain=.dice.com; path=/; HttpOnly\r\n",
        "header: Set-Cookie: REL_CODE=1102; domain=.dice.com; path=/\r\n",
        "header: Set-Cookie: VISIT50322=ecb18460031e769d66688ad4a77a1d49; domain=.dice.com; expires=Friday, 17-Apr-2015 15:37:30 GMT; path=/\r\n",
        "header: X-Powered-By: Servlet/2.5 JSP/2.1\r\n",
        "send:"
       ]
      },
      {
       "output_type": "stream",
       "stream": "stdout",
       "text": [
        " 'POST /job/wwwSearch.html HTTP/1.1\\r\\nContent-Length: 56\\r\\nAccept-Encoding: gzip\\r\\nHost: www.dice.com\\r\\nUser-Agent: Mozilla/5.0(X11; U; Linux i686; en-US; rv:1.9.0.1) Gecko/2008071615 Fedora/3.0.1-1.fc9 Firefox/3.0.1\\r\\nConnection: close\\r\\nCookie: MERCURYDCSP=hl4QRnBhTxbw3mHbLvby7tJkBHfrKmVftWZTBZRgFyHc8z2m34sG!-1904549363!1830297334; VISIT50322=ecb18460031e769d66688ad4a77a1d49; REL_CODE=1102\\r\\nReferer: http://www.dice.com\\r\\nContent-Type: application/x-www-form-urlencoded\\r\\n\\r\\nFREE_TEXT=ruby+developer&CALLER=basic&WHERE=Austin%2C+TX'\n",
        "reply:"
       ]
      },
      {
       "output_type": "stream",
       "stream": "stdout",
       "text": [
        " 'HTTP/1.1 302 Moved Temporarily\\r\\n'\n",
        "header: Server: Apache\r\n",
        "header: Vary: Accept-Encoding\r\n",
        "header: Cache-Control: no-cache\r\n",
        "header: Cache-Control: no-store\r\n",
        "header: Content-Type: text/plain\r\n",
        "header: Content-Encoding: gzip\r\n",
        "header: P3P: CP=\"ALL ADMi DEVi PSA CONi OUR DELi SAMi BUS NAV COM CNT ONL INT PHY DEM UNI\"\r\n",
        "header: Date: Wed, 17 Apr 2013 15:37:33 GMT\r\n",
        "header: Location: http://www.dice.com/job/results/73301?caller=basic&q=ruby+developer&x=all&p=z\r\n",
        "header: Keep-Alive: timeout=5, max=100\r\n",
        "header: Expires: Thu, 01 Jan 1970 00:00:00 GMT\r\n",
        "header: Pragma: no-cache\r\n",
        "header: Content-Language: en-US\r\n",
        "header: Connection: close\r\n",
        "header: X-Powered-By: Servlet/2.5 JSP/2.1\r\n",
        "send:"
       ]
      },
      {
       "output_type": "stream",
       "stream": "stdout",
       "text": [
        " 'GET /job/results/73301?caller=basic&q=ruby+developer&x=all&p=z HTTP/1.1\\r\\nAccept-Encoding: gzip\\r\\nHost: www.dice.com\\r\\nUser-Agent: Mozilla/5.0(X11; U; Linux i686; en-US; rv:1.9.0.1) Gecko/2008071615 Fedora/3.0.1-1.fc9 Firefox/3.0.1\\r\\nConnection: close\\r\\nReferer: http://www.dice.com/job/wwwSearch.html\\r\\nCookie: MERCURYDCSP=hl4QRnBhTxbw3mHbLvby7tJkBHfrKmVftWZTBZRgFyHc8z2m34sG!-1904549363!1830297334; VISIT50322=ecb18460031e769d66688ad4a77a1d49; REL_CODE=1102\\r\\n\\r\\n'\n",
        "reply:"
       ]
      },
      {
       "output_type": "stream",
       "stream": "stdout",
       "text": [
        " 'HTTP/1.1 200 OK\\r\\n'\n",
        "header: Server: Apache\r\n",
        "header: Vary: Accept-Encoding\r\n",
        "header: Cache-Control: no-cache\r\n",
        "header: Cache-Control: no-store\r\n",
        "header: Content-Type: text/html;charset=UTF-8\r\n",
        "header: Content-Encoding: gzip\r\n",
        "header: P3P: CP=\"ALL ADMi DEVi PSA CONi OUR DELi SAMi BUS NAV COM CNT ONL INT PHY DEM UNI\"\r\n",
        "header: Date: Wed, 17 Apr 2013 15:37:36 GMT\r\n",
        "header: Keep-Alive: timeout=5, max=99\r\n",
        "header: Expires: Thu, 01 Jan 1970 00:00:00 GMT\r\n",
        "header: Pragma: no-cache\r\n",
        "header: Content-Language: en-US\r\n",
        "header: Connection: close\r\n",
        "header: X-Powered-By: Servlet/2.5 JSP/2.1\r\n"
       ]
      }
     ],
     "prompt_number": 83
    },
    {
     "cell_type": "code",
     "collapsed": false,
     "input": [
      "more_testing = return_jobs_from_dice('http://www.dice.com', 'ruby developer', 'Austin, TX')"
     ],
     "language": "python",
     "metadata": {},
     "outputs": [
      {
       "output_type": "stream",
       "stream": "stdout",
       "text": [
        "send: 'GET / HTTP/1.1\\r\\nHost: www.dice.com\\r\\nUser-Agent: Mozilla/5.0(X11; U; Linux i686; en-US; rv:1.9.0.1) Gecko/2008071615 Fedora/3.0.1-1.fc9 Firefox/3.0.1\\r\\nConnection: close\\r\\nAccept-Encoding: gzip\\r\\n\\r\\n'\n",
        "reply:"
       ]
      },
      {
       "output_type": "stream",
       "stream": "stdout",
       "text": [
        " 'HTTP/1.1 200 OK\\r\\n'\n",
        "header: Server: Apache\r\n",
        "header: Vary: Accept-Encoding\r\n",
        "header: Content-Type: text/html; charset=ISO-8859-1\r\n",
        "header: Content-Encoding: gzip\r\n",
        "header: P3P: CP=\"ALL ADMi DEVi PSA CONi OUR DELi SAMi BUS NAV COM CNT ONL INT PHY DEM UNI\"\r\n",
        "header: Date: Wed, 17 Apr 2013 15:19:08 GMT\r\n",
        "header: Keep-Alive: timeout=5, max=92\r\n",
        "header: Connection: close\r\n",
        "header: Set-Cookie: MERCURYDCSP=kpdbRn9MTgG12rn2f6L2VL69hQZT0Ghjq7R24svFBh1fkZxyMV0x!-381006781!1845695062; domain=.dice.com; path=/; HttpOnly\r\n",
        "header: Set-Cookie: REL_CODE=1102; domain=.dice.com; path=/\r\n",
        "header: Set-Cookie: VISIT50322=c4687c60b1a593b4e8316791fc73f14d; domain=.dice.com; expires=Friday, 17-Apr-2015 15:19:08 GMT; path=/\r\n",
        "header: X-Powered-By: Servlet/2.5 JSP/2.1\r\n",
        "send:"
       ]
      },
      {
       "output_type": "stream",
       "stream": "stdout",
       "text": [
        " 'POST /job/wwwSearch.html HTTP/1.1\\r\\nContent-Length: 56\\r\\nAccept-Encoding: gzip\\r\\nHost: www.dice.com\\r\\nUser-Agent: Mozilla/5.0(X11; U; Linux i686; en-US; rv:1.9.0.1) Gecko/2008071615 Fedora/3.0.1-1.fc9 Firefox/3.0.1\\r\\nConnection: close\\r\\nCookie: MERCURYDCSP=kpdbRn9MTgG12rn2f6L2VL69hQZT0Ghjq7R24svFBh1fkZxyMV0x!-381006781!1845695062; VISIT50322=c4687c60b1a593b4e8316791fc73f14d; REL_CODE=1102\\r\\nReferer: http://www.dice.com\\r\\nContent-Type: application/x-www-form-urlencoded\\r\\n\\r\\nFREE_TEXT=ruby+developer&CALLER=basic&WHERE=Austin%2C+TX'\n",
        "reply:"
       ]
      },
      {
       "output_type": "stream",
       "stream": "stdout",
       "text": [
        " 'HTTP/1.1 302 Moved Temporarily\\r\\n'\n",
        "header: Server: Apache\r\n",
        "header: Vary: Accept-Encoding\r\n",
        "header: Cache-Control: no-cache\r\n",
        "header: Cache-Control: no-store\r\n",
        "header: Content-Type: text/plain\r\n",
        "header: Content-Encoding: gzip\r\n",
        "header: P3P: CP=\"ALL ADMi DEVi PSA CONi OUR DELi SAMi BUS NAV COM CNT ONL INT PHY DEM UNI\"\r\n",
        "header: Date: Wed, 17 Apr 2013 15:19:08 GMT\r\n",
        "header: Location: http://www.dice.com/job/results/73301?caller=basic&q=ruby+developer&x=all&p=z\r\n",
        "header: Keep-Alive: timeout=5, max=100\r\n",
        "header: Expires: Thu, 01 Jan 1970 00:00:00 GMT\r\n",
        "header: Pragma: no-cache\r\n",
        "header: Content-Language: en-US\r\n",
        "header: Connection: close\r\n",
        "header: X-Powered-By: Servlet/2.5 JSP/2.1\r\n",
        "send:"
       ]
      },
      {
       "output_type": "stream",
       "stream": "stdout",
       "text": [
        " 'GET /job/results/73301?caller=basic&q=ruby+developer&x=all&p=z HTTP/1.1\\r\\nAccept-Encoding: gzip\\r\\nHost: www.dice.com\\r\\nUser-Agent: Mozilla/5.0(X11; U; Linux i686; en-US; rv:1.9.0.1) Gecko/2008071615 Fedora/3.0.1-1.fc9 Firefox/3.0.1\\r\\nConnection: close\\r\\nReferer: http://www.dice.com/job/wwwSearch.html\\r\\nCookie: MERCURYDCSP=kpdbRn9MTgG12rn2f6L2VL69hQZT0Ghjq7R24svFBh1fkZxyMV0x!-381006781!1845695062; VISIT50322=c4687c60b1a593b4e8316791fc73f14d; REL_CODE=1102\\r\\n\\r\\n'\n",
        "reply:"
       ]
      },
      {
       "output_type": "stream",
       "stream": "stdout",
       "text": [
        " 'HTTP/1.1 200 OK\\r\\n'\n",
        "header: Server: Apache\r\n",
        "header: Vary: Accept-Encoding\r\n",
        "header: Cache-Control: no-cache\r\n",
        "header: Cache-Control: no-store\r\n",
        "header: Content-Type: text/html;charset=UTF-8\r\n",
        "header: Content-Encoding: gzip\r\n",
        "header: P3P: CP=\"ALL ADMi DEVi PSA CONi OUR DELi SAMi BUS NAV COM CNT ONL INT PHY DEM UNI\"\r\n",
        "header: Date: Wed, 17 Apr 2013 15:19:09 GMT\r\n",
        "header: Keep-Alive: timeout=5, max=86\r\n",
        "header: Expires: Thu, 01 Jan 1970 00:00:00 GMT\r\n",
        "header: Pragma: no-cache\r\n",
        "header: Content-Language: en-US\r\n",
        "header: Connection: close\r\n",
        "header: X-Powered-By: Servlet/2.5 JSP/2.1\r\n"
       ]
      }
     ],
     "prompt_number": 73
    },
    {
     "cell_type": "code",
     "collapsed": false,
     "input": [
      "for i in more_testing:\n",
      "    print i.text"
     ],
     "language": "python",
     "metadata": {},
     "outputs": [
      {
       "output_type": "stream",
       "stream": "stdout",
       "text": [
        "Ruby on Rails Developer\n",
        "Ruby on Rails Developer - REST API's, Banking, High Volume\n",
        "Senior Ruby on Rails Developer\n",
        "1. F5 Configuration w/ LTM-GTM Exp 2. Ruby on Rails Developer 3. Front End Graphic Designer\n",
        "Senior Ruby on Rail Developer\n",
        "Ruby on Rails Developer\n",
        "PHP Developer - PHP, JAva, Ruby\n",
        "Ruby on Rails Developers\n",
        "Web Developer\n",
        "Software Developer\n",
        "CMS Developer\n",
        "Mobile Web Developer - iOS or Android or Blackberry, JavaScript\n",
        "Programmer Analyst\n",
        "Sr. Software Developer\n",
        "Software Developer\n",
        "Software Engineer - Software Developer - Java/J2EE - Agile\n",
        "QA Engineer - Java, Selenium, Python\n",
        "Web Application Developer\n",
        "Web Developer\n",
        "ElectricCommander Automation Engineer - Austin TX\n",
        "QA Automation Engineer\n",
        "QA Automation Engineer\n",
        "Cloud Operations Engineer-Dev/Ops\n",
        "Application Services Engineer\n",
        "Sr. Automation Engineer\n"
       ]
      }
     ],
     "prompt_number": 74
    },
    {
     "cell_type": "code",
     "collapsed": false,
     "input": [
      "tampa = return_jobs_from_dice('http://www.dice.com', 'python developer', 'Tampa, FL')"
     ],
     "language": "python",
     "metadata": {},
     "outputs": [
      {
       "output_type": "stream",
       "stream": "stdout",
       "text": [
        "send: 'GET / HTTP/1.1\\r\\nHost: www.dice.com\\r\\nUser-Agent: Mozilla/5.0(X11; U; Linux i686; en-US; rv:1.9.0.1) Gecko/2008071615 Fedora/3.0.1-1.fc9 Firefox/3.0.1\\r\\nConnection: close\\r\\nAccept-Encoding: gzip\\r\\n\\r\\n'\n",
        "reply:"
       ]
      },
      {
       "output_type": "stream",
       "stream": "stdout",
       "text": [
        " 'HTTP/1.1 200 OK\\r\\n'\n",
        "header: Server: Apache\r\n",
        "header: Vary: Accept-Encoding\r\n",
        "header: Content-Type: text/html; charset=ISO-8859-1\r\n",
        "header: Content-Encoding: gzip\r\n",
        "header: P3P: CP=\"ALL ADMi DEVi PSA CONi OUR DELi SAMi BUS NAV COM CNT ONL INT PHY DEM UNI\"\r\n",
        "header: Date: Wed, 17 Apr 2013 15:19:58 GMT\r\n",
        "header: Keep-Alive: timeout=5, max=100\r\n",
        "header: Connection: close\r\n",
        "header: Set-Cookie: MERCURYDCSP=5JdkRn9p7wrG616fYBGzX1Lq6cCt91bP0hpbTC7K7nQ4FY7pgPW2!-1904549363!-1654541012; domain=.dice.com; path=/; HttpOnly\r\n",
        "header: Set-Cookie: REL_CODE=1102; domain=.dice.com; path=/\r\n",
        "header: Set-Cookie: VISIT50322=248eea99251d9737bd3fd6e005c0b7a7; domain=.dice.com; expires=Friday, 17-Apr-2015 15:19:58 GMT; path=/\r\n",
        "header: X-Powered-By: Servlet/2.5 JSP/2.1\r\n",
        "send:"
       ]
      },
      {
       "output_type": "stream",
       "stream": "stdout",
       "text": [
        " 'POST /job/wwwSearch.html HTTP/1.1\\r\\nContent-Length: 57\\r\\nAccept-Encoding: gzip\\r\\nHost: www.dice.com\\r\\nUser-Agent: Mozilla/5.0(X11; U; Linux i686; en-US; rv:1.9.0.1) Gecko/2008071615 Fedora/3.0.1-1.fc9 Firefox/3.0.1\\r\\nConnection: close\\r\\nCookie: MERCURYDCSP=5JdkRn9p7wrG616fYBGzX1Lq6cCt91bP0hpbTC7K7nQ4FY7pgPW2!-1904549363!-1654541012; VISIT50322=248eea99251d9737bd3fd6e005c0b7a7; REL_CODE=1102\\r\\nReferer: http://www.dice.com\\r\\nContent-Type: application/x-www-form-urlencoded\\r\\n\\r\\nFREE_TEXT=python+developer&CALLER=basic&WHERE=Tampa%2C+FL'\n",
        "reply:"
       ]
      },
      {
       "output_type": "stream",
       "stream": "stdout",
       "text": [
        " 'HTTP/1.1 302 Moved Temporarily\\r\\n'\n",
        "header: Server: Apache\r\n",
        "header: Vary: Accept-Encoding\r\n",
        "header: Cache-Control: no-cache\r\n",
        "header: Cache-Control: no-store\r\n",
        "header: Content-Type: text/plain\r\n",
        "header: Content-Encoding: gzip\r\n",
        "header: P3P: CP=\"ALL ADMi DEVi PSA CONi OUR DELi SAMi BUS NAV COM CNT ONL INT PHY DEM UNI\"\r\n",
        "header: Date: Wed, 17 Apr 2013 15:20:02 GMT\r\n",
        "header: Location: http://www.dice.com/job/results/33601?caller=basic&q=python+developer&x=all&p=z\r\n",
        "header: Keep-Alive: timeout=5, max=100\r\n",
        "header: Expires: Thu, 01 Jan 1970 00:00:00 GMT\r\n",
        "header: Pragma: no-cache\r\n",
        "header: Content-Language: en-US\r\n",
        "header: Connection: close\r\n",
        "header: X-Powered-By: Servlet/2.5 JSP/2.1\r\n",
        "send:"
       ]
      },
      {
       "output_type": "stream",
       "stream": "stdout",
       "text": [
        " 'GET /job/results/33601?caller=basic&q=python+developer&x=all&p=z HTTP/1.1\\r\\nAccept-Encoding: gzip\\r\\nHost: www.dice.com\\r\\nUser-Agent: Mozilla/5.0(X11; U; Linux i686; en-US; rv:1.9.0.1) Gecko/2008071615 Fedora/3.0.1-1.fc9 Firefox/3.0.1\\r\\nConnection: close\\r\\nReferer: http://www.dice.com/job/wwwSearch.html\\r\\nCookie: MERCURYDCSP=5JdkRn9p7wrG616fYBGzX1Lq6cCt91bP0hpbTC7K7nQ4FY7pgPW2!-1904549363!-1654541012; VISIT50322=248eea99251d9737bd3fd6e005c0b7a7; REL_CODE=1102\\r\\n\\r\\n'\n",
        "reply:"
       ]
      },
      {
       "output_type": "stream",
       "stream": "stdout",
       "text": [
        " 'HTTP/1.1 200 OK\\r\\n'\n",
        "header: Server: Apache\r\n",
        "header: Vary: Accept-Encoding\r\n",
        "header: Cache-Control: no-cache\r\n",
        "header: Cache-Control: no-store\r\n",
        "header: Content-Type: text/html;charset=UTF-8\r\n",
        "header: Content-Encoding: gzip\r\n",
        "header: P3P: CP=\"ALL ADMi DEVi PSA CONi OUR DELi SAMi BUS NAV COM CNT ONL INT PHY DEM UNI\"\r\n",
        "header: Date: Wed, 17 Apr 2013 15:20:04 GMT\r\n",
        "header: Keep-Alive: timeout=5, max=99\r\n",
        "header: Expires: Thu, 01 Jan 1970 00:00:00 GMT\r\n",
        "header: Pragma: no-cache\r\n",
        "header: Content-Language: en-US\r\n",
        "header: Connection: close\r\n",
        "header: X-Powered-By: Servlet/2.5 JSP/2.1\r\n"
       ]
      }
     ],
     "prompt_number": 76
    },
    {
     "cell_type": "code",
     "collapsed": false,
     "input": [
      "for i in tampa:\n",
      "    print i.text"
     ],
     "language": "python",
     "metadata": {},
     "outputs": [
      {
       "output_type": "stream",
       "stream": "stdout",
       "text": [
        "SENIOR PYTHON DEVELOPER\n",
        "Junior Python Developer\n",
        "Java Developer with Google Apps\n",
        ".Net Developer\n",
        "Java Developer (Google Apps Development)\n",
        "Application Programmer 4\n",
        "Senior Developer .NET, C# and ASP.net\n",
        "Sr. .Net Application Developer - Lead\n",
        "Senior .Net / SQL Server Developer\n",
        ".Net/ASP/SQL Developer-29115\n",
        "Lead - Sr Java Developer\n"
       ]
      }
     ],
     "prompt_number": 77
    },
    {
     "cell_type": "code",
     "collapsed": false,
     "input": [
      "dir(tampa[0])"
     ],
     "language": "python",
     "metadata": {},
     "outputs": [
      {
       "output_type": "pyout",
       "prompt_number": 79,
       "text": [
        "['__cmp__',\n",
        " '__doc__',\n",
        " '__init__',\n",
        " '__module__',\n",
        " '__repr__',\n",
        " 'absolute_url',\n",
        " 'attrs',\n",
        " 'base_url',\n",
        " 'tag',\n",
        " 'text',\n",
        " 'url']"
       ]
      }
     ],
     "prompt_number": 79
    },
    {
     "cell_type": "code",
     "collapsed": false,
     "input": [
      "for i in test:\n",
      "    print i.text"
     ],
     "language": "python",
     "metadata": {},
     "outputs": [
      {
       "output_type": "stream",
       "stream": "stdout",
       "text": [
        "Ruby on Rails Developer\n",
        "Ruby on Rails Developer - REST API's, Banking, High VolumeNAMTEK Corp.Austin, TX\n",
        "Senior Ruby on Rails DeveloperCyberCodersAustin, TX\n",
        "1. F5 Configuration w/ LTM-GTM Exp 2. Ruby on Rails Developer 3. Front End Graphic DesignerPeopleAdmin, Inc.Austin, TX\n",
        "Senior Ruby on Rail DeveloperR Systems, Inc.Austin, TX\n",
        "Ruby on Rails DevelopervtrITAustin, TX\n",
        "PHP Developer - PHP, JAva, RubyRandstad TechnologiesCedar Park, TX\n",
        "Ruby on Rails DevelopersCyberCodersRound Rock, TX\n",
        "Web DeveloperOne-To-One Staffing, Inc.Austin, TX\n",
        "Mobile Web Developer - iOS or Android or Blackberry, JavaScriptUnivar USAAustin, TX\n",
        "Programmer AnalystCyberCodersAustin, TX\n",
        "CMS DeveloperAustin Ribbon & Computer (ARC)Austin, TX\n",
        "Software DeveloperVaco - AustinAustin, TX\n",
        "Software DeveloperCyberCodersAustin, TX\n",
        "Sr. Software DeveloperVanderHouwen & Associates, Inc.Austin, TX\n",
        "Software Engineer - Software Developer - Java/J2EE - AgileRandstad TechnologiesAustin, TX\n",
        "QA Engineer - Java, Selenium, PythonCyberCodersAustin, TX\n",
        "Web Application DeveloperCyberCodersSan Marcos, TX\n",
        "Web DeveloperKinnser Software, Inc.Austin, TX\n",
        "QA Automation EngineerMedPro Technology StaffingAustin, TX\n",
        "ElectricCommander Automation Engineer - Austin TXDolphin Solutions IncAustin, TX\n",
        "Application Services EngineerNew Iron Group, Inc.Austin, TX\n",
        "Sr. Automation EngineerRandstad TechnologiesAustin, TX\n",
        "Cloud Operations Engineer-Dev/OpsTAD PGS, IncAustin, TX\n",
        "QA Automation EngineerConnecttel, IncAustin, TX\n",
        "Modis\n",
        "Austin, TX\n"
       ]
      }
     ],
     "prompt_number": 84
    },
    {
     "cell_type": "code",
     "collapsed": false,
     "input": [
      "class Career(object):\n",
      "    import mechanize\n",
      "    import cookielib\n",
      "    def __init__(self, position, location):\n",
      "        self.browser = mechanize.Browser()\n",
      "        self.cj = cookielib.LWPCookieJar()\n",
      "        self.position = position\n",
      "        self.location = location\n",
      "        self.jobs = []\n",
      "    \n",
      "    def setup(self):\n",
      "        self.browser.addheaders = [('User-Agent', 'Mozilla/5.0(X11; U; Linux i686; en-US; rv:1.9.0.1) Gecko/2008071615 Fedora/3.0.1-1.fc9 Firefox/3.0.1')]\n",
      "        self.browser.set_cookiejar(self.cj)\n",
      "        self.browser.set_debug_http(True)\n",
      "        self.browser.set_debug_redirects(True)\n",
      "        self.browser.set_handle_equiv(True)\n",
      "        self.browser.set_handle_gzip(True)\n",
      "        self.browser.set_handle_redirect(True)\n",
      "        self.browser.set_handle_robots(False)\n",
      "        \n",
      "    def build_jobs(self):\n",
      "        current = return_jobs_from_dice('http://www.dice.com', self.position, self.location)\n",
      "        self.jobs += current\n",
      "        return current"
     ],
     "language": "python",
     "metadata": {},
     "outputs": [],
     "prompt_number": 89
    },
    {
     "cell_type": "code",
     "collapsed": false,
     "input": [
      "New = Career('python developer', 'Saint Louis, MO')"
     ],
     "language": "python",
     "metadata": {},
     "outputs": [],
     "prompt_number": 90
    },
    {
     "cell_type": "code",
     "collapsed": false,
     "input": [
      "New.setup()\n",
      "New.build_jobs()"
     ],
     "language": "python",
     "metadata": {},
     "outputs": [
      {
       "output_type": "stream",
       "stream": "stdout",
       "text": [
        "send: 'GET / HTTP/1.1\\r\\nHost: www.dice.com\\r\\nUser-Agent: Mozilla/5.0(X11; U; Linux i686; en-US; rv:1.9.0.1) Gecko/2008071615 Fedora/3.0.1-1.fc9 Firefox/3.0.1\\r\\nConnection: close\\r\\nAccept-Encoding: gzip\\r\\n\\r\\n'\n",
        "reply:"
       ]
      },
      {
       "output_type": "stream",
       "stream": "stdout",
       "text": [
        " 'HTTP/1.1 200 OK\\r\\n'\n",
        "header: Server: Apache\r\n",
        "header: Vary: Accept-Encoding\r\n",
        "header: Content-Type: text/html; charset=ISO-8859-1\r\n",
        "header: Content-Encoding: gzip\r\n",
        "header: P3P: CP=\"ALL ADMi DEVi PSA CONi OUR DELi SAMi BUS NAV COM CNT ONL INT PHY DEM UNI\"\r\n",
        "header: Date: Wed, 17 Apr 2013 16:49:58 GMT\r\n",
        "header: Keep-Alive: timeout=5, max=71\r\n",
        "header: Connection: close\r\n",
        "header: Set-Cookie: MERCURYDCSP=9lY8RnSW5BjvX475QvZs22GtBL8vJT2mG7jhkJHV88JkG9PnrPFx!-1904549363!1830297334; domain=.dice.com; path=/; HttpOnly\r\n",
        "header: Set-Cookie: REL_CODE=1102; domain=.dice.com; path=/\r\n",
        "header: Set-Cookie: VISIT50322=340fcf087a182bf8c038090104688a71; domain=.dice.com; expires=Friday, 17-Apr-2015 16:49:58 GMT; path=/\r\n",
        "header: X-Powered-By: Servlet/2.5 JSP/2.1\r\n",
        "send:"
       ]
      },
      {
       "output_type": "stream",
       "stream": "stdout",
       "text": [
        " 'POST /job/wwwSearch.html HTTP/1.1\\r\\nContent-Length: 63\\r\\nAccept-Encoding: gzip\\r\\nHost: www.dice.com\\r\\nUser-Agent: Mozilla/5.0(X11; U; Linux i686; en-US; rv:1.9.0.1) Gecko/2008071615 Fedora/3.0.1-1.fc9 Firefox/3.0.1\\r\\nConnection: close\\r\\nCookie: MERCURYDCSP=9lY8RnSW5BjvX475QvZs22GtBL8vJT2mG7jhkJHV88JkG9PnrPFx!-1904549363!1830297334; VISIT50322=340fcf087a182bf8c038090104688a71; REL_CODE=1102\\r\\nReferer: http://www.dice.com\\r\\nContent-Type: application/x-www-form-urlencoded\\r\\n\\r\\nFREE_TEXT=python+developer&CALLER=basic&WHERE=Saint+Louis%2C+MO'\n",
        "reply:"
       ]
      },
      {
       "output_type": "stream",
       "stream": "stdout",
       "text": [
        " 'HTTP/1.1 302 Moved Temporarily\\r\\n'\n",
        "header: Server: Apache\r\n",
        "header: Vary: Accept-Encoding\r\n",
        "header: Cache-Control: no-cache\r\n",
        "header: Cache-Control: no-store\r\n",
        "header: Content-Type: text/plain\r\n",
        "header: Content-Encoding: gzip\r\n",
        "header: P3P: CP=\"ALL ADMi DEVi PSA CONi OUR DELi SAMi BUS NAV COM CNT ONL INT PHY DEM UNI\"\r\n",
        "header: Date: Wed, 17 Apr 2013 16:49:59 GMT\r\n",
        "header: Location: http://www.dice.com/job/results/63101?caller=basic&q=python+developer&x=all&p=z\r\n",
        "header: Keep-Alive: timeout=5, max=100\r\n",
        "header: Expires: Thu, 01 Jan 1970 00:00:00 GMT\r\n",
        "header: Pragma: no-cache\r\n",
        "header: Content-Language: en-US\r\n",
        "header: Connection: close\r\n",
        "header: X-Powered-By: Servlet/2.5 JSP/2.1\r\n",
        "send:"
       ]
      },
      {
       "output_type": "stream",
       "stream": "stdout",
       "text": [
        " 'GET /job/results/63101?caller=basic&q=python+developer&x=all&p=z HTTP/1.1\\r\\nAccept-Encoding: gzip\\r\\nHost: www.dice.com\\r\\nUser-Agent: Mozilla/5.0(X11; U; Linux i686; en-US; rv:1.9.0.1) Gecko/2008071615 Fedora/3.0.1-1.fc9 Firefox/3.0.1\\r\\nConnection: close\\r\\nCookie: MERCURYDCSP=9lY8RnSW5BjvX475QvZs22GtBL8vJT2mG7jhkJHV88JkG9PnrPFx!-1904549363!1830297334; VISIT50322=340fcf087a182bf8c038090104688a71; REL_CODE=1102\\r\\nReferer: http://www.dice.com/job/wwwSearch.html\\r\\n\\r\\n'\n",
        "reply:"
       ]
      },
      {
       "output_type": "stream",
       "stream": "stdout",
       "text": [
        " 'HTTP/1.1 200 OK\\r\\n'\n",
        "header: Server: Apache\r\n",
        "header: Vary: Accept-Encoding\r\n",
        "header: Cache-Control: no-cache\r\n",
        "header: Cache-Control: no-store\r\n",
        "header: Content-Type: text/html;charset=UTF-8\r\n",
        "header: Content-Encoding: gzip\r\n",
        "header: P3P: CP=\"ALL ADMi DEVi PSA CONi OUR DELi SAMi BUS NAV COM CNT ONL INT PHY DEM UNI\"\r\n",
        "header: Date: Wed, 17 Apr 2013 16:50:01 GMT\r\n",
        "header: Keep-Alive: timeout=5, max=100\r\n",
        "header: Expires: Thu, 01 Jan 1970 00:00:00 GMT\r\n",
        "header: Pragma: no-cache\r\n",
        "header: Content-Language: en-US\r\n",
        "header: Connection: close\r\n",
        "header: X-Powered-By: Servlet/2.5 JSP/2.1\r\n"
       ]
      },
      {
       "output_type": "pyout",
       "prompt_number": 92,
       "text": [
        "[Link(base_url='http://www.dice.com/job/results/63101?caller=basic&q=python+developer&x=all&p=z', url='/job/result/FERGCONS/B-RI112912-6?src=19&q=python%20developer', text='Big Data', tag='a', attrs=[('href', '/job/result/FERGCONS/B-RI112912-6?src=19&q=python developer')]),\n",
        " Link(base_url='http://www.dice.com/job/results/63101?caller=basic&q=python+developer&x=all&p=z', url='/job/result/10117081/20120310-6390?src=19&q=python%20developer', text='Senior Application Security Engineer - St. Louis, MOFerguson Consulting, Inc.Saint Louis, MO', tag='a', attrs=[('href', '/job/result/10117081/20120310-6390?src=19&q=python developer')]),\n",
        " Link(base_url='http://www.dice.com/job/results/63101?caller=basic&q=python+developer&x=all&p=z', url='/job/result/FERGCONS/B-M12055-3?src=19&q=python%20developer', text='Data ArchitectScottradeSaint Louis, MO', tag='a', attrs=[('href', '/job/result/FERGCONS/B-M12055-3?src=19&q=python developer')]),\n",
        " Link(base_url='http://www.dice.com/job/results/63101?caller=basic&q=python+developer&x=all&p=z', url='/job/result/10113857/2006?src=19&q=python%20developer', text='Applications DeveloperFerguson Consulting, Inc.Saint Louis, MO', tag='a', attrs=[('href', '/job/result/10113857/2006?src=19&q=python developer')]),\n",
        " Link(base_url='http://www.dice.com/job/results/63101?caller=basic&q=python+developer&x=all&p=z', url='/jobsearch/company/DiceId_10113857/10113857', text='Esri, Inc.', tag='a', attrs=[('href', '/jobsearch/company/DiceId_10113857/10113857'), ('title', 'Find more jobs at Find more jobs at Esri, Inc.')]),\n",
        " Link(base_url='http://www.dice.com/job/results/63101?caller=basic&q=python+developer&x=all&p=z', url='/job/results/saint-louis-mo/63101?caller=basic&q=python+developer&src=19&x=all&p=cz', text='Saint Louis, MO', tag='a', attrs=[('href', '/job/results/saint-louis-mo/63101?caller=basic&q=python+developer&src=19&x=all&p=cz'), ('title', 'Find more jobs at ')])]"
       ]
      }
     ],
     "prompt_number": 92
    },
    {
     "cell_type": "code",
     "collapsed": false,
     "input": [
      "for i in New.jobs:\n",
      "    print i.text"
     ],
     "language": "python",
     "metadata": {},
     "outputs": [
      {
       "output_type": "stream",
       "stream": "stdout",
       "text": [
        "Big Data\n",
        "Senior Application Security Engineer - St. Louis, MOFerguson Consulting, Inc.Saint Louis, MO\n",
        "Data ArchitectScottradeSaint Louis, MO\n",
        "Applications DeveloperFerguson Consulting, Inc.Saint Louis, MO\n",
        "Esri, Inc.\n",
        "Saint Louis, MO\n"
       ]
      }
     ],
     "prompt_number": 93
    },
    {
     "cell_type": "code",
     "collapsed": false,
     "input": [],
     "language": "python",
     "metadata": {},
     "outputs": []
    }
   ],
   "metadata": {}
  }
 ]
}